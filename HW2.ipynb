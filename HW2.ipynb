{
  "nbformat": 4,
  "nbformat_minor": 0,
  "metadata": {
    "colab": {
      "name": "HW2.ipynb",
      "provenance": [],
      "authorship_tag": "ABX9TyPIuJIZxI0DaYlk55YQU0Vz",
      "include_colab_link": true
    },
    "kernelspec": {
      "name": "python3",
      "display_name": "Python 3"
    },
    "language_info": {
      "name": "python"
    }
  },
  "cells": [
    {
      "cell_type": "markdown",
      "metadata": {
        "id": "view-in-github",
        "colab_type": "text"
      },
      "source": [
        "<a href=\"https://colab.research.google.com/github/ricaiu/MLPNS2021/blob/main/HW2.ipynb\" target=\"_parent\"><img src=\"https://colab.research.google.com/assets/colab-badge.svg\" alt=\"Open In Colab\"/></a>"
      ]
    },
    {
      "cell_type": "code",
      "metadata": {
        "colab": {
          "base_uri": "https://localhost:8080/"
        },
        "id": "dMjU2E9cbUDV",
        "outputId": "53b62841-e308-4e69-a0a4-1bfb3eb8f88c"
      },
      "source": [
        "from __future__ import print_function\n",
        "__author__= 'fbb'\n",
        "\n",
        "import pylab as pl\n",
        "from scipy.optimize import curve_fit, minimize\n",
        "    \n",
        "%pylab inline\n",
        "# this package sets up pretty plots\n",
        "import seaborn\n",
        "seaborn.set_style(\"darkgrid\")"
      ],
      "execution_count": 1,
      "outputs": [
        {
          "output_type": "stream",
          "text": [
            "Populating the interactive namespace from numpy and matplotlib\n"
          ],
          "name": "stdout"
        }
      ]
    },
    {
      "cell_type": "code",
      "metadata": {
        "id": "JTaI5QaWbWRU"
      },
      "source": [
        "\n",
        "#distributions = ['pois', 'gaus', 'chisq', 'cauchy', 'lnorm', 'binomial']\n",
        "distributions = ['chisq']"
      ],
      "execution_count": 2,
      "outputs": []
    },
    {
      "cell_type": "code",
      "metadata": {
        "id": "j226eTqebZsH"
      },
      "source": [
        "\n",
        "mymean = 100\n",
        "df = mymean\n",
        "p_binomial=1/2\n",
        "n_binomial=int(mymean/p_binomial)"
      ],
      "execution_count": 15,
      "outputs": []
    },
    {
      "cell_type": "code",
      "metadata": {
        "colab": {
          "base_uri": "https://localhost:8080/",
          "height": 279
        },
        "id": "wm5Zx3h2bcOg",
        "outputId": "2d1f9a82-d8b1-4112-99e8-181d8a903ba9"
      },
      "source": [
        "import numpy as np\n",
        "np.random.seed(456)\n",
        "md = {}\n",
        "# md is an empty disctionary; \n",
        "# if you are not familiar with python dictionaries see https://www.pythonforbeginners.com/dictionary/how-to-use-dictionaries-in-python\n",
        "md['chisq'] = np.random.chisquare(df, size=100)\n",
        "md['gaus'] = np.random.normal(mymean, size=100)\n",
        "md['pois'] = np.random.poisson(mymean, size=100)\n",
        "md['binomial'] = np.random.binomial(n_binomial,p_binomial, size=100)\n",
        "md['laplace'] = np.random.laplace(mymean, size=100)\n",
        "# md now is a dictionary with one object: an array by the key 'chisq'\n",
        "pl.hist(md['chisq'], bins = 30)\n",
        "pl.ylabel('N')\n",
        "pl.xlabel('x');\n",
        "pl.hist(md['chisq'], bins = 30)\n",
        "pl.ylabel('N')\n",
        "pl.xlabel('x');\n",
        "pl.hist(md['chisq'], bins = 30)\n",
        "pl.ylabel('N')\n",
        "pl.xlabel('x');\n",
        "pl.hist(md['chisq'], bins = 30)\n",
        "pl.ylabel('N')\n",
        "pl.xlabel('x');\n",
        "pl.hist(md['chisq'], bins = 30)\n",
        "pl.ylabel('N')\n",
        "pl.xlabel('x');"
      ],
      "execution_count": 16,
      "outputs": [
        {
          "output_type": "display_data",
          "data": {
            "image/png": "[encoded data removed]",
            "text/plain": [
              "<Figure size 432x288 with 1 Axes>"
            ]
          },
          "metadata": {
            "tags": [],
            "needs_background": "light"
          }
        }
      ]
    },
    {
      "cell_type": "code",
      "metadata": {
        "colab": {
          "base_uri": "https://localhost:8080/"
        },
        "id": "q3ob3GTZbt0d",
        "outputId": "1936d123-c9ec-409c-9c09-8ea4c1f76054"
      },
      "source": [
        "print (\"Chisq mean: %.2f, standard deviation: %.2f\"%(md['chisq'].mean(), md['chisq'].std()))"
      ],
      "execution_count": 7,
      "outputs": [
        {
          "output_type": "stream",
          "text": [
            "Chisq mean: 100.09, standard deviation: 13.24\n"
          ],
          "name": "stdout"
        }
      ]
    },
    {
      "cell_type": "code",
      "metadata": {
        "colab": {
          "base_uri": "https://localhost:8080/"
        },
        "id": "QVq1KQKMckHS",
        "outputId": "743fe346-09ee-4b1b-bb84-4090a7b8dcef"
      },
      "source": [
        "mysize = (2000 / (np.array(range(1, 100)))).astype(int)\n",
        "# mysize = 1000 / (np.array(range(1, 100) + [10]))\n",
        "# mysize = (np.random.rand(100) * 1000).astype(int)\n",
        "print (\"shape of the 'size' list that contains the size of each distribution\", mysize.shape)"
      ],
      "execution_count": 8,
      "outputs": [
        {
          "output_type": "stream",
          "text": [
            "shape of the 'size' list that contains the size of each distribution (99,)\n"
          ],
          "name": "stdout"
        }
      ]
    },
    {
      "cell_type": "code",
      "metadata": {
        "colab": {
          "base_uri": "https://localhost:8080/",
          "height": 296
        },
        "id": "YHJeba_8coZ7",
        "outputId": "73070225-270c-400a-eb9e-862b9e700caa"
      },
      "source": [
        "\n",
        "pl.plot(mysize, '.')\n",
        "pl.xlabel(\"index\")\n",
        "pl.ylabel(\"size of the array\")\n"
      ],
      "execution_count": 9,
      "outputs": [
        {
          "output_type": "execute_result",
          "data": {
            "text/plain": [
              "Text(0, 0.5, 'size of the array')"
            ]
          },
          "metadata": {
            "tags": []
          },
          "execution_count": 9
        },
        {
          "output_type": "display_data",
          "data": {
            "image/png": "[encoded data removed]",
            "text/plain": [
              "<Figure size 432x288 with 1 Axes>"
            ]
          },
          "metadata": {
            "tags": [],
            "needs_background": "light"
          }
        }
      ]
    },
    {
      "cell_type": "code",
      "metadata": {
        "colab": {
          "base_uri": "https://localhost:8080/",
          "height": 433
        },
        "id": "pK6EhFCjcwmg",
        "outputId": "1f7467e8-e428-4593-fd2c-ddd7dbe73055"
      },
      "source": [
        "# I am gonna overwrite the disctionary entry created into a nested dictionary \n",
        "# the outside dictionary hosts the distributions as dictionary, \n",
        "# and each distribution dictionary contains the 100 distribution (arrays of diferent sizes)\n",
        "\n",
        "md['chisq'] = {} \n",
        "\n",
        "#and do it in a for loop. not pythonic, but easily readable\n",
        "\n",
        "for n in mysize:\n",
        "    md['chisq'][n] = np.random.chisquare(df, size = n)\n",
        "    \n",
        "# save the means for plotting later    \n",
        "\n",
        "md['chisq']['means'] = {}\n",
        "axchisq_mu_n = pl.figure(figsize=(10,6)).add_subplot(111)\n",
        "\n",
        "for nn in md['chisq']:\n",
        "    if not type(nn) == str:\n",
        "        md['chisq']['means'][nn] = md['chisq'][nn].mean()\n",
        "        #and plot it\n",
        "        axchisq_mu_n.plot(nn, md['chisq']['means'][nn], 'o')\n",
        "        axchisq_mu_n.set_xlabel('sample size', fontsize=18)\n",
        "        axchisq_mu_n.set_ylabel('sample mean', fontsize=18)\n",
        "        axchisq_mu_n.set_title('Chi squared', fontsize=18)\n",
        "        axchisq_mu_n.plot([min(mysize), max(mysize)], [df, df], 'k')\n",
        "axchisq_mu_n.text(axchisq_mu_n.get_xlim()[1] * .6, 100, \"expected mean\", \n",
        "                  va=\"bottom\", fontsize=20)"
      ],
      "execution_count": 10,
      "outputs": [
        {
          "output_type": "execute_result",
          "data": {
            "text/plain": [
              "Text(1259.3999999999999, 100, 'expected mean')"
            ]
          },
          "metadata": {
            "tags": []
          },
          "execution_count": 10
        },
        {
          "output_type": "display_data",
          "data": {
            "image/png": "[encoded data removed]",
            "text/plain": [
              "<Figure size 720x432 with 1 Axes>"
            ]
          },
          "metadata": {
            "tags": [],
            "needs_background": "light"
          }
        }
      ]
    },
    {
      "cell_type": "code",
      "metadata": {
        "colab": {
          "base_uri": "https://localhost:8080/",
          "height": 631
        },
        "id": "CHkly2jCc440",
        "outputId": "3ccd7181-b7e1-44d6-898c-174e4a8defec"
      },
      "source": [
        "allmeans = list(md['chisq']['means'].values())\n",
        "\n",
        "pl.figure(figsize=(10, 10))\n",
        "pl.hist(allmeans,bins=30)\n",
        "pl.xlabel('sample mean', fontsize = 18)\n",
        "pl.ylabel('N', fontsize = 18)"
      ],
      "execution_count": 11,
      "outputs": [
        {
          "output_type": "execute_result",
          "data": {
            "text/plain": [
              "Text(0, 0.5, 'N')"
            ]
          },
          "metadata": {
            "tags": []
          },
          "execution_count": 11
        },
        {
          "output_type": "display_data",
          "data": {
            "image/png": "[encoded data removed]",
            "text/plain": [
              "<Figure size 720x720 with 1 Axes>"
            ]
          },
          "metadata": {
            "tags": [],
            "needs_background": "light"
          }
        }
      ]
    },
    {
      "cell_type": "code",
      "metadata": {
        "id": "1DH8O8AIdKMc"
      },
      "source": [
        ""
      ],
      "execution_count": null,
      "outputs": []
    }
  ]
}