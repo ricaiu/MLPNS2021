{
  "nbformat": 4,
  "nbformat_minor": 0,
  "metadata": {
    "colab": {
      "name": "MLPNS2021midterm.ipynb",
      "provenance": [],
      "collapsed_sections": [],
      "toc_visible": true,
      "include_colab_link": true
    },
    "kernelspec": {
      "name": "python3",
      "display_name": "Python 3"
    }
  },
  "cells": [
    {
      "cell_type": "markdown",
      "metadata": {
        "id": "view-in-github",
        "colab_type": "text"
      },
      "source": [
        "<a href=\"https://colab.research.google.com/github/ricaiu/MLPNS2021/blob/main/MLPNS2021midterm.ipynb\" target=\"_parent\"><img src=\"https://colab.research.google.com/assets/colab-badge.svg\" alt=\"Open In Colab\"/></a>"
      ]
    },
    {
      "cell_type": "markdown",
      "metadata": {
        "id": "4tbkzMAe8atQ"
      },
      "source": [
        "#MLPNS 2021 midterm\n",
        "\n",
        "## instructions"
      ]
    },
    {
      "cell_type": "markdown",
      "metadata": {
        "id": "YO2n25U9uel0"
      },
      "source": [
        "# population trends by country through clustering analysis"
      ]
    },
    {
      "cell_type": "markdown",
      "metadata": {
        "id": "Wmn-7suu2MUl"
      },
      "source": [
        "# Please read in full before you start!\n",
        "\n",
        "This exercise combines the two machine learning methods that you have learned so far in this course: linear regression and clustering. \n",
        "\n",
        "There are multiple tasks and for some of them, **if you cannot complete the taks,  there are partial solutions you can access** so you don’t get stuck and can continue the exercise and demonstrate your ability to do the following tasks. I strongly encourage you to do so: there are 10 tasks and you only have ~2 hours! If any task takes you more than 20 minutes you should use the shortcut.\n",
        "\n",
        "I have collected from the World Bank database population grows time series for several countries. \n",
        "\n",
        "## The overall goal is to identify countries that have similar population growth trends over the years and possibly countries that have anomalous population growth. \n",
        "\n",
        "You will be guided to \n",
        "- acquire the data, \n",
        "- explore it and prepare it, \n",
        "- fit a linear model to the each time series, \n",
        "- use the parameters you obtain from that fit as input feature to K-means clustering to group countries based on the trends in the population growth. \n",
        "- You will also be asked to look inside the group and if you have time identify reasons why the Countries within the clusters that may suggest why the trends are similar (thiw sill be very speculative of course)\n",
        "\n",
        "**Make sure you show the characteristics of your data at every step** (by printing the shape of the data, the head of the data, the summary statistics of the data, or plot the data, whichever is apprioriate). \n",
        "\n",
        "**Every plot needs to have axis labels and a caption that describes what is being plotted and what should be noted in the plot** (e.g. global trends in the time series)\n",
        "\n",
        "Your \"grade\" will be based on the rendered notebook, i.e. on the summary a tables and the plots as I see them and the captions that describe them (the captions can be markdown cells in the notebook).\n",
        "\n",
        "After grading your notebook based on the rendered version I will restart it and run it. If it runs and produces  identical results you will get 100% of the points awarded in the previous step. Otherwise you will get 75%. **Make sure you stop a few minutes before the time expires to rerun the notebook!**\n",
        "\n",
        "## feel free to ask question on zoom or on slack!"
      ]
    },
    {
      "cell_type": "code",
      "metadata": {
        "id": "-E7s1FM5PkHC"
      },
      "source": [
        "# these are all the packages I used. But depending on your choices you may need more or other ones. That is ok!\n",
        "\n",
        "import pandas as pd\n",
        "from sklearn import preprocessing\n",
        "import pylab as pl\n",
        "import numpy as np\n",
        "from sklearn.cluster  import KMeans\n",
        "import scipy.optimize\n",
        "from scipy.optimize import minimize\n",
        "from scipy import stats\n",
        "\n",
        "\n",
        "pl.rcParams['font.size'] = 18"
      ],
      "execution_count": 1,
      "outputs": []
    },
    {
      "cell_type": "markdown",
      "metadata": {
        "id": "eO9RSHbeX6Jt"
      },
      "source": [
        "\n",
        "# PART 1 - data preparation\n"
      ]
    },
    {
      "cell_type": "markdown",
      "metadata": {
        "id": "zXfKxHTWuZdV"
      },
      "source": [
        "\n",
        "\n",
        "# TASK 1.I - read in the data\n",
        "the data is available in format _excel_ [here](https://github.com/fedhere/MLPNS2021/tree/main/midterm) called _country_pop.xls_\n",
        "\n",
        "Pandas has a function, similar to ```read_csv()``` which you used in class, called ```read_excel()```. Download the data in your drive and read it in with this function. You can either download it and read it from your drive. Please put it in a folder My\\ Drive/MLPNS (so that I can run the notebook seamlessly without having to change the path since I have the file stored in My\\ Drive/MLPNS). \n",
        "\n",
        "At the end the file should look like mine below. You should not spend more than 20 minutes on this or you will not have enough time to finish. If after 20 minutes you are still working on it consider using the shortcut\n",
        "\n",
        "## shortcut: \n",
        "if you have troubles reading in the original file with excel you can read in a csv file [here](https://github.com/fedhere/MLPNS2021/tree/main/midterm): the file is called _country_pop.csv_"
      ]
    },
    {
      "cell_type": "code",
      "metadata": {
        "colab": {
          "base_uri": "https://localhost:8080/"
        },
        "id": "zul6rb8yS6ic",
        "outputId": "601d808a-989f-4c93-e2ce-423c870a3f75"
      },
      "source": [
        "from google.colab import drive\n",
        "from IPython.display import Image\n",
        "drive.mount(\"/content/drive\")"
      ],
      "execution_count": 2,
      "outputs": [
        {
          "output_type": "stream",
          "text": [
            "Drive already mounted at /content/drive; to attempt to forcibly remount, call drive.mount(\"/content/drive\", force_remount=True).\n"
          ],
          "name": "stdout"
        }
      ]
    },
    {
      "cell_type": "code",
      "metadata": {
        "colab": {
          "base_uri": "https://localhost:8080/"
        },
        "id": "DvJr3r2wS6UY",
        "outputId": "f92e78bc-3669-4ab8-f45c-734aa244db18"
      },
      "source": [
        "cd drive/MyDrive/MLPNS/"
      ],
      "execution_count": 3,
      "outputs": [
        {
          "output_type": "stream",
          "text": [
            "/content/drive/MyDrive/MLPNS\n"
          ],
          "name": "stdout"
        }
      ]
    },
    {
      "cell_type": "code",
      "metadata": {
        "id": "UjXm_DWxS6M1"
      },
      "source": [
        "datain = pd.read_excel('country_pop.xls')"
      ],
      "execution_count": 4,
      "outputs": []
    },
    {
      "cell_type": "code",
      "metadata": {
        "colab": {
          "base_uri": "https://localhost:8080/"
        },
        "id": "mGl7_8muUUoi",
        "outputId": "f09fb87f-9d9d-4810-dbea-2a53dae0a7f0"
      },
      "source": [
        "datain.shape"
      ],
      "execution_count": 5,
      "outputs": [
        {
          "output_type": "execute_result",
          "data": {
            "text/plain": [
              "(267, 65)"
            ]
          },
          "metadata": {
            "tags": []
          },
          "execution_count": 5
        }
      ]
    },
    {
      "cell_type": "code",
      "metadata": {
        "colab": {
          "base_uri": "https://localhost:8080/",
          "height": 333
        },
        "id": "E5SnNIxtTcOV",
        "outputId": "17765cf3-5a09-43a7-e832-df1670be74b4"
      },
      "source": [
        "datain.tail()"
      ],
      "execution_count": 6,
      "outputs": [
        {
          "output_type": "execute_result",
          "data": {
            "text/html": [
              "<div>\n",
              "<style scoped>\n",
              "    .dataframe tbody tr th:only-of-type {\n",
              "        vertical-align: middle;\n",
              "    }\n",
              "\n",
              "    .dataframe tbody tr th {\n",
              "        vertical-align: top;\n",
              "    }\n",
              "\n",
              "    .dataframe thead th {\n",
              "        text-align: right;\n",
              "    }\n",
              "</style>\n",
              "<table border=\"1\" class=\"dataframe\">\n",
              "  <thead>\n",
              "    <tr style=\"text-align: right;\">\n",
              "      <th></th>\n",
              "      <th>Data Source</th>\n",
              "      <th>World Development Indicators</th>\n",
              "      <th>Unnamed: 2</th>\n",
              "      <th>Unnamed: 3</th>\n",
              "      <th>Unnamed: 4</th>\n",
              "      <th>Unnamed: 5</th>\n",
              "      <th>Unnamed: 6</th>\n",
              "      <th>Unnamed: 7</th>\n",
              "      <th>Unnamed: 8</th>\n",
              "      <th>Unnamed: 9</th>\n",
              "      <th>Unnamed: 10</th>\n",
              "      <th>Unnamed: 11</th>\n",
              "      <th>Unnamed: 12</th>\n",
              "      <th>Unnamed: 13</th>\n",
              "      <th>Unnamed: 14</th>\n",
              "      <th>Unnamed: 15</th>\n",
              "      <th>Unnamed: 16</th>\n",
              "      <th>Unnamed: 17</th>\n",
              "      <th>Unnamed: 18</th>\n",
              "      <th>Unnamed: 19</th>\n",
              "      <th>Unnamed: 20</th>\n",
              "      <th>Unnamed: 21</th>\n",
              "      <th>Unnamed: 22</th>\n",
              "      <th>Unnamed: 23</th>\n",
              "      <th>Unnamed: 24</th>\n",
              "      <th>Unnamed: 25</th>\n",
              "      <th>Unnamed: 26</th>\n",
              "      <th>Unnamed: 27</th>\n",
              "      <th>Unnamed: 28</th>\n",
              "      <th>Unnamed: 29</th>\n",
              "      <th>Unnamed: 30</th>\n",
              "      <th>Unnamed: 31</th>\n",
              "      <th>Unnamed: 32</th>\n",
              "      <th>Unnamed: 33</th>\n",
              "      <th>Unnamed: 34</th>\n",
              "      <th>Unnamed: 35</th>\n",
              "      <th>Unnamed: 36</th>\n",
              "      <th>Unnamed: 37</th>\n",
              "      <th>Unnamed: 38</th>\n",
              "      <th>Unnamed: 39</th>\n",
              "      <th>Unnamed: 40</th>\n",
              "      <th>Unnamed: 41</th>\n",
              "      <th>Unnamed: 42</th>\n",
              "      <th>Unnamed: 43</th>\n",
              "      <th>Unnamed: 44</th>\n",
              "      <th>Unnamed: 45</th>\n",
              "      <th>Unnamed: 46</th>\n",
              "      <th>Unnamed: 47</th>\n",
              "      <th>Unnamed: 48</th>\n",
              "      <th>Unnamed: 49</th>\n",
              "      <th>Unnamed: 50</th>\n",
              "      <th>Unnamed: 51</th>\n",
              "      <th>Unnamed: 52</th>\n",
              "      <th>Unnamed: 53</th>\n",
              "      <th>Unnamed: 54</th>\n",
              "      <th>Unnamed: 55</th>\n",
              "      <th>Unnamed: 56</th>\n",
              "      <th>Unnamed: 57</th>\n",
              "      <th>Unnamed: 58</th>\n",
              "      <th>Unnamed: 59</th>\n",
              "      <th>Unnamed: 60</th>\n",
              "      <th>Unnamed: 61</th>\n",
              "      <th>Unnamed: 62</th>\n",
              "      <th>Unnamed: 63</th>\n",
              "      <th>Unnamed: 64</th>\n",
              "    </tr>\n",
              "  </thead>\n",
              "  <tbody>\n",
              "    <tr>\n",
              "      <th>262</th>\n",
              "      <td>Kosovo</td>\n",
              "      <td>XKX</td>\n",
              "      <td>Population, total</td>\n",
              "      <td>SP.POP.TOTL</td>\n",
              "      <td>947000.0</td>\n",
              "      <td>966000.0</td>\n",
              "      <td>994000.0</td>\n",
              "      <td>1022000.0</td>\n",
              "      <td>1050000.0</td>\n",
              "      <td>1078000.0</td>\n",
              "      <td>1106000.0</td>\n",
              "      <td>1135000.0</td>\n",
              "      <td>1163000.0</td>\n",
              "      <td>1191000.0</td>\n",
              "      <td>1219000.0</td>\n",
              "      <td>1247000.0</td>\n",
              "      <td>1278000.0</td>\n",
              "      <td>1308000.0</td>\n",
              "      <td>1339000.0</td>\n",
              "      <td>1369000.0</td>\n",
              "      <td>1400000.0</td>\n",
              "      <td>1430000.0</td>\n",
              "      <td>1460000.0</td>\n",
              "      <td>1491000.0</td>\n",
              "      <td>1521000.0</td>\n",
              "      <td>1552000.0</td>\n",
              "      <td>1582000.0</td>\n",
              "      <td>1614000.0</td>\n",
              "      <td>1647000.0</td>\n",
              "      <td>1682000.0</td>\n",
              "      <td>1717000.0</td>\n",
              "      <td>1753000.0</td>\n",
              "      <td>1791000.0</td>\n",
              "      <td>1827000.0</td>\n",
              "      <td>1862000.0</td>\n",
              "      <td>1898000.0</td>\n",
              "      <td>1932000.0</td>\n",
              "      <td>1965000.0</td>\n",
              "      <td>1997000.0</td>\n",
              "      <td>2029000.0</td>\n",
              "      <td>2059000.0</td>\n",
              "      <td>2086000.0</td>\n",
              "      <td>1966000.0</td>\n",
              "      <td>1762000.0</td>\n",
              "      <td>1700000.0</td>\n",
              "      <td>1701154.0</td>\n",
              "      <td>1702310.0</td>\n",
              "      <td>1703466.0</td>\n",
              "      <td>1704622.0</td>\n",
              "      <td>1705780.0</td>\n",
              "      <td>1719536.0</td>\n",
              "      <td>1733404.0</td>\n",
              "      <td>1747383.0</td>\n",
              "      <td>1761474.0</td>\n",
              "      <td>1775680.0</td>\n",
              "      <td>1791000.0</td>\n",
              "      <td>1807106.0</td>\n",
              "      <td>1818117.0</td>\n",
              "      <td>1812771.0</td>\n",
              "      <td>1788196.0</td>\n",
              "      <td>1777557.0</td>\n",
              "      <td>1791003.0</td>\n",
              "      <td>1797085.0</td>\n",
              "      <td>1794248.0</td>\n",
              "      <td>NaN</td>\n",
              "    </tr>\n",
              "    <tr>\n",
              "      <th>263</th>\n",
              "      <td>Yemen, Rep.</td>\n",
              "      <td>YEM</td>\n",
              "      <td>Population, total</td>\n",
              "      <td>SP.POP.TOTL</td>\n",
              "      <td>5315355.0</td>\n",
              "      <td>5393036.0</td>\n",
              "      <td>5473671.0</td>\n",
              "      <td>5556766.0</td>\n",
              "      <td>5641597.0</td>\n",
              "      <td>5727751.0</td>\n",
              "      <td>5816247.0</td>\n",
              "      <td>5907874.0</td>\n",
              "      <td>6001852.0</td>\n",
              "      <td>6097035.0</td>\n",
              "      <td>6193384.0</td>\n",
              "      <td>6290365.0</td>\n",
              "      <td>6390574.0</td>\n",
              "      <td>6500816.0</td>\n",
              "      <td>6629999.0</td>\n",
              "      <td>6784695.0</td>\n",
              "      <td>6967941.0</td>\n",
              "      <td>7178675.0</td>\n",
              "      <td>7414158.0</td>\n",
              "      <td>7669694.0</td>\n",
              "      <td>7941898.0</td>\n",
              "      <td>8231910.0</td>\n",
              "      <td>8541605.0</td>\n",
              "      <td>8869370.0</td>\n",
              "      <td>9213084.0</td>\n",
              "      <td>9572175.0</td>\n",
              "      <td>9941109.0</td>\n",
              "      <td>10322043.0</td>\n",
              "      <td>10730862.0</td>\n",
              "      <td>11189177.0</td>\n",
              "      <td>11709993.0</td>\n",
              "      <td>12302124.0</td>\n",
              "      <td>12954155.0</td>\n",
              "      <td>13634076.0</td>\n",
              "      <td>14297613.0</td>\n",
              "      <td>14913315.0</td>\n",
              "      <td>15469274.0</td>\n",
              "      <td>15975668.0</td>\n",
              "      <td>16450310.0</td>\n",
              "      <td>16921149.0</td>\n",
              "      <td>17409072.0</td>\n",
              "      <td>17918373.0</td>\n",
              "      <td>18443691.0</td>\n",
              "      <td>18985000.0</td>\n",
              "      <td>19540098.0</td>\n",
              "      <td>20107409.0</td>\n",
              "      <td>20687646.0</td>\n",
              "      <td>21282515.0</td>\n",
              "      <td>21892146.0</td>\n",
              "      <td>22516460.0</td>\n",
              "      <td>23154855.0</td>\n",
              "      <td>23807588.0</td>\n",
              "      <td>24473178.0</td>\n",
              "      <td>25147109.0</td>\n",
              "      <td>25823485.0</td>\n",
              "      <td>26497889.0</td>\n",
              "      <td>27168210.0</td>\n",
              "      <td>27834821.0</td>\n",
              "      <td>28498687.0</td>\n",
              "      <td>29161922.0</td>\n",
              "      <td>NaN</td>\n",
              "    </tr>\n",
              "    <tr>\n",
              "      <th>264</th>\n",
              "      <td>South Africa</td>\n",
              "      <td>ZAF</td>\n",
              "      <td>Population, total</td>\n",
              "      <td>SP.POP.TOTL</td>\n",
              "      <td>17099840.0</td>\n",
              "      <td>17524533.0</td>\n",
              "      <td>17965725.0</td>\n",
              "      <td>18423161.0</td>\n",
              "      <td>18896307.0</td>\n",
              "      <td>19384841.0</td>\n",
              "      <td>19888250.0</td>\n",
              "      <td>20406864.0</td>\n",
              "      <td>20942145.0</td>\n",
              "      <td>21496075.0</td>\n",
              "      <td>22069776.0</td>\n",
              "      <td>22665271.0</td>\n",
              "      <td>23281508.0</td>\n",
              "      <td>23913099.0</td>\n",
              "      <td>24552540.0</td>\n",
              "      <td>25195187.0</td>\n",
              "      <td>25836888.0</td>\n",
              "      <td>26480913.0</td>\n",
              "      <td>27138965.0</td>\n",
              "      <td>27827320.0</td>\n",
              "      <td>28556769.0</td>\n",
              "      <td>29333103.0</td>\n",
              "      <td>30150448.0</td>\n",
              "      <td>30993758.0</td>\n",
              "      <td>31841593.0</td>\n",
              "      <td>32678874.0</td>\n",
              "      <td>33495953.0</td>\n",
              "      <td>34297727.0</td>\n",
              "      <td>35100909.0</td>\n",
              "      <td>35930050.0</td>\n",
              "      <td>36800509.0</td>\n",
              "      <td>37718950.0</td>\n",
              "      <td>38672607.0</td>\n",
              "      <td>39633750.0</td>\n",
              "      <td>40564059.0</td>\n",
              "      <td>41435758.0</td>\n",
              "      <td>42241011.0</td>\n",
              "      <td>42987461.0</td>\n",
              "      <td>43682260.0</td>\n",
              "      <td>44338543.0</td>\n",
              "      <td>44967708.0</td>\n",
              "      <td>45571274.0</td>\n",
              "      <td>46150913.0</td>\n",
              "      <td>46719196.0</td>\n",
              "      <td>47291610.0</td>\n",
              "      <td>47880601.0</td>\n",
              "      <td>48489459.0</td>\n",
              "      <td>49119759.0</td>\n",
              "      <td>49779471.0</td>\n",
              "      <td>50477011.0</td>\n",
              "      <td>51216964.0</td>\n",
              "      <td>52004172.0</td>\n",
              "      <td>52834005.0</td>\n",
              "      <td>53689236.0</td>\n",
              "      <td>54545991.0</td>\n",
              "      <td>55386367.0</td>\n",
              "      <td>56203654.0</td>\n",
              "      <td>57000451.0</td>\n",
              "      <td>57779622.0</td>\n",
              "      <td>58558270.0</td>\n",
              "      <td>NaN</td>\n",
              "    </tr>\n",
              "    <tr>\n",
              "      <th>265</th>\n",
              "      <td>Zambia</td>\n",
              "      <td>ZMB</td>\n",
              "      <td>Population, total</td>\n",
              "      <td>SP.POP.TOTL</td>\n",
              "      <td>3070776.0</td>\n",
              "      <td>3164329.0</td>\n",
              "      <td>3260650.0</td>\n",
              "      <td>3360104.0</td>\n",
              "      <td>3463213.0</td>\n",
              "      <td>3570464.0</td>\n",
              "      <td>3681955.0</td>\n",
              "      <td>3797873.0</td>\n",
              "      <td>3918872.0</td>\n",
              "      <td>4045740.0</td>\n",
              "      <td>4179067.0</td>\n",
              "      <td>4319224.0</td>\n",
              "      <td>4466174.0</td>\n",
              "      <td>4619546.0</td>\n",
              "      <td>4778724.0</td>\n",
              "      <td>4943283.0</td>\n",
              "      <td>5112823.0</td>\n",
              "      <td>5287548.0</td>\n",
              "      <td>5468262.0</td>\n",
              "      <td>5656139.0</td>\n",
              "      <td>5851825.0</td>\n",
              "      <td>6055366.0</td>\n",
              "      <td>6265864.0</td>\n",
              "      <td>6481916.0</td>\n",
              "      <td>6701540.0</td>\n",
              "      <td>6923149.0</td>\n",
              "      <td>7146969.0</td>\n",
              "      <td>7372837.0</td>\n",
              "      <td>7598275.0</td>\n",
              "      <td>7820205.0</td>\n",
              "      <td>8036845.0</td>\n",
              "      <td>8246656.0</td>\n",
              "      <td>8451347.0</td>\n",
              "      <td>8656486.0</td>\n",
              "      <td>8869740.0</td>\n",
              "      <td>9096607.0</td>\n",
              "      <td>9339733.0</td>\n",
              "      <td>9597609.0</td>\n",
              "      <td>9866476.0</td>\n",
              "      <td>10140561.0</td>\n",
              "      <td>10415944.0</td>\n",
              "      <td>10692193.0</td>\n",
              "      <td>10971698.0</td>\n",
              "      <td>11256743.0</td>\n",
              "      <td>11550642.0</td>\n",
              "      <td>11856247.0</td>\n",
              "      <td>12173514.0</td>\n",
              "      <td>12502958.0</td>\n",
              "      <td>12848530.0</td>\n",
              "      <td>13215139.0</td>\n",
              "      <td>13605984.0</td>\n",
              "      <td>14023193.0</td>\n",
              "      <td>14465121.0</td>\n",
              "      <td>14926504.0</td>\n",
              "      <td>15399753.0</td>\n",
              "      <td>15879361.0</td>\n",
              "      <td>16363507.0</td>\n",
              "      <td>16853688.0</td>\n",
              "      <td>17351822.0</td>\n",
              "      <td>17861030.0</td>\n",
              "      <td>NaN</td>\n",
              "    </tr>\n",
              "    <tr>\n",
              "      <th>266</th>\n",
              "      <td>Zimbabwe</td>\n",
              "      <td>ZWE</td>\n",
              "      <td>Population, total</td>\n",
              "      <td>SP.POP.TOTL</td>\n",
              "      <td>3776681.0</td>\n",
              "      <td>3905034.0</td>\n",
              "      <td>4039201.0</td>\n",
              "      <td>4178726.0</td>\n",
              "      <td>4322861.0</td>\n",
              "      <td>4471177.0</td>\n",
              "      <td>4623351.0</td>\n",
              "      <td>4779827.0</td>\n",
              "      <td>4941906.0</td>\n",
              "      <td>5111337.0</td>\n",
              "      <td>5289303.0</td>\n",
              "      <td>5476982.0</td>\n",
              "      <td>5673911.0</td>\n",
              "      <td>5877726.0</td>\n",
              "      <td>6085074.0</td>\n",
              "      <td>6293875.0</td>\n",
              "      <td>6502569.0</td>\n",
              "      <td>6712827.0</td>\n",
              "      <td>6929664.0</td>\n",
              "      <td>7160023.0</td>\n",
              "      <td>7408624.0</td>\n",
              "      <td>7675591.0</td>\n",
              "      <td>7958241.0</td>\n",
              "      <td>8254747.0</td>\n",
              "      <td>8562249.0</td>\n",
              "      <td>8877489.0</td>\n",
              "      <td>9200149.0</td>\n",
              "      <td>9527203.0</td>\n",
              "      <td>9849125.0</td>\n",
              "      <td>10153852.0</td>\n",
              "      <td>10432421.0</td>\n",
              "      <td>10680995.0</td>\n",
              "      <td>10900502.0</td>\n",
              "      <td>11092766.0</td>\n",
              "      <td>11261744.0</td>\n",
              "      <td>11410714.0</td>\n",
              "      <td>11541217.0</td>\n",
              "      <td>11653242.0</td>\n",
              "      <td>11747072.0</td>\n",
              "      <td>11822719.0</td>\n",
              "      <td>11881477.0</td>\n",
              "      <td>11923914.0</td>\n",
              "      <td>11954290.0</td>\n",
              "      <td>11982224.0</td>\n",
              "      <td>12019912.0</td>\n",
              "      <td>12076699.0</td>\n",
              "      <td>12155491.0</td>\n",
              "      <td>12255922.0</td>\n",
              "      <td>12379549.0</td>\n",
              "      <td>12526968.0</td>\n",
              "      <td>12697723.0</td>\n",
              "      <td>12894316.0</td>\n",
              "      <td>13115131.0</td>\n",
              "      <td>13350356.0</td>\n",
              "      <td>13586681.0</td>\n",
              "      <td>13814629.0</td>\n",
              "      <td>14030390.0</td>\n",
              "      <td>14236745.0</td>\n",
              "      <td>14439018.0</td>\n",
              "      <td>14645468.0</td>\n",
              "      <td>NaN</td>\n",
              "    </tr>\n",
              "  </tbody>\n",
              "</table>\n",
              "</div>"
            ],
            "text/plain": [
              "      Data Source World Development Indicators  ... Unnamed: 63 Unnamed: 64\n",
              "262        Kosovo                          XKX  ...   1794248.0         NaN\n",
              "263   Yemen, Rep.                          YEM  ...  29161922.0         NaN\n",
              "264  South Africa                          ZAF  ...  58558270.0         NaN\n",
              "265        Zambia                          ZMB  ...  17861030.0         NaN\n",
              "266      Zimbabwe                          ZWE  ...  14645468.0         NaN\n",
              "\n",
              "[5 rows x 65 columns]"
            ]
          },
          "metadata": {
            "tags": []
          },
          "execution_count": 6
        }
      ]
    },
    {
      "cell_type": "code",
      "metadata": {
        "colab": {
          "base_uri": "https://localhost:8080/",
          "height": 333
        },
        "id": "fWX4PW65qeg0",
        "outputId": "b144c4bd-b4c0-4235-a5ed-bb1d72ca1602"
      },
      "source": [
        "#leave\n",
        "datain.head()"
      ],
      "execution_count": 7,
      "outputs": [
        {
          "output_type": "execute_result",
          "data": {
            "text/html": [
              "<div>\n",
              "<style scoped>\n",
              "    .dataframe tbody tr th:only-of-type {\n",
              "        vertical-align: middle;\n",
              "    }\n",
              "\n",
              "    .dataframe tbody tr th {\n",
              "        vertical-align: top;\n",
              "    }\n",
              "\n",
              "    .dataframe thead th {\n",
              "        text-align: right;\n",
              "    }\n",
              "</style>\n",
              "<table border=\"1\" class=\"dataframe\">\n",
              "  <thead>\n",
              "    <tr style=\"text-align: right;\">\n",
              "      <th></th>\n",
              "      <th>Data Source</th>\n",
              "      <th>World Development Indicators</th>\n",
              "      <th>Unnamed: 2</th>\n",
              "      <th>Unnamed: 3</th>\n",
              "      <th>Unnamed: 4</th>\n",
              "      <th>Unnamed: 5</th>\n",
              "      <th>Unnamed: 6</th>\n",
              "      <th>Unnamed: 7</th>\n",
              "      <th>Unnamed: 8</th>\n",
              "      <th>Unnamed: 9</th>\n",
              "      <th>Unnamed: 10</th>\n",
              "      <th>Unnamed: 11</th>\n",
              "      <th>Unnamed: 12</th>\n",
              "      <th>Unnamed: 13</th>\n",
              "      <th>Unnamed: 14</th>\n",
              "      <th>Unnamed: 15</th>\n",
              "      <th>Unnamed: 16</th>\n",
              "      <th>Unnamed: 17</th>\n",
              "      <th>Unnamed: 18</th>\n",
              "      <th>Unnamed: 19</th>\n",
              "      <th>Unnamed: 20</th>\n",
              "      <th>Unnamed: 21</th>\n",
              "      <th>Unnamed: 22</th>\n",
              "      <th>Unnamed: 23</th>\n",
              "      <th>Unnamed: 24</th>\n",
              "      <th>Unnamed: 25</th>\n",
              "      <th>Unnamed: 26</th>\n",
              "      <th>Unnamed: 27</th>\n",
              "      <th>Unnamed: 28</th>\n",
              "      <th>Unnamed: 29</th>\n",
              "      <th>Unnamed: 30</th>\n",
              "      <th>Unnamed: 31</th>\n",
              "      <th>Unnamed: 32</th>\n",
              "      <th>Unnamed: 33</th>\n",
              "      <th>Unnamed: 34</th>\n",
              "      <th>Unnamed: 35</th>\n",
              "      <th>Unnamed: 36</th>\n",
              "      <th>Unnamed: 37</th>\n",
              "      <th>Unnamed: 38</th>\n",
              "      <th>Unnamed: 39</th>\n",
              "      <th>Unnamed: 40</th>\n",
              "      <th>Unnamed: 41</th>\n",
              "      <th>Unnamed: 42</th>\n",
              "      <th>Unnamed: 43</th>\n",
              "      <th>Unnamed: 44</th>\n",
              "      <th>Unnamed: 45</th>\n",
              "      <th>Unnamed: 46</th>\n",
              "      <th>Unnamed: 47</th>\n",
              "      <th>Unnamed: 48</th>\n",
              "      <th>Unnamed: 49</th>\n",
              "      <th>Unnamed: 50</th>\n",
              "      <th>Unnamed: 51</th>\n",
              "      <th>Unnamed: 52</th>\n",
              "      <th>Unnamed: 53</th>\n",
              "      <th>Unnamed: 54</th>\n",
              "      <th>Unnamed: 55</th>\n",
              "      <th>Unnamed: 56</th>\n",
              "      <th>Unnamed: 57</th>\n",
              "      <th>Unnamed: 58</th>\n",
              "      <th>Unnamed: 59</th>\n",
              "      <th>Unnamed: 60</th>\n",
              "      <th>Unnamed: 61</th>\n",
              "      <th>Unnamed: 62</th>\n",
              "      <th>Unnamed: 63</th>\n",
              "      <th>Unnamed: 64</th>\n",
              "    </tr>\n",
              "  </thead>\n",
              "  <tbody>\n",
              "    <tr>\n",
              "      <th>0</th>\n",
              "      <td>Last Updated Date</td>\n",
              "      <td>2021-03-19 00:00:00</td>\n",
              "      <td>NaN</td>\n",
              "      <td>NaN</td>\n",
              "      <td>NaN</td>\n",
              "      <td>NaN</td>\n",
              "      <td>NaN</td>\n",
              "      <td>NaN</td>\n",
              "      <td>NaN</td>\n",
              "      <td>NaN</td>\n",
              "      <td>NaN</td>\n",
              "      <td>NaN</td>\n",
              "      <td>NaN</td>\n",
              "      <td>NaN</td>\n",
              "      <td>NaN</td>\n",
              "      <td>NaN</td>\n",
              "      <td>NaN</td>\n",
              "      <td>NaN</td>\n",
              "      <td>NaN</td>\n",
              "      <td>NaN</td>\n",
              "      <td>NaN</td>\n",
              "      <td>NaN</td>\n",
              "      <td>NaN</td>\n",
              "      <td>NaN</td>\n",
              "      <td>NaN</td>\n",
              "      <td>NaN</td>\n",
              "      <td>NaN</td>\n",
              "      <td>NaN</td>\n",
              "      <td>NaN</td>\n",
              "      <td>NaN</td>\n",
              "      <td>NaN</td>\n",
              "      <td>NaN</td>\n",
              "      <td>NaN</td>\n",
              "      <td>NaN</td>\n",
              "      <td>NaN</td>\n",
              "      <td>NaN</td>\n",
              "      <td>NaN</td>\n",
              "      <td>NaN</td>\n",
              "      <td>NaN</td>\n",
              "      <td>NaN</td>\n",
              "      <td>NaN</td>\n",
              "      <td>NaN</td>\n",
              "      <td>NaN</td>\n",
              "      <td>NaN</td>\n",
              "      <td>NaN</td>\n",
              "      <td>NaN</td>\n",
              "      <td>NaN</td>\n",
              "      <td>NaN</td>\n",
              "      <td>NaN</td>\n",
              "      <td>NaN</td>\n",
              "      <td>NaN</td>\n",
              "      <td>NaN</td>\n",
              "      <td>NaN</td>\n",
              "      <td>NaN</td>\n",
              "      <td>NaN</td>\n",
              "      <td>NaN</td>\n",
              "      <td>NaN</td>\n",
              "      <td>NaN</td>\n",
              "      <td>NaN</td>\n",
              "      <td>NaN</td>\n",
              "      <td>NaN</td>\n",
              "      <td>NaN</td>\n",
              "      <td>NaN</td>\n",
              "      <td>NaN</td>\n",
              "      <td>NaN</td>\n",
              "    </tr>\n",
              "    <tr>\n",
              "      <th>1</th>\n",
              "      <td>NaN</td>\n",
              "      <td>NaN</td>\n",
              "      <td>NaN</td>\n",
              "      <td>NaN</td>\n",
              "      <td>NaN</td>\n",
              "      <td>NaN</td>\n",
              "      <td>NaN</td>\n",
              "      <td>NaN</td>\n",
              "      <td>NaN</td>\n",
              "      <td>NaN</td>\n",
              "      <td>NaN</td>\n",
              "      <td>NaN</td>\n",
              "      <td>NaN</td>\n",
              "      <td>NaN</td>\n",
              "      <td>NaN</td>\n",
              "      <td>NaN</td>\n",
              "      <td>NaN</td>\n",
              "      <td>NaN</td>\n",
              "      <td>NaN</td>\n",
              "      <td>NaN</td>\n",
              "      <td>NaN</td>\n",
              "      <td>NaN</td>\n",
              "      <td>NaN</td>\n",
              "      <td>NaN</td>\n",
              "      <td>NaN</td>\n",
              "      <td>NaN</td>\n",
              "      <td>NaN</td>\n",
              "      <td>NaN</td>\n",
              "      <td>NaN</td>\n",
              "      <td>NaN</td>\n",
              "      <td>NaN</td>\n",
              "      <td>NaN</td>\n",
              "      <td>NaN</td>\n",
              "      <td>NaN</td>\n",
              "      <td>NaN</td>\n",
              "      <td>NaN</td>\n",
              "      <td>NaN</td>\n",
              "      <td>NaN</td>\n",
              "      <td>NaN</td>\n",
              "      <td>NaN</td>\n",
              "      <td>NaN</td>\n",
              "      <td>NaN</td>\n",
              "      <td>NaN</td>\n",
              "      <td>NaN</td>\n",
              "      <td>NaN</td>\n",
              "      <td>NaN</td>\n",
              "      <td>NaN</td>\n",
              "      <td>NaN</td>\n",
              "      <td>NaN</td>\n",
              "      <td>NaN</td>\n",
              "      <td>NaN</td>\n",
              "      <td>NaN</td>\n",
              "      <td>NaN</td>\n",
              "      <td>NaN</td>\n",
              "      <td>NaN</td>\n",
              "      <td>NaN</td>\n",
              "      <td>NaN</td>\n",
              "      <td>NaN</td>\n",
              "      <td>NaN</td>\n",
              "      <td>NaN</td>\n",
              "      <td>NaN</td>\n",
              "      <td>NaN</td>\n",
              "      <td>NaN</td>\n",
              "      <td>NaN</td>\n",
              "      <td>NaN</td>\n",
              "    </tr>\n",
              "    <tr>\n",
              "      <th>2</th>\n",
              "      <td>Country Name</td>\n",
              "      <td>Country Code</td>\n",
              "      <td>Indicator Name</td>\n",
              "      <td>Indicator Code</td>\n",
              "      <td>1960.0</td>\n",
              "      <td>1961.0</td>\n",
              "      <td>1962.0</td>\n",
              "      <td>1963.0</td>\n",
              "      <td>1964.0</td>\n",
              "      <td>1965.0</td>\n",
              "      <td>1966.0</td>\n",
              "      <td>1967.0</td>\n",
              "      <td>1968.0</td>\n",
              "      <td>1969.0</td>\n",
              "      <td>1970.0</td>\n",
              "      <td>1971.0</td>\n",
              "      <td>1972.0</td>\n",
              "      <td>1973.0</td>\n",
              "      <td>1974.0</td>\n",
              "      <td>1975.0</td>\n",
              "      <td>1976.0</td>\n",
              "      <td>1977.0</td>\n",
              "      <td>1978.0</td>\n",
              "      <td>1979.0</td>\n",
              "      <td>1980.0</td>\n",
              "      <td>1981.0</td>\n",
              "      <td>1982.0</td>\n",
              "      <td>1983.0</td>\n",
              "      <td>1984.0</td>\n",
              "      <td>1985.0</td>\n",
              "      <td>1986.0</td>\n",
              "      <td>1987.0</td>\n",
              "      <td>1988.0</td>\n",
              "      <td>1989.0</td>\n",
              "      <td>1990.0</td>\n",
              "      <td>1991.0</td>\n",
              "      <td>1992.0</td>\n",
              "      <td>1993.0</td>\n",
              "      <td>1994.0</td>\n",
              "      <td>1995.0</td>\n",
              "      <td>1996.0</td>\n",
              "      <td>1997.0</td>\n",
              "      <td>1998.0</td>\n",
              "      <td>1999.0</td>\n",
              "      <td>2000.0</td>\n",
              "      <td>2001.0</td>\n",
              "      <td>2002.0</td>\n",
              "      <td>2003.0</td>\n",
              "      <td>2004.0</td>\n",
              "      <td>2005.0</td>\n",
              "      <td>2006.0</td>\n",
              "      <td>2007.0</td>\n",
              "      <td>2008.0</td>\n",
              "      <td>2009.0</td>\n",
              "      <td>2010.0</td>\n",
              "      <td>2011.0</td>\n",
              "      <td>2012.0</td>\n",
              "      <td>2013.0</td>\n",
              "      <td>2014.0</td>\n",
              "      <td>2015.0</td>\n",
              "      <td>2016.0</td>\n",
              "      <td>2017.0</td>\n",
              "      <td>2018.0</td>\n",
              "      <td>2019.0</td>\n",
              "      <td>2020.0</td>\n",
              "    </tr>\n",
              "    <tr>\n",
              "      <th>3</th>\n",
              "      <td>Aruba</td>\n",
              "      <td>ABW</td>\n",
              "      <td>Population, total</td>\n",
              "      <td>SP.POP.TOTL</td>\n",
              "      <td>54211.0</td>\n",
              "      <td>55438.0</td>\n",
              "      <td>56225.0</td>\n",
              "      <td>56695.0</td>\n",
              "      <td>57032.0</td>\n",
              "      <td>57360.0</td>\n",
              "      <td>57715.0</td>\n",
              "      <td>58055.0</td>\n",
              "      <td>58386.0</td>\n",
              "      <td>58726.0</td>\n",
              "      <td>59063.0</td>\n",
              "      <td>59440.0</td>\n",
              "      <td>59840.0</td>\n",
              "      <td>60243.0</td>\n",
              "      <td>60528.0</td>\n",
              "      <td>60657.0</td>\n",
              "      <td>60586.0</td>\n",
              "      <td>60366.0</td>\n",
              "      <td>60103.0</td>\n",
              "      <td>59980.0</td>\n",
              "      <td>60096.0</td>\n",
              "      <td>60567.0</td>\n",
              "      <td>61345.0</td>\n",
              "      <td>62201.0</td>\n",
              "      <td>62836.0</td>\n",
              "      <td>63026.0</td>\n",
              "      <td>62644.0</td>\n",
              "      <td>61833.0</td>\n",
              "      <td>61079.0</td>\n",
              "      <td>61032.0</td>\n",
              "      <td>62149.0</td>\n",
              "      <td>64622.0</td>\n",
              "      <td>68235.0</td>\n",
              "      <td>72504.0</td>\n",
              "      <td>76700.0</td>\n",
              "      <td>80324.0</td>\n",
              "      <td>83200.0</td>\n",
              "      <td>85451.0</td>\n",
              "      <td>87277.0</td>\n",
              "      <td>89005.0</td>\n",
              "      <td>90853.0</td>\n",
              "      <td>92898.0</td>\n",
              "      <td>94992.0</td>\n",
              "      <td>97017.0</td>\n",
              "      <td>98737.0</td>\n",
              "      <td>100031.0</td>\n",
              "      <td>100834.0</td>\n",
              "      <td>101222.0</td>\n",
              "      <td>101358.0</td>\n",
              "      <td>101455.0</td>\n",
              "      <td>101669.0</td>\n",
              "      <td>102046.0</td>\n",
              "      <td>102560.0</td>\n",
              "      <td>103159.0</td>\n",
              "      <td>103774.0</td>\n",
              "      <td>104341.0</td>\n",
              "      <td>104872.0</td>\n",
              "      <td>105366.0</td>\n",
              "      <td>105845.0</td>\n",
              "      <td>106314.0</td>\n",
              "      <td>NaN</td>\n",
              "    </tr>\n",
              "    <tr>\n",
              "      <th>4</th>\n",
              "      <td>Afghanistan</td>\n",
              "      <td>AFG</td>\n",
              "      <td>Population, total</td>\n",
              "      <td>SP.POP.TOTL</td>\n",
              "      <td>8996973.0</td>\n",
              "      <td>9169410.0</td>\n",
              "      <td>9351441.0</td>\n",
              "      <td>9543205.0</td>\n",
              "      <td>9744781.0</td>\n",
              "      <td>9956320.0</td>\n",
              "      <td>10174836.0</td>\n",
              "      <td>10399926.0</td>\n",
              "      <td>10637063.0</td>\n",
              "      <td>10893776.0</td>\n",
              "      <td>11173642.0</td>\n",
              "      <td>11475445.0</td>\n",
              "      <td>11791215.0</td>\n",
              "      <td>12108963.0</td>\n",
              "      <td>12412950.0</td>\n",
              "      <td>12689160.0</td>\n",
              "      <td>12943093.0</td>\n",
              "      <td>13171306.0</td>\n",
              "      <td>13341198.0</td>\n",
              "      <td>13411056.0</td>\n",
              "      <td>13356511.0</td>\n",
              "      <td>13171673.0</td>\n",
              "      <td>12882528.0</td>\n",
              "      <td>12537730.0</td>\n",
              "      <td>12204292.0</td>\n",
              "      <td>11938208.0</td>\n",
              "      <td>11736179.0</td>\n",
              "      <td>11604534.0</td>\n",
              "      <td>11618005.0</td>\n",
              "      <td>11868877.0</td>\n",
              "      <td>12412308.0</td>\n",
              "      <td>13299017.0</td>\n",
              "      <td>14485546.0</td>\n",
              "      <td>15816603.0</td>\n",
              "      <td>17075727.0</td>\n",
              "      <td>18110657.0</td>\n",
              "      <td>18853437.0</td>\n",
              "      <td>19357126.0</td>\n",
              "      <td>19737765.0</td>\n",
              "      <td>20170844.0</td>\n",
              "      <td>20779953.0</td>\n",
              "      <td>21606988.0</td>\n",
              "      <td>22600770.0</td>\n",
              "      <td>23680871.0</td>\n",
              "      <td>24726684.0</td>\n",
              "      <td>25654277.0</td>\n",
              "      <td>26433049.0</td>\n",
              "      <td>27100536.0</td>\n",
              "      <td>27722276.0</td>\n",
              "      <td>28394813.0</td>\n",
              "      <td>29185507.0</td>\n",
              "      <td>30117413.0</td>\n",
              "      <td>31161376.0</td>\n",
              "      <td>32269589.0</td>\n",
              "      <td>33370794.0</td>\n",
              "      <td>34413603.0</td>\n",
              "      <td>35383128.0</td>\n",
              "      <td>36296400.0</td>\n",
              "      <td>37172386.0</td>\n",
              "      <td>38041754.0</td>\n",
              "      <td>NaN</td>\n",
              "    </tr>\n",
              "  </tbody>\n",
              "</table>\n",
              "</div>"
            ],
            "text/plain": [
              "         Data Source World Development Indicators  ... Unnamed: 63 Unnamed: 64\n",
              "0  Last Updated Date          2021-03-19 00:00:00  ...         NaN         NaN\n",
              "1                NaN                          NaN  ...         NaN         NaN\n",
              "2       Country Name                 Country Code  ...      2019.0      2020.0\n",
              "3              Aruba                          ABW  ...    106314.0         NaN\n",
              "4        Afghanistan                          AFG  ...  38041754.0         NaN\n",
              "\n",
              "[5 rows x 65 columns]"
            ]
          },
          "metadata": {
            "tags": []
          },
          "execution_count": 7
        }
      ]
    },
    {
      "cell_type": "markdown",
      "metadata": {
        "id": "CxHdleAXyN7D"
      },
      "source": [
        "\n",
        "\n",
        "\n",
        "\n",
        "#  TASK 1.II - clean the data\n",
        "\n",
        "how many rows and columns are in the data? how many missing values? missing values should be removed. If there are not many observations (=countries) with missing data the easiest solution is to remove the countries entirely. Use the dataframe method ```dropna``` to remove them. Otherwise, if you are brave, you can input values using the dataframe method fillna (good luck!). \n",
        "\n",
        "\n",
        "print the number of countries and the length of the timeline using the line of code provided _before_ and _after_ cleaning. State the percentage of observations lost\n",
        "\n",
        "## shortcut: \n",
        "\n",
        "You can download the dataframe with missing values removed by row [here](https://github.com/fedhere/MLPNS2021/tree/main/midterm): the file is called  _country_pop_clean.csv_"
      ]
    },
    {
      "cell_type": "code",
      "metadata": {
        "id": "AqYjYB_qVthC"
      },
      "source": [
        ""
      ],
      "execution_count": 7,
      "outputs": []
    },
    {
      "cell_type": "code",
      "metadata": {
        "id": "OLd_WIUWUnDg"
      },
      "source": [
        "datainCleared = datain.dropna(axis = 0, how = 'all')"
      ],
      "execution_count": 8,
      "outputs": []
    },
    {
      "cell_type": "code",
      "metadata": {
        "colab": {
          "base_uri": "https://localhost:8080/",
          "height": 640
        },
        "id": "hNMUbEPHUs-g",
        "outputId": "90133a73-9179-417c-af9b-be38487a0f21"
      },
      "source": [
        "datainCleared"
      ],
      "execution_count": 9,
      "outputs": [
        {
          "output_type": "execute_result",
          "data": {
            "text/html": [
              "<div>\n",
              "<style scoped>\n",
              "    .dataframe tbody tr th:only-of-type {\n",
              "        vertical-align: middle;\n",
              "    }\n",
              "\n",
              "    .dataframe tbody tr th {\n",
              "        vertical-align: top;\n",
              "    }\n",
              "\n",
              "    .dataframe thead th {\n",
              "        text-align: right;\n",
              "    }\n",
              "</style>\n",
              "<table border=\"1\" class=\"dataframe\">\n",
              "  <thead>\n",
              "    <tr style=\"text-align: right;\">\n",
              "      <th></th>\n",
              "      <th>Data Source</th>\n",
              "      <th>World Development Indicators</th>\n",
              "      <th>Unnamed: 2</th>\n",
              "      <th>Unnamed: 3</th>\n",
              "      <th>Unnamed: 4</th>\n",
              "      <th>Unnamed: 5</th>\n",
              "      <th>Unnamed: 6</th>\n",
              "      <th>Unnamed: 7</th>\n",
              "      <th>Unnamed: 8</th>\n",
              "      <th>Unnamed: 9</th>\n",
              "      <th>Unnamed: 10</th>\n",
              "      <th>Unnamed: 11</th>\n",
              "      <th>Unnamed: 12</th>\n",
              "      <th>Unnamed: 13</th>\n",
              "      <th>Unnamed: 14</th>\n",
              "      <th>Unnamed: 15</th>\n",
              "      <th>Unnamed: 16</th>\n",
              "      <th>Unnamed: 17</th>\n",
              "      <th>Unnamed: 18</th>\n",
              "      <th>Unnamed: 19</th>\n",
              "      <th>Unnamed: 20</th>\n",
              "      <th>Unnamed: 21</th>\n",
              "      <th>Unnamed: 22</th>\n",
              "      <th>Unnamed: 23</th>\n",
              "      <th>Unnamed: 24</th>\n",
              "      <th>Unnamed: 25</th>\n",
              "      <th>Unnamed: 26</th>\n",
              "      <th>Unnamed: 27</th>\n",
              "      <th>Unnamed: 28</th>\n",
              "      <th>Unnamed: 29</th>\n",
              "      <th>Unnamed: 30</th>\n",
              "      <th>Unnamed: 31</th>\n",
              "      <th>Unnamed: 32</th>\n",
              "      <th>Unnamed: 33</th>\n",
              "      <th>Unnamed: 34</th>\n",
              "      <th>Unnamed: 35</th>\n",
              "      <th>Unnamed: 36</th>\n",
              "      <th>Unnamed: 37</th>\n",
              "      <th>Unnamed: 38</th>\n",
              "      <th>Unnamed: 39</th>\n",
              "      <th>Unnamed: 40</th>\n",
              "      <th>Unnamed: 41</th>\n",
              "      <th>Unnamed: 42</th>\n",
              "      <th>Unnamed: 43</th>\n",
              "      <th>Unnamed: 44</th>\n",
              "      <th>Unnamed: 45</th>\n",
              "      <th>Unnamed: 46</th>\n",
              "      <th>Unnamed: 47</th>\n",
              "      <th>Unnamed: 48</th>\n",
              "      <th>Unnamed: 49</th>\n",
              "      <th>Unnamed: 50</th>\n",
              "      <th>Unnamed: 51</th>\n",
              "      <th>Unnamed: 52</th>\n",
              "      <th>Unnamed: 53</th>\n",
              "      <th>Unnamed: 54</th>\n",
              "      <th>Unnamed: 55</th>\n",
              "      <th>Unnamed: 56</th>\n",
              "      <th>Unnamed: 57</th>\n",
              "      <th>Unnamed: 58</th>\n",
              "      <th>Unnamed: 59</th>\n",
              "      <th>Unnamed: 60</th>\n",
              "      <th>Unnamed: 61</th>\n",
              "      <th>Unnamed: 62</th>\n",
              "      <th>Unnamed: 63</th>\n",
              "      <th>Unnamed: 64</th>\n",
              "    </tr>\n",
              "  </thead>\n",
              "  <tbody>\n",
              "    <tr>\n",
              "      <th>0</th>\n",
              "      <td>Last Updated Date</td>\n",
              "      <td>2021-03-19 00:00:00</td>\n",
              "      <td>NaN</td>\n",
              "      <td>NaN</td>\n",
              "      <td>NaN</td>\n",
              "      <td>NaN</td>\n",
              "      <td>NaN</td>\n",
              "      <td>NaN</td>\n",
              "      <td>NaN</td>\n",
              "      <td>NaN</td>\n",
              "      <td>NaN</td>\n",
              "      <td>NaN</td>\n",
              "      <td>NaN</td>\n",
              "      <td>NaN</td>\n",
              "      <td>NaN</td>\n",
              "      <td>NaN</td>\n",
              "      <td>NaN</td>\n",
              "      <td>NaN</td>\n",
              "      <td>NaN</td>\n",
              "      <td>NaN</td>\n",
              "      <td>NaN</td>\n",
              "      <td>NaN</td>\n",
              "      <td>NaN</td>\n",
              "      <td>NaN</td>\n",
              "      <td>NaN</td>\n",
              "      <td>NaN</td>\n",
              "      <td>NaN</td>\n",
              "      <td>NaN</td>\n",
              "      <td>NaN</td>\n",
              "      <td>NaN</td>\n",
              "      <td>NaN</td>\n",
              "      <td>NaN</td>\n",
              "      <td>NaN</td>\n",
              "      <td>NaN</td>\n",
              "      <td>NaN</td>\n",
              "      <td>NaN</td>\n",
              "      <td>NaN</td>\n",
              "      <td>NaN</td>\n",
              "      <td>NaN</td>\n",
              "      <td>NaN</td>\n",
              "      <td>NaN</td>\n",
              "      <td>NaN</td>\n",
              "      <td>NaN</td>\n",
              "      <td>NaN</td>\n",
              "      <td>NaN</td>\n",
              "      <td>NaN</td>\n",
              "      <td>NaN</td>\n",
              "      <td>NaN</td>\n",
              "      <td>NaN</td>\n",
              "      <td>NaN</td>\n",
              "      <td>NaN</td>\n",
              "      <td>NaN</td>\n",
              "      <td>NaN</td>\n",
              "      <td>NaN</td>\n",
              "      <td>NaN</td>\n",
              "      <td>NaN</td>\n",
              "      <td>NaN</td>\n",
              "      <td>NaN</td>\n",
              "      <td>NaN</td>\n",
              "      <td>NaN</td>\n",
              "      <td>NaN</td>\n",
              "      <td>NaN</td>\n",
              "      <td>NaN</td>\n",
              "      <td>NaN</td>\n",
              "      <td>NaN</td>\n",
              "    </tr>\n",
              "    <tr>\n",
              "      <th>2</th>\n",
              "      <td>Country Name</td>\n",
              "      <td>Country Code</td>\n",
              "      <td>Indicator Name</td>\n",
              "      <td>Indicator Code</td>\n",
              "      <td>1960.0</td>\n",
              "      <td>1961.0</td>\n",
              "      <td>1962.0</td>\n",
              "      <td>1963.0</td>\n",
              "      <td>1964.0</td>\n",
              "      <td>1965.0</td>\n",
              "      <td>1966.0</td>\n",
              "      <td>1967.0</td>\n",
              "      <td>1968.0</td>\n",
              "      <td>1969.0</td>\n",
              "      <td>1970.0</td>\n",
              "      <td>1971.0</td>\n",
              "      <td>1972.0</td>\n",
              "      <td>1973.0</td>\n",
              "      <td>1974.0</td>\n",
              "      <td>1975.0</td>\n",
              "      <td>1976.0</td>\n",
              "      <td>1977.0</td>\n",
              "      <td>1978.0</td>\n",
              "      <td>1979.0</td>\n",
              "      <td>1980.0</td>\n",
              "      <td>1981.0</td>\n",
              "      <td>1982.0</td>\n",
              "      <td>1983.0</td>\n",
              "      <td>1984.0</td>\n",
              "      <td>1985.0</td>\n",
              "      <td>1986.0</td>\n",
              "      <td>1987.0</td>\n",
              "      <td>1988.0</td>\n",
              "      <td>1989.0</td>\n",
              "      <td>1990.0</td>\n",
              "      <td>1991.0</td>\n",
              "      <td>1992.0</td>\n",
              "      <td>1993.0</td>\n",
              "      <td>1994.0</td>\n",
              "      <td>1995.0</td>\n",
              "      <td>1996.0</td>\n",
              "      <td>1997.0</td>\n",
              "      <td>1998.0</td>\n",
              "      <td>1999.0</td>\n",
              "      <td>2000.0</td>\n",
              "      <td>2001.0</td>\n",
              "      <td>2002.0</td>\n",
              "      <td>2003.0</td>\n",
              "      <td>2004.0</td>\n",
              "      <td>2005.0</td>\n",
              "      <td>2006.0</td>\n",
              "      <td>2007.0</td>\n",
              "      <td>2008.0</td>\n",
              "      <td>2009.0</td>\n",
              "      <td>2010.0</td>\n",
              "      <td>2011.0</td>\n",
              "      <td>2012.0</td>\n",
              "      <td>2013.0</td>\n",
              "      <td>2014.0</td>\n",
              "      <td>2015.0</td>\n",
              "      <td>2016.0</td>\n",
              "      <td>2017.0</td>\n",
              "      <td>2018.0</td>\n",
              "      <td>2019.0</td>\n",
              "      <td>2020.0</td>\n",
              "    </tr>\n",
              "    <tr>\n",
              "      <th>3</th>\n",
              "      <td>Aruba</td>\n",
              "      <td>ABW</td>\n",
              "      <td>Population, total</td>\n",
              "      <td>SP.POP.TOTL</td>\n",
              "      <td>54211.0</td>\n",
              "      <td>55438.0</td>\n",
              "      <td>56225.0</td>\n",
              "      <td>56695.0</td>\n",
              "      <td>57032.0</td>\n",
              "      <td>57360.0</td>\n",
              "      <td>57715.0</td>\n",
              "      <td>58055.0</td>\n",
              "      <td>58386.0</td>\n",
              "      <td>58726.0</td>\n",
              "      <td>59063.0</td>\n",
              "      <td>59440.0</td>\n",
              "      <td>59840.0</td>\n",
              "      <td>60243.0</td>\n",
              "      <td>60528.0</td>\n",
              "      <td>60657.0</td>\n",
              "      <td>60586.0</td>\n",
              "      <td>60366.0</td>\n",
              "      <td>60103.0</td>\n",
              "      <td>59980.0</td>\n",
              "      <td>60096.0</td>\n",
              "      <td>60567.0</td>\n",
              "      <td>61345.0</td>\n",
              "      <td>62201.0</td>\n",
              "      <td>62836.0</td>\n",
              "      <td>63026.0</td>\n",
              "      <td>62644.0</td>\n",
              "      <td>61833.0</td>\n",
              "      <td>61079.0</td>\n",
              "      <td>61032.0</td>\n",
              "      <td>62149.0</td>\n",
              "      <td>64622.0</td>\n",
              "      <td>68235.0</td>\n",
              "      <td>72504.0</td>\n",
              "      <td>76700.0</td>\n",
              "      <td>80324.0</td>\n",
              "      <td>83200.0</td>\n",
              "      <td>85451.0</td>\n",
              "      <td>87277.0</td>\n",
              "      <td>89005.0</td>\n",
              "      <td>90853.0</td>\n",
              "      <td>92898.0</td>\n",
              "      <td>94992.0</td>\n",
              "      <td>97017.0</td>\n",
              "      <td>98737.0</td>\n",
              "      <td>100031.0</td>\n",
              "      <td>100834.0</td>\n",
              "      <td>101222.0</td>\n",
              "      <td>101358.0</td>\n",
              "      <td>101455.0</td>\n",
              "      <td>101669.0</td>\n",
              "      <td>102046.0</td>\n",
              "      <td>102560.0</td>\n",
              "      <td>103159.0</td>\n",
              "      <td>103774.0</td>\n",
              "      <td>104341.0</td>\n",
              "      <td>104872.0</td>\n",
              "      <td>105366.0</td>\n",
              "      <td>105845.0</td>\n",
              "      <td>106314.0</td>\n",
              "      <td>NaN</td>\n",
              "    </tr>\n",
              "    <tr>\n",
              "      <th>4</th>\n",
              "      <td>Afghanistan</td>\n",
              "      <td>AFG</td>\n",
              "      <td>Population, total</td>\n",
              "      <td>SP.POP.TOTL</td>\n",
              "      <td>8996973.0</td>\n",
              "      <td>9169410.0</td>\n",
              "      <td>9351441.0</td>\n",
              "      <td>9543205.0</td>\n",
              "      <td>9744781.0</td>\n",
              "      <td>9956320.0</td>\n",
              "      <td>10174836.0</td>\n",
              "      <td>10399926.0</td>\n",
              "      <td>10637063.0</td>\n",
              "      <td>10893776.0</td>\n",
              "      <td>11173642.0</td>\n",
              "      <td>11475445.0</td>\n",
              "      <td>11791215.0</td>\n",
              "      <td>12108963.0</td>\n",
              "      <td>12412950.0</td>\n",
              "      <td>12689160.0</td>\n",
              "      <td>12943093.0</td>\n",
              "      <td>13171306.0</td>\n",
              "      <td>13341198.0</td>\n",
              "      <td>13411056.0</td>\n",
              "      <td>13356511.0</td>\n",
              "      <td>13171673.0</td>\n",
              "      <td>12882528.0</td>\n",
              "      <td>12537730.0</td>\n",
              "      <td>12204292.0</td>\n",
              "      <td>11938208.0</td>\n",
              "      <td>11736179.0</td>\n",
              "      <td>11604534.0</td>\n",
              "      <td>11618005.0</td>\n",
              "      <td>11868877.0</td>\n",
              "      <td>12412308.0</td>\n",
              "      <td>13299017.0</td>\n",
              "      <td>14485546.0</td>\n",
              "      <td>15816603.0</td>\n",
              "      <td>17075727.0</td>\n",
              "      <td>18110657.0</td>\n",
              "      <td>18853437.0</td>\n",
              "      <td>19357126.0</td>\n",
              "      <td>19737765.0</td>\n",
              "      <td>20170844.0</td>\n",
              "      <td>20779953.0</td>\n",
              "      <td>21606988.0</td>\n",
              "      <td>22600770.0</td>\n",
              "      <td>23680871.0</td>\n",
              "      <td>24726684.0</td>\n",
              "      <td>25654277.0</td>\n",
              "      <td>26433049.0</td>\n",
              "      <td>27100536.0</td>\n",
              "      <td>27722276.0</td>\n",
              "      <td>28394813.0</td>\n",
              "      <td>29185507.0</td>\n",
              "      <td>30117413.0</td>\n",
              "      <td>31161376.0</td>\n",
              "      <td>32269589.0</td>\n",
              "      <td>33370794.0</td>\n",
              "      <td>34413603.0</td>\n",
              "      <td>35383128.0</td>\n",
              "      <td>36296400.0</td>\n",
              "      <td>37172386.0</td>\n",
              "      <td>38041754.0</td>\n",
              "      <td>NaN</td>\n",
              "    </tr>\n",
              "    <tr>\n",
              "      <th>5</th>\n",
              "      <td>Angola</td>\n",
              "      <td>AGO</td>\n",
              "      <td>Population, total</td>\n",
              "      <td>SP.POP.TOTL</td>\n",
              "      <td>5454933.0</td>\n",
              "      <td>5531472.0</td>\n",
              "      <td>5608539.0</td>\n",
              "      <td>5679458.0</td>\n",
              "      <td>5735044.0</td>\n",
              "      <td>5770570.0</td>\n",
              "      <td>5781214.0</td>\n",
              "      <td>5774243.0</td>\n",
              "      <td>5771652.0</td>\n",
              "      <td>5803254.0</td>\n",
              "      <td>5890365.0</td>\n",
              "      <td>6040777.0</td>\n",
              "      <td>6248552.0</td>\n",
              "      <td>6496962.0</td>\n",
              "      <td>6761380.0</td>\n",
              "      <td>7024000.0</td>\n",
              "      <td>7279509.0</td>\n",
              "      <td>7533735.0</td>\n",
              "      <td>7790707.0</td>\n",
              "      <td>8058067.0</td>\n",
              "      <td>8341289.0</td>\n",
              "      <td>8640446.0</td>\n",
              "      <td>8952950.0</td>\n",
              "      <td>9278096.0</td>\n",
              "      <td>9614754.0</td>\n",
              "      <td>9961997.0</td>\n",
              "      <td>10320111.0</td>\n",
              "      <td>10689250.0</td>\n",
              "      <td>11068050.0</td>\n",
              "      <td>11454777.0</td>\n",
              "      <td>11848386.0</td>\n",
              "      <td>12248901.0</td>\n",
              "      <td>12657366.0</td>\n",
              "      <td>13075049.0</td>\n",
              "      <td>13503747.0</td>\n",
              "      <td>13945206.0</td>\n",
              "      <td>14400719.0</td>\n",
              "      <td>14871570.0</td>\n",
              "      <td>15359601.0</td>\n",
              "      <td>15866869.0</td>\n",
              "      <td>16395473.0</td>\n",
              "      <td>16945753.0</td>\n",
              "      <td>17519417.0</td>\n",
              "      <td>18121479.0</td>\n",
              "      <td>18758145.0</td>\n",
              "      <td>19433602.0</td>\n",
              "      <td>20149901.0</td>\n",
              "      <td>20905363.0</td>\n",
              "      <td>21695634.0</td>\n",
              "      <td>22514281.0</td>\n",
              "      <td>23356246.0</td>\n",
              "      <td>24220661.0</td>\n",
              "      <td>25107931.0</td>\n",
              "      <td>26015780.0</td>\n",
              "      <td>26941779.0</td>\n",
              "      <td>27884381.0</td>\n",
              "      <td>28842484.0</td>\n",
              "      <td>29816748.0</td>\n",
              "      <td>30809762.0</td>\n",
              "      <td>31825295.0</td>\n",
              "      <td>NaN</td>\n",
              "    </tr>\n",
              "    <tr>\n",
              "      <th>...</th>\n",
              "      <td>...</td>\n",
              "      <td>...</td>\n",
              "      <td>...</td>\n",
              "      <td>...</td>\n",
              "      <td>...</td>\n",
              "      <td>...</td>\n",
              "      <td>...</td>\n",
              "      <td>...</td>\n",
              "      <td>...</td>\n",
              "      <td>...</td>\n",
              "      <td>...</td>\n",
              "      <td>...</td>\n",
              "      <td>...</td>\n",
              "      <td>...</td>\n",
              "      <td>...</td>\n",
              "      <td>...</td>\n",
              "      <td>...</td>\n",
              "      <td>...</td>\n",
              "      <td>...</td>\n",
              "      <td>...</td>\n",
              "      <td>...</td>\n",
              "      <td>...</td>\n",
              "      <td>...</td>\n",
              "      <td>...</td>\n",
              "      <td>...</td>\n",
              "      <td>...</td>\n",
              "      <td>...</td>\n",
              "      <td>...</td>\n",
              "      <td>...</td>\n",
              "      <td>...</td>\n",
              "      <td>...</td>\n",
              "      <td>...</td>\n",
              "      <td>...</td>\n",
              "      <td>...</td>\n",
              "      <td>...</td>\n",
              "      <td>...</td>\n",
              "      <td>...</td>\n",
              "      <td>...</td>\n",
              "      <td>...</td>\n",
              "      <td>...</td>\n",
              "      <td>...</td>\n",
              "      <td>...</td>\n",
              "      <td>...</td>\n",
              "      <td>...</td>\n",
              "      <td>...</td>\n",
              "      <td>...</td>\n",
              "      <td>...</td>\n",
              "      <td>...</td>\n",
              "      <td>...</td>\n",
              "      <td>...</td>\n",
              "      <td>...</td>\n",
              "      <td>...</td>\n",
              "      <td>...</td>\n",
              "      <td>...</td>\n",
              "      <td>...</td>\n",
              "      <td>...</td>\n",
              "      <td>...</td>\n",
              "      <td>...</td>\n",
              "      <td>...</td>\n",
              "      <td>...</td>\n",
              "      <td>...</td>\n",
              "      <td>...</td>\n",
              "      <td>...</td>\n",
              "      <td>...</td>\n",
              "      <td>...</td>\n",
              "    </tr>\n",
              "    <tr>\n",
              "      <th>262</th>\n",
              "      <td>Kosovo</td>\n",
              "      <td>XKX</td>\n",
              "      <td>Population, total</td>\n",
              "      <td>SP.POP.TOTL</td>\n",
              "      <td>947000.0</td>\n",
              "      <td>966000.0</td>\n",
              "      <td>994000.0</td>\n",
              "      <td>1022000.0</td>\n",
              "      <td>1050000.0</td>\n",
              "      <td>1078000.0</td>\n",
              "      <td>1106000.0</td>\n",
              "      <td>1135000.0</td>\n",
              "      <td>1163000.0</td>\n",
              "      <td>1191000.0</td>\n",
              "      <td>1219000.0</td>\n",
              "      <td>1247000.0</td>\n",
              "      <td>1278000.0</td>\n",
              "      <td>1308000.0</td>\n",
              "      <td>1339000.0</td>\n",
              "      <td>1369000.0</td>\n",
              "      <td>1400000.0</td>\n",
              "      <td>1430000.0</td>\n",
              "      <td>1460000.0</td>\n",
              "      <td>1491000.0</td>\n",
              "      <td>1521000.0</td>\n",
              "      <td>1552000.0</td>\n",
              "      <td>1582000.0</td>\n",
              "      <td>1614000.0</td>\n",
              "      <td>1647000.0</td>\n",
              "      <td>1682000.0</td>\n",
              "      <td>1717000.0</td>\n",
              "      <td>1753000.0</td>\n",
              "      <td>1791000.0</td>\n",
              "      <td>1827000.0</td>\n",
              "      <td>1862000.0</td>\n",
              "      <td>1898000.0</td>\n",
              "      <td>1932000.0</td>\n",
              "      <td>1965000.0</td>\n",
              "      <td>1997000.0</td>\n",
              "      <td>2029000.0</td>\n",
              "      <td>2059000.0</td>\n",
              "      <td>2086000.0</td>\n",
              "      <td>1966000.0</td>\n",
              "      <td>1762000.0</td>\n",
              "      <td>1700000.0</td>\n",
              "      <td>1701154.0</td>\n",
              "      <td>1702310.0</td>\n",
              "      <td>1703466.0</td>\n",
              "      <td>1704622.0</td>\n",
              "      <td>1705780.0</td>\n",
              "      <td>1719536.0</td>\n",
              "      <td>1733404.0</td>\n",
              "      <td>1747383.0</td>\n",
              "      <td>1761474.0</td>\n",
              "      <td>1775680.0</td>\n",
              "      <td>1791000.0</td>\n",
              "      <td>1807106.0</td>\n",
              "      <td>1818117.0</td>\n",
              "      <td>1812771.0</td>\n",
              "      <td>1788196.0</td>\n",
              "      <td>1777557.0</td>\n",
              "      <td>1791003.0</td>\n",
              "      <td>1797085.0</td>\n",
              "      <td>1794248.0</td>\n",
              "      <td>NaN</td>\n",
              "    </tr>\n",
              "    <tr>\n",
              "      <th>263</th>\n",
              "      <td>Yemen, Rep.</td>\n",
              "      <td>YEM</td>\n",
              "      <td>Population, total</td>\n",
              "      <td>SP.POP.TOTL</td>\n",
              "      <td>5315355.0</td>\n",
              "      <td>5393036.0</td>\n",
              "      <td>5473671.0</td>\n",
              "      <td>5556766.0</td>\n",
              "      <td>5641597.0</td>\n",
              "      <td>5727751.0</td>\n",
              "      <td>5816247.0</td>\n",
              "      <td>5907874.0</td>\n",
              "      <td>6001852.0</td>\n",
              "      <td>6097035.0</td>\n",
              "      <td>6193384.0</td>\n",
              "      <td>6290365.0</td>\n",
              "      <td>6390574.0</td>\n",
              "      <td>6500816.0</td>\n",
              "      <td>6629999.0</td>\n",
              "      <td>6784695.0</td>\n",
              "      <td>6967941.0</td>\n",
              "      <td>7178675.0</td>\n",
              "      <td>7414158.0</td>\n",
              "      <td>7669694.0</td>\n",
              "      <td>7941898.0</td>\n",
              "      <td>8231910.0</td>\n",
              "      <td>8541605.0</td>\n",
              "      <td>8869370.0</td>\n",
              "      <td>9213084.0</td>\n",
              "      <td>9572175.0</td>\n",
              "      <td>9941109.0</td>\n",
              "      <td>10322043.0</td>\n",
              "      <td>10730862.0</td>\n",
              "      <td>11189177.0</td>\n",
              "      <td>11709993.0</td>\n",
              "      <td>12302124.0</td>\n",
              "      <td>12954155.0</td>\n",
              "      <td>13634076.0</td>\n",
              "      <td>14297613.0</td>\n",
              "      <td>14913315.0</td>\n",
              "      <td>15469274.0</td>\n",
              "      <td>15975668.0</td>\n",
              "      <td>16450310.0</td>\n",
              "      <td>16921149.0</td>\n",
              "      <td>17409072.0</td>\n",
              "      <td>17918373.0</td>\n",
              "      <td>18443691.0</td>\n",
              "      <td>18985000.0</td>\n",
              "      <td>19540098.0</td>\n",
              "      <td>20107409.0</td>\n",
              "      <td>20687646.0</td>\n",
              "      <td>21282515.0</td>\n",
              "      <td>21892146.0</td>\n",
              "      <td>22516460.0</td>\n",
              "      <td>23154855.0</td>\n",
              "      <td>23807588.0</td>\n",
              "      <td>24473178.0</td>\n",
              "      <td>25147109.0</td>\n",
              "      <td>25823485.0</td>\n",
              "      <td>26497889.0</td>\n",
              "      <td>27168210.0</td>\n",
              "      <td>27834821.0</td>\n",
              "      <td>28498687.0</td>\n",
              "      <td>29161922.0</td>\n",
              "      <td>NaN</td>\n",
              "    </tr>\n",
              "    <tr>\n",
              "      <th>264</th>\n",
              "      <td>South Africa</td>\n",
              "      <td>ZAF</td>\n",
              "      <td>Population, total</td>\n",
              "      <td>SP.POP.TOTL</td>\n",
              "      <td>17099840.0</td>\n",
              "      <td>17524533.0</td>\n",
              "      <td>17965725.0</td>\n",
              "      <td>18423161.0</td>\n",
              "      <td>18896307.0</td>\n",
              "      <td>19384841.0</td>\n",
              "      <td>19888250.0</td>\n",
              "      <td>20406864.0</td>\n",
              "      <td>20942145.0</td>\n",
              "      <td>21496075.0</td>\n",
              "      <td>22069776.0</td>\n",
              "      <td>22665271.0</td>\n",
              "      <td>23281508.0</td>\n",
              "      <td>23913099.0</td>\n",
              "      <td>24552540.0</td>\n",
              "      <td>25195187.0</td>\n",
              "      <td>25836888.0</td>\n",
              "      <td>26480913.0</td>\n",
              "      <td>27138965.0</td>\n",
              "      <td>27827320.0</td>\n",
              "      <td>28556769.0</td>\n",
              "      <td>29333103.0</td>\n",
              "      <td>30150448.0</td>\n",
              "      <td>30993758.0</td>\n",
              "      <td>31841593.0</td>\n",
              "      <td>32678874.0</td>\n",
              "      <td>33495953.0</td>\n",
              "      <td>34297727.0</td>\n",
              "      <td>35100909.0</td>\n",
              "      <td>35930050.0</td>\n",
              "      <td>36800509.0</td>\n",
              "      <td>37718950.0</td>\n",
              "      <td>38672607.0</td>\n",
              "      <td>39633750.0</td>\n",
              "      <td>40564059.0</td>\n",
              "      <td>41435758.0</td>\n",
              "      <td>42241011.0</td>\n",
              "      <td>42987461.0</td>\n",
              "      <td>43682260.0</td>\n",
              "      <td>44338543.0</td>\n",
              "      <td>44967708.0</td>\n",
              "      <td>45571274.0</td>\n",
              "      <td>46150913.0</td>\n",
              "      <td>46719196.0</td>\n",
              "      <td>47291610.0</td>\n",
              "      <td>47880601.0</td>\n",
              "      <td>48489459.0</td>\n",
              "      <td>49119759.0</td>\n",
              "      <td>49779471.0</td>\n",
              "      <td>50477011.0</td>\n",
              "      <td>51216964.0</td>\n",
              "      <td>52004172.0</td>\n",
              "      <td>52834005.0</td>\n",
              "      <td>53689236.0</td>\n",
              "      <td>54545991.0</td>\n",
              "      <td>55386367.0</td>\n",
              "      <td>56203654.0</td>\n",
              "      <td>57000451.0</td>\n",
              "      <td>57779622.0</td>\n",
              "      <td>58558270.0</td>\n",
              "      <td>NaN</td>\n",
              "    </tr>\n",
              "    <tr>\n",
              "      <th>265</th>\n",
              "      <td>Zambia</td>\n",
              "      <td>ZMB</td>\n",
              "      <td>Population, total</td>\n",
              "      <td>SP.POP.TOTL</td>\n",
              "      <td>3070776.0</td>\n",
              "      <td>3164329.0</td>\n",
              "      <td>3260650.0</td>\n",
              "      <td>3360104.0</td>\n",
              "      <td>3463213.0</td>\n",
              "      <td>3570464.0</td>\n",
              "      <td>3681955.0</td>\n",
              "      <td>3797873.0</td>\n",
              "      <td>3918872.0</td>\n",
              "      <td>4045740.0</td>\n",
              "      <td>4179067.0</td>\n",
              "      <td>4319224.0</td>\n",
              "      <td>4466174.0</td>\n",
              "      <td>4619546.0</td>\n",
              "      <td>4778724.0</td>\n",
              "      <td>4943283.0</td>\n",
              "      <td>5112823.0</td>\n",
              "      <td>5287548.0</td>\n",
              "      <td>5468262.0</td>\n",
              "      <td>5656139.0</td>\n",
              "      <td>5851825.0</td>\n",
              "      <td>6055366.0</td>\n",
              "      <td>6265864.0</td>\n",
              "      <td>6481916.0</td>\n",
              "      <td>6701540.0</td>\n",
              "      <td>6923149.0</td>\n",
              "      <td>7146969.0</td>\n",
              "      <td>7372837.0</td>\n",
              "      <td>7598275.0</td>\n",
              "      <td>7820205.0</td>\n",
              "      <td>8036845.0</td>\n",
              "      <td>8246656.0</td>\n",
              "      <td>8451347.0</td>\n",
              "      <td>8656486.0</td>\n",
              "      <td>8869740.0</td>\n",
              "      <td>9096607.0</td>\n",
              "      <td>9339733.0</td>\n",
              "      <td>9597609.0</td>\n",
              "      <td>9866476.0</td>\n",
              "      <td>10140561.0</td>\n",
              "      <td>10415944.0</td>\n",
              "      <td>10692193.0</td>\n",
              "      <td>10971698.0</td>\n",
              "      <td>11256743.0</td>\n",
              "      <td>11550642.0</td>\n",
              "      <td>11856247.0</td>\n",
              "      <td>12173514.0</td>\n",
              "      <td>12502958.0</td>\n",
              "      <td>12848530.0</td>\n",
              "      <td>13215139.0</td>\n",
              "      <td>13605984.0</td>\n",
              "      <td>14023193.0</td>\n",
              "      <td>14465121.0</td>\n",
              "      <td>14926504.0</td>\n",
              "      <td>15399753.0</td>\n",
              "      <td>15879361.0</td>\n",
              "      <td>16363507.0</td>\n",
              "      <td>16853688.0</td>\n",
              "      <td>17351822.0</td>\n",
              "      <td>17861030.0</td>\n",
              "      <td>NaN</td>\n",
              "    </tr>\n",
              "    <tr>\n",
              "      <th>266</th>\n",
              "      <td>Zimbabwe</td>\n",
              "      <td>ZWE</td>\n",
              "      <td>Population, total</td>\n",
              "      <td>SP.POP.TOTL</td>\n",
              "      <td>3776681.0</td>\n",
              "      <td>3905034.0</td>\n",
              "      <td>4039201.0</td>\n",
              "      <td>4178726.0</td>\n",
              "      <td>4322861.0</td>\n",
              "      <td>4471177.0</td>\n",
              "      <td>4623351.0</td>\n",
              "      <td>4779827.0</td>\n",
              "      <td>4941906.0</td>\n",
              "      <td>5111337.0</td>\n",
              "      <td>5289303.0</td>\n",
              "      <td>5476982.0</td>\n",
              "      <td>5673911.0</td>\n",
              "      <td>5877726.0</td>\n",
              "      <td>6085074.0</td>\n",
              "      <td>6293875.0</td>\n",
              "      <td>6502569.0</td>\n",
              "      <td>6712827.0</td>\n",
              "      <td>6929664.0</td>\n",
              "      <td>7160023.0</td>\n",
              "      <td>7408624.0</td>\n",
              "      <td>7675591.0</td>\n",
              "      <td>7958241.0</td>\n",
              "      <td>8254747.0</td>\n",
              "      <td>8562249.0</td>\n",
              "      <td>8877489.0</td>\n",
              "      <td>9200149.0</td>\n",
              "      <td>9527203.0</td>\n",
              "      <td>9849125.0</td>\n",
              "      <td>10153852.0</td>\n",
              "      <td>10432421.0</td>\n",
              "      <td>10680995.0</td>\n",
              "      <td>10900502.0</td>\n",
              "      <td>11092766.0</td>\n",
              "      <td>11261744.0</td>\n",
              "      <td>11410714.0</td>\n",
              "      <td>11541217.0</td>\n",
              "      <td>11653242.0</td>\n",
              "      <td>11747072.0</td>\n",
              "      <td>11822719.0</td>\n",
              "      <td>11881477.0</td>\n",
              "      <td>11923914.0</td>\n",
              "      <td>11954290.0</td>\n",
              "      <td>11982224.0</td>\n",
              "      <td>12019912.0</td>\n",
              "      <td>12076699.0</td>\n",
              "      <td>12155491.0</td>\n",
              "      <td>12255922.0</td>\n",
              "      <td>12379549.0</td>\n",
              "      <td>12526968.0</td>\n",
              "      <td>12697723.0</td>\n",
              "      <td>12894316.0</td>\n",
              "      <td>13115131.0</td>\n",
              "      <td>13350356.0</td>\n",
              "      <td>13586681.0</td>\n",
              "      <td>13814629.0</td>\n",
              "      <td>14030390.0</td>\n",
              "      <td>14236745.0</td>\n",
              "      <td>14439018.0</td>\n",
              "      <td>14645468.0</td>\n",
              "      <td>NaN</td>\n",
              "    </tr>\n",
              "  </tbody>\n",
              "</table>\n",
              "<p>266 rows × 65 columns</p>\n",
              "</div>"
            ],
            "text/plain": [
              "           Data Source World Development Indicators  ... Unnamed: 63 Unnamed: 64\n",
              "0    Last Updated Date          2021-03-19 00:00:00  ...         NaN         NaN\n",
              "2         Country Name                 Country Code  ...      2019.0      2020.0\n",
              "3                Aruba                          ABW  ...    106314.0         NaN\n",
              "4          Afghanistan                          AFG  ...  38041754.0         NaN\n",
              "5               Angola                          AGO  ...  31825295.0         NaN\n",
              "..                 ...                          ...  ...         ...         ...\n",
              "262             Kosovo                          XKX  ...   1794248.0         NaN\n",
              "263        Yemen, Rep.                          YEM  ...  29161922.0         NaN\n",
              "264       South Africa                          ZAF  ...  58558270.0         NaN\n",
              "265             Zambia                          ZMB  ...  17861030.0         NaN\n",
              "266           Zimbabwe                          ZWE  ...  14645468.0         NaN\n",
              "\n",
              "[266 rows x 65 columns]"
            ]
          },
          "metadata": {
            "tags": []
          },
          "execution_count": 9
        }
      ]
    },
    {
      "cell_type": "code",
      "metadata": {
        "id": "GUs0F2GPWQ18"
      },
      "source": [
        "datainCleared = datain.dropna()"
      ],
      "execution_count": 10,
      "outputs": []
    },
    {
      "cell_type": "code",
      "metadata": {
        "colab": {
          "base_uri": "https://localhost:8080/",
          "height": 147
        },
        "id": "OEtEkVhCWsmN",
        "outputId": "03ec1790-858d-453d-d35c-2512a60edca7"
      },
      "source": [
        "datainCleared"
      ],
      "execution_count": 11,
      "outputs": [
        {
          "output_type": "execute_result",
          "data": {
            "text/html": [
              "<div>\n",
              "<style scoped>\n",
              "    .dataframe tbody tr th:only-of-type {\n",
              "        vertical-align: middle;\n",
              "    }\n",
              "\n",
              "    .dataframe tbody tr th {\n",
              "        vertical-align: top;\n",
              "    }\n",
              "\n",
              "    .dataframe thead th {\n",
              "        text-align: right;\n",
              "    }\n",
              "</style>\n",
              "<table border=\"1\" class=\"dataframe\">\n",
              "  <thead>\n",
              "    <tr style=\"text-align: right;\">\n",
              "      <th></th>\n",
              "      <th>Data Source</th>\n",
              "      <th>World Development Indicators</th>\n",
              "      <th>Unnamed: 2</th>\n",
              "      <th>Unnamed: 3</th>\n",
              "      <th>Unnamed: 4</th>\n",
              "      <th>Unnamed: 5</th>\n",
              "      <th>Unnamed: 6</th>\n",
              "      <th>Unnamed: 7</th>\n",
              "      <th>Unnamed: 8</th>\n",
              "      <th>Unnamed: 9</th>\n",
              "      <th>Unnamed: 10</th>\n",
              "      <th>Unnamed: 11</th>\n",
              "      <th>Unnamed: 12</th>\n",
              "      <th>Unnamed: 13</th>\n",
              "      <th>Unnamed: 14</th>\n",
              "      <th>Unnamed: 15</th>\n",
              "      <th>Unnamed: 16</th>\n",
              "      <th>Unnamed: 17</th>\n",
              "      <th>Unnamed: 18</th>\n",
              "      <th>Unnamed: 19</th>\n",
              "      <th>Unnamed: 20</th>\n",
              "      <th>Unnamed: 21</th>\n",
              "      <th>Unnamed: 22</th>\n",
              "      <th>Unnamed: 23</th>\n",
              "      <th>Unnamed: 24</th>\n",
              "      <th>Unnamed: 25</th>\n",
              "      <th>Unnamed: 26</th>\n",
              "      <th>Unnamed: 27</th>\n",
              "      <th>Unnamed: 28</th>\n",
              "      <th>Unnamed: 29</th>\n",
              "      <th>Unnamed: 30</th>\n",
              "      <th>Unnamed: 31</th>\n",
              "      <th>Unnamed: 32</th>\n",
              "      <th>Unnamed: 33</th>\n",
              "      <th>Unnamed: 34</th>\n",
              "      <th>Unnamed: 35</th>\n",
              "      <th>Unnamed: 36</th>\n",
              "      <th>Unnamed: 37</th>\n",
              "      <th>Unnamed: 38</th>\n",
              "      <th>Unnamed: 39</th>\n",
              "      <th>Unnamed: 40</th>\n",
              "      <th>Unnamed: 41</th>\n",
              "      <th>Unnamed: 42</th>\n",
              "      <th>Unnamed: 43</th>\n",
              "      <th>Unnamed: 44</th>\n",
              "      <th>Unnamed: 45</th>\n",
              "      <th>Unnamed: 46</th>\n",
              "      <th>Unnamed: 47</th>\n",
              "      <th>Unnamed: 48</th>\n",
              "      <th>Unnamed: 49</th>\n",
              "      <th>Unnamed: 50</th>\n",
              "      <th>Unnamed: 51</th>\n",
              "      <th>Unnamed: 52</th>\n",
              "      <th>Unnamed: 53</th>\n",
              "      <th>Unnamed: 54</th>\n",
              "      <th>Unnamed: 55</th>\n",
              "      <th>Unnamed: 56</th>\n",
              "      <th>Unnamed: 57</th>\n",
              "      <th>Unnamed: 58</th>\n",
              "      <th>Unnamed: 59</th>\n",
              "      <th>Unnamed: 60</th>\n",
              "      <th>Unnamed: 61</th>\n",
              "      <th>Unnamed: 62</th>\n",
              "      <th>Unnamed: 63</th>\n",
              "      <th>Unnamed: 64</th>\n",
              "    </tr>\n",
              "  </thead>\n",
              "  <tbody>\n",
              "    <tr>\n",
              "      <th>2</th>\n",
              "      <td>Country Name</td>\n",
              "      <td>Country Code</td>\n",
              "      <td>Indicator Name</td>\n",
              "      <td>Indicator Code</td>\n",
              "      <td>1960.0</td>\n",
              "      <td>1961.0</td>\n",
              "      <td>1962.0</td>\n",
              "      <td>1963.0</td>\n",
              "      <td>1964.0</td>\n",
              "      <td>1965.0</td>\n",
              "      <td>1966.0</td>\n",
              "      <td>1967.0</td>\n",
              "      <td>1968.0</td>\n",
              "      <td>1969.0</td>\n",
              "      <td>1970.0</td>\n",
              "      <td>1971.0</td>\n",
              "      <td>1972.0</td>\n",
              "      <td>1973.0</td>\n",
              "      <td>1974.0</td>\n",
              "      <td>1975.0</td>\n",
              "      <td>1976.0</td>\n",
              "      <td>1977.0</td>\n",
              "      <td>1978.0</td>\n",
              "      <td>1979.0</td>\n",
              "      <td>1980.0</td>\n",
              "      <td>1981.0</td>\n",
              "      <td>1982.0</td>\n",
              "      <td>1983.0</td>\n",
              "      <td>1984.0</td>\n",
              "      <td>1985.0</td>\n",
              "      <td>1986.0</td>\n",
              "      <td>1987.0</td>\n",
              "      <td>1988.0</td>\n",
              "      <td>1989.0</td>\n",
              "      <td>1990.0</td>\n",
              "      <td>1991.0</td>\n",
              "      <td>1992.0</td>\n",
              "      <td>1993.0</td>\n",
              "      <td>1994.0</td>\n",
              "      <td>1995.0</td>\n",
              "      <td>1996.0</td>\n",
              "      <td>1997.0</td>\n",
              "      <td>1998.0</td>\n",
              "      <td>1999.0</td>\n",
              "      <td>2000.0</td>\n",
              "      <td>2001.0</td>\n",
              "      <td>2002.0</td>\n",
              "      <td>2003.0</td>\n",
              "      <td>2004.0</td>\n",
              "      <td>2005.0</td>\n",
              "      <td>2006.0</td>\n",
              "      <td>2007.0</td>\n",
              "      <td>2008.0</td>\n",
              "      <td>2009.0</td>\n",
              "      <td>2010.0</td>\n",
              "      <td>2011.0</td>\n",
              "      <td>2012.0</td>\n",
              "      <td>2013.0</td>\n",
              "      <td>2014.0</td>\n",
              "      <td>2015.0</td>\n",
              "      <td>2016.0</td>\n",
              "      <td>2017.0</td>\n",
              "      <td>2018.0</td>\n",
              "      <td>2019.0</td>\n",
              "      <td>2020.0</td>\n",
              "    </tr>\n",
              "  </tbody>\n",
              "</table>\n",
              "</div>"
            ],
            "text/plain": [
              "    Data Source World Development Indicators  ... Unnamed: 63 Unnamed: 64\n",
              "2  Country Name                 Country Code  ...      2019.0      2020.0\n",
              "\n",
              "[1 rows x 65 columns]"
            ]
          },
          "metadata": {
            "tags": []
          },
          "execution_count": 11
        }
      ]
    },
    {
      "cell_type": "code",
      "metadata": {
        "id": "CMMQf4edU0tF",
        "colab": {
          "base_uri": "https://localhost:8080/"
        },
        "outputId": "bb40b2de-6746-4909-f141-da6a0d93d5e5"
      },
      "source": [
        "print(\"there are {} countries and {} time stamps in the data\".\n",
        "      format(*datain.shape))"
      ],
      "execution_count": 12,
      "outputs": [
        {
          "output_type": "stream",
          "text": [
            "there are 267 countries and 65 time stamps in the data\n"
          ],
          "name": "stdout"
        }
      ]
    },
    {
      "cell_type": "code",
      "metadata": {
        "id": "XHG9N1Mcsfcq",
        "colab": {
          "base_uri": "https://localhost:8080/"
        },
        "outputId": "e63f1d2d-54d6-4e40-c339-fc5a739c4a41"
      },
      "source": [
        "print(\"there are {} countries and {} time stamps in the cleaned data\".\n",
        "      format(*datainCleared.shape))"
      ],
      "execution_count": 13,
      "outputs": [
        {
          "output_type": "stream",
          "text": [
            "there are 1 countries and 65 time stamps in the cleaned data\n"
          ],
          "name": "stdout"
        }
      ]
    },
    {
      "cell_type": "code",
      "metadata": {
        "id": "PVj4itwdXzAs"
      },
      "source": [
        "datain = pd.read_csv('country_pop_clean.csv',index_col=0)"
      ],
      "execution_count": 14,
      "outputs": []
    },
    {
      "cell_type": "code",
      "metadata": {
        "colab": {
          "base_uri": "https://localhost:8080/",
          "height": 502
        },
        "id": "LyI-mheqX7G5",
        "outputId": "b6663a77-a696-4514-de83-d9cfae893df9"
      },
      "source": [
        "datain"
      ],
      "execution_count": 15,
      "outputs": [
        {
          "output_type": "execute_result",
          "data": {
            "text/html": [
              "<div>\n",
              "<style scoped>\n",
              "    .dataframe tbody tr th:only-of-type {\n",
              "        vertical-align: middle;\n",
              "    }\n",
              "\n",
              "    .dataframe tbody tr th {\n",
              "        vertical-align: top;\n",
              "    }\n",
              "\n",
              "    .dataframe thead th {\n",
              "        text-align: right;\n",
              "    }\n",
              "</style>\n",
              "<table border=\"1\" class=\"dataframe\">\n",
              "  <thead>\n",
              "    <tr style=\"text-align: right;\">\n",
              "      <th></th>\n",
              "      <th>1960.0</th>\n",
              "      <th>1961.0</th>\n",
              "      <th>1962.0</th>\n",
              "      <th>1963.0</th>\n",
              "      <th>1964.0</th>\n",
              "      <th>1965.0</th>\n",
              "      <th>1966.0</th>\n",
              "      <th>1967.0</th>\n",
              "      <th>1968.0</th>\n",
              "      <th>1969.0</th>\n",
              "      <th>1970.0</th>\n",
              "      <th>1971.0</th>\n",
              "      <th>1972.0</th>\n",
              "      <th>1973.0</th>\n",
              "      <th>1974.0</th>\n",
              "      <th>1975.0</th>\n",
              "      <th>1976.0</th>\n",
              "      <th>1977.0</th>\n",
              "      <th>1978.0</th>\n",
              "      <th>1979.0</th>\n",
              "      <th>1980.0</th>\n",
              "      <th>1981.0</th>\n",
              "      <th>1982.0</th>\n",
              "      <th>1983.0</th>\n",
              "      <th>1984.0</th>\n",
              "      <th>1985.0</th>\n",
              "      <th>1986.0</th>\n",
              "      <th>1987.0</th>\n",
              "      <th>1988.0</th>\n",
              "      <th>1989.0</th>\n",
              "      <th>1990.0</th>\n",
              "      <th>1991.0</th>\n",
              "      <th>1992.0</th>\n",
              "      <th>1993.0</th>\n",
              "      <th>1994.0</th>\n",
              "      <th>1995.0</th>\n",
              "      <th>1996.0</th>\n",
              "      <th>1997.0</th>\n",
              "      <th>1998.0</th>\n",
              "      <th>1999.0</th>\n",
              "      <th>2000.0</th>\n",
              "      <th>2001.0</th>\n",
              "      <th>2002.0</th>\n",
              "      <th>2003.0</th>\n",
              "      <th>2004.0</th>\n",
              "      <th>2005.0</th>\n",
              "      <th>2006.0</th>\n",
              "      <th>2007.0</th>\n",
              "      <th>2008.0</th>\n",
              "      <th>2009.0</th>\n",
              "      <th>2010.0</th>\n",
              "      <th>2011.0</th>\n",
              "      <th>2012.0</th>\n",
              "      <th>2013.0</th>\n",
              "      <th>2014.0</th>\n",
              "      <th>2015.0</th>\n",
              "      <th>2016.0</th>\n",
              "      <th>2017.0</th>\n",
              "      <th>2018.0</th>\n",
              "      <th>2019.0</th>\n",
              "    </tr>\n",
              "    <tr>\n",
              "      <th>Data Source</th>\n",
              "      <th></th>\n",
              "      <th></th>\n",
              "      <th></th>\n",
              "      <th></th>\n",
              "      <th></th>\n",
              "      <th></th>\n",
              "      <th></th>\n",
              "      <th></th>\n",
              "      <th></th>\n",
              "      <th></th>\n",
              "      <th></th>\n",
              "      <th></th>\n",
              "      <th></th>\n",
              "      <th></th>\n",
              "      <th></th>\n",
              "      <th></th>\n",
              "      <th></th>\n",
              "      <th></th>\n",
              "      <th></th>\n",
              "      <th></th>\n",
              "      <th></th>\n",
              "      <th></th>\n",
              "      <th></th>\n",
              "      <th></th>\n",
              "      <th></th>\n",
              "      <th></th>\n",
              "      <th></th>\n",
              "      <th></th>\n",
              "      <th></th>\n",
              "      <th></th>\n",
              "      <th></th>\n",
              "      <th></th>\n",
              "      <th></th>\n",
              "      <th></th>\n",
              "      <th></th>\n",
              "      <th></th>\n",
              "      <th></th>\n",
              "      <th></th>\n",
              "      <th></th>\n",
              "      <th></th>\n",
              "      <th></th>\n",
              "      <th></th>\n",
              "      <th></th>\n",
              "      <th></th>\n",
              "      <th></th>\n",
              "      <th></th>\n",
              "      <th></th>\n",
              "      <th></th>\n",
              "      <th></th>\n",
              "      <th></th>\n",
              "      <th></th>\n",
              "      <th></th>\n",
              "      <th></th>\n",
              "      <th></th>\n",
              "      <th></th>\n",
              "      <th></th>\n",
              "      <th></th>\n",
              "      <th></th>\n",
              "      <th></th>\n",
              "      <th></th>\n",
              "    </tr>\n",
              "  </thead>\n",
              "  <tbody>\n",
              "    <tr>\n",
              "      <th>Aruba</th>\n",
              "      <td>54211.0</td>\n",
              "      <td>55438.0</td>\n",
              "      <td>56225.0</td>\n",
              "      <td>56695.0</td>\n",
              "      <td>57032.0</td>\n",
              "      <td>57360.0</td>\n",
              "      <td>57715.0</td>\n",
              "      <td>58055.0</td>\n",
              "      <td>58386.0</td>\n",
              "      <td>58726.0</td>\n",
              "      <td>59063.0</td>\n",
              "      <td>59440.0</td>\n",
              "      <td>59840.0</td>\n",
              "      <td>60243.0</td>\n",
              "      <td>60528.0</td>\n",
              "      <td>60657.0</td>\n",
              "      <td>60586.0</td>\n",
              "      <td>60366.0</td>\n",
              "      <td>60103.0</td>\n",
              "      <td>59980.0</td>\n",
              "      <td>60096.0</td>\n",
              "      <td>60567.0</td>\n",
              "      <td>61345.0</td>\n",
              "      <td>62201.0</td>\n",
              "      <td>62836.0</td>\n",
              "      <td>63026.0</td>\n",
              "      <td>62644.0</td>\n",
              "      <td>61833.0</td>\n",
              "      <td>61079.0</td>\n",
              "      <td>61032.0</td>\n",
              "      <td>62149.0</td>\n",
              "      <td>64622.0</td>\n",
              "      <td>68235.0</td>\n",
              "      <td>72504.0</td>\n",
              "      <td>76700.0</td>\n",
              "      <td>80324.0</td>\n",
              "      <td>83200.0</td>\n",
              "      <td>85451.0</td>\n",
              "      <td>87277.0</td>\n",
              "      <td>89005.0</td>\n",
              "      <td>90853.0</td>\n",
              "      <td>92898.0</td>\n",
              "      <td>94992.0</td>\n",
              "      <td>97017.0</td>\n",
              "      <td>98737.0</td>\n",
              "      <td>100031.0</td>\n",
              "      <td>100834.0</td>\n",
              "      <td>101222.0</td>\n",
              "      <td>101358.0</td>\n",
              "      <td>101455.0</td>\n",
              "      <td>101669.0</td>\n",
              "      <td>102046.0</td>\n",
              "      <td>102560.0</td>\n",
              "      <td>103159.0</td>\n",
              "      <td>103774.0</td>\n",
              "      <td>104341.0</td>\n",
              "      <td>104872.0</td>\n",
              "      <td>105366.0</td>\n",
              "      <td>105845.0</td>\n",
              "      <td>106314.0</td>\n",
              "    </tr>\n",
              "    <tr>\n",
              "      <th>Afghanistan</th>\n",
              "      <td>8996973.0</td>\n",
              "      <td>9169410.0</td>\n",
              "      <td>9351441.0</td>\n",
              "      <td>9543205.0</td>\n",
              "      <td>9744781.0</td>\n",
              "      <td>9956320.0</td>\n",
              "      <td>10174836.0</td>\n",
              "      <td>10399926.0</td>\n",
              "      <td>10637063.0</td>\n",
              "      <td>10893776.0</td>\n",
              "      <td>11173642.0</td>\n",
              "      <td>11475445.0</td>\n",
              "      <td>11791215.0</td>\n",
              "      <td>12108963.0</td>\n",
              "      <td>12412950.0</td>\n",
              "      <td>12689160.0</td>\n",
              "      <td>12943093.0</td>\n",
              "      <td>13171306.0</td>\n",
              "      <td>13341198.0</td>\n",
              "      <td>13411056.0</td>\n",
              "      <td>13356511.0</td>\n",
              "      <td>13171673.0</td>\n",
              "      <td>12882528.0</td>\n",
              "      <td>12537730.0</td>\n",
              "      <td>12204292.0</td>\n",
              "      <td>11938208.0</td>\n",
              "      <td>11736179.0</td>\n",
              "      <td>11604534.0</td>\n",
              "      <td>11618005.0</td>\n",
              "      <td>11868877.0</td>\n",
              "      <td>12412308.0</td>\n",
              "      <td>13299017.0</td>\n",
              "      <td>14485546.0</td>\n",
              "      <td>15816603.0</td>\n",
              "      <td>17075727.0</td>\n",
              "      <td>18110657.0</td>\n",
              "      <td>18853437.0</td>\n",
              "      <td>19357126.0</td>\n",
              "      <td>19737765.0</td>\n",
              "      <td>20170844.0</td>\n",
              "      <td>20779953.0</td>\n",
              "      <td>21606988.0</td>\n",
              "      <td>22600770.0</td>\n",
              "      <td>23680871.0</td>\n",
              "      <td>24726684.0</td>\n",
              "      <td>25654277.0</td>\n",
              "      <td>26433049.0</td>\n",
              "      <td>27100536.0</td>\n",
              "      <td>27722276.0</td>\n",
              "      <td>28394813.0</td>\n",
              "      <td>29185507.0</td>\n",
              "      <td>30117413.0</td>\n",
              "      <td>31161376.0</td>\n",
              "      <td>32269589.0</td>\n",
              "      <td>33370794.0</td>\n",
              "      <td>34413603.0</td>\n",
              "      <td>35383128.0</td>\n",
              "      <td>36296400.0</td>\n",
              "      <td>37172386.0</td>\n",
              "      <td>38041754.0</td>\n",
              "    </tr>\n",
              "    <tr>\n",
              "      <th>Angola</th>\n",
              "      <td>5454933.0</td>\n",
              "      <td>5531472.0</td>\n",
              "      <td>5608539.0</td>\n",
              "      <td>5679458.0</td>\n",
              "      <td>5735044.0</td>\n",
              "      <td>5770570.0</td>\n",
              "      <td>5781214.0</td>\n",
              "      <td>5774243.0</td>\n",
              "      <td>5771652.0</td>\n",
              "      <td>5803254.0</td>\n",
              "      <td>5890365.0</td>\n",
              "      <td>6040777.0</td>\n",
              "      <td>6248552.0</td>\n",
              "      <td>6496962.0</td>\n",
              "      <td>6761380.0</td>\n",
              "      <td>7024000.0</td>\n",
              "      <td>7279509.0</td>\n",
              "      <td>7533735.0</td>\n",
              "      <td>7790707.0</td>\n",
              "      <td>8058067.0</td>\n",
              "      <td>8341289.0</td>\n",
              "      <td>8640446.0</td>\n",
              "      <td>8952950.0</td>\n",
              "      <td>9278096.0</td>\n",
              "      <td>9614754.0</td>\n",
              "      <td>9961997.0</td>\n",
              "      <td>10320111.0</td>\n",
              "      <td>10689250.0</td>\n",
              "      <td>11068050.0</td>\n",
              "      <td>11454777.0</td>\n",
              "      <td>11848386.0</td>\n",
              "      <td>12248901.0</td>\n",
              "      <td>12657366.0</td>\n",
              "      <td>13075049.0</td>\n",
              "      <td>13503747.0</td>\n",
              "      <td>13945206.0</td>\n",
              "      <td>14400719.0</td>\n",
              "      <td>14871570.0</td>\n",
              "      <td>15359601.0</td>\n",
              "      <td>15866869.0</td>\n",
              "      <td>16395473.0</td>\n",
              "      <td>16945753.0</td>\n",
              "      <td>17519417.0</td>\n",
              "      <td>18121479.0</td>\n",
              "      <td>18758145.0</td>\n",
              "      <td>19433602.0</td>\n",
              "      <td>20149901.0</td>\n",
              "      <td>20905363.0</td>\n",
              "      <td>21695634.0</td>\n",
              "      <td>22514281.0</td>\n",
              "      <td>23356246.0</td>\n",
              "      <td>24220661.0</td>\n",
              "      <td>25107931.0</td>\n",
              "      <td>26015780.0</td>\n",
              "      <td>26941779.0</td>\n",
              "      <td>27884381.0</td>\n",
              "      <td>28842484.0</td>\n",
              "      <td>29816748.0</td>\n",
              "      <td>30809762.0</td>\n",
              "      <td>31825295.0</td>\n",
              "    </tr>\n",
              "    <tr>\n",
              "      <th>Albania</th>\n",
              "      <td>1608800.0</td>\n",
              "      <td>1659800.0</td>\n",
              "      <td>1711319.0</td>\n",
              "      <td>1762621.0</td>\n",
              "      <td>1814135.0</td>\n",
              "      <td>1864791.0</td>\n",
              "      <td>1914573.0</td>\n",
              "      <td>1965598.0</td>\n",
              "      <td>2022272.0</td>\n",
              "      <td>2081695.0</td>\n",
              "      <td>2135479.0</td>\n",
              "      <td>2187853.0</td>\n",
              "      <td>2243126.0</td>\n",
              "      <td>2296752.0</td>\n",
              "      <td>2350124.0</td>\n",
              "      <td>2404831.0</td>\n",
              "      <td>2458526.0</td>\n",
              "      <td>2513546.0</td>\n",
              "      <td>2566266.0</td>\n",
              "      <td>2617832.0</td>\n",
              "      <td>2671997.0</td>\n",
              "      <td>2726056.0</td>\n",
              "      <td>2784278.0</td>\n",
              "      <td>2843960.0</td>\n",
              "      <td>2904429.0</td>\n",
              "      <td>2964762.0</td>\n",
              "      <td>3022635.0</td>\n",
              "      <td>3083605.0</td>\n",
              "      <td>3142336.0</td>\n",
              "      <td>3227943.0</td>\n",
              "      <td>3286542.0</td>\n",
              "      <td>3266790.0</td>\n",
              "      <td>3247039.0</td>\n",
              "      <td>3227287.0</td>\n",
              "      <td>3207536.0</td>\n",
              "      <td>3187784.0</td>\n",
              "      <td>3168033.0</td>\n",
              "      <td>3148281.0</td>\n",
              "      <td>3128530.0</td>\n",
              "      <td>3108778.0</td>\n",
              "      <td>3089027.0</td>\n",
              "      <td>3060173.0</td>\n",
              "      <td>3051010.0</td>\n",
              "      <td>3039616.0</td>\n",
              "      <td>3026939.0</td>\n",
              "      <td>3011487.0</td>\n",
              "      <td>2992547.0</td>\n",
              "      <td>2970017.0</td>\n",
              "      <td>2947314.0</td>\n",
              "      <td>2927519.0</td>\n",
              "      <td>2913021.0</td>\n",
              "      <td>2905195.0</td>\n",
              "      <td>2900401.0</td>\n",
              "      <td>2895092.0</td>\n",
              "      <td>2889104.0</td>\n",
              "      <td>2880703.0</td>\n",
              "      <td>2876101.0</td>\n",
              "      <td>2873457.0</td>\n",
              "      <td>2866376.0</td>\n",
              "      <td>2854191.0</td>\n",
              "    </tr>\n",
              "    <tr>\n",
              "      <th>Andorra</th>\n",
              "      <td>13411.0</td>\n",
              "      <td>14375.0</td>\n",
              "      <td>15370.0</td>\n",
              "      <td>16412.0</td>\n",
              "      <td>17469.0</td>\n",
              "      <td>18549.0</td>\n",
              "      <td>19647.0</td>\n",
              "      <td>20758.0</td>\n",
              "      <td>21890.0</td>\n",
              "      <td>23058.0</td>\n",
              "      <td>24276.0</td>\n",
              "      <td>25559.0</td>\n",
              "      <td>26892.0</td>\n",
              "      <td>28232.0</td>\n",
              "      <td>29520.0</td>\n",
              "      <td>30705.0</td>\n",
              "      <td>31777.0</td>\n",
              "      <td>32771.0</td>\n",
              "      <td>33737.0</td>\n",
              "      <td>34818.0</td>\n",
              "      <td>36067.0</td>\n",
              "      <td>37500.0</td>\n",
              "      <td>39114.0</td>\n",
              "      <td>40867.0</td>\n",
              "      <td>42706.0</td>\n",
              "      <td>44600.0</td>\n",
              "      <td>46517.0</td>\n",
              "      <td>48455.0</td>\n",
              "      <td>50434.0</td>\n",
              "      <td>52448.0</td>\n",
              "      <td>54509.0</td>\n",
              "      <td>56671.0</td>\n",
              "      <td>58888.0</td>\n",
              "      <td>60971.0</td>\n",
              "      <td>62677.0</td>\n",
              "      <td>63850.0</td>\n",
              "      <td>64360.0</td>\n",
              "      <td>64327.0</td>\n",
              "      <td>64142.0</td>\n",
              "      <td>64370.0</td>\n",
              "      <td>65390.0</td>\n",
              "      <td>67341.0</td>\n",
              "      <td>70049.0</td>\n",
              "      <td>73182.0</td>\n",
              "      <td>76244.0</td>\n",
              "      <td>78867.0</td>\n",
              "      <td>80993.0</td>\n",
              "      <td>82684.0</td>\n",
              "      <td>83862.0</td>\n",
              "      <td>84463.0</td>\n",
              "      <td>84449.0</td>\n",
              "      <td>83747.0</td>\n",
              "      <td>82427.0</td>\n",
              "      <td>80774.0</td>\n",
              "      <td>79213.0</td>\n",
              "      <td>78011.0</td>\n",
              "      <td>77297.0</td>\n",
              "      <td>77001.0</td>\n",
              "      <td>77006.0</td>\n",
              "      <td>77142.0</td>\n",
              "    </tr>\n",
              "    <tr>\n",
              "      <th>...</th>\n",
              "      <td>...</td>\n",
              "      <td>...</td>\n",
              "      <td>...</td>\n",
              "      <td>...</td>\n",
              "      <td>...</td>\n",
              "      <td>...</td>\n",
              "      <td>...</td>\n",
              "      <td>...</td>\n",
              "      <td>...</td>\n",
              "      <td>...</td>\n",
              "      <td>...</td>\n",
              "      <td>...</td>\n",
              "      <td>...</td>\n",
              "      <td>...</td>\n",
              "      <td>...</td>\n",
              "      <td>...</td>\n",
              "      <td>...</td>\n",
              "      <td>...</td>\n",
              "      <td>...</td>\n",
              "      <td>...</td>\n",
              "      <td>...</td>\n",
              "      <td>...</td>\n",
              "      <td>...</td>\n",
              "      <td>...</td>\n",
              "      <td>...</td>\n",
              "      <td>...</td>\n",
              "      <td>...</td>\n",
              "      <td>...</td>\n",
              "      <td>...</td>\n",
              "      <td>...</td>\n",
              "      <td>...</td>\n",
              "      <td>...</td>\n",
              "      <td>...</td>\n",
              "      <td>...</td>\n",
              "      <td>...</td>\n",
              "      <td>...</td>\n",
              "      <td>...</td>\n",
              "      <td>...</td>\n",
              "      <td>...</td>\n",
              "      <td>...</td>\n",
              "      <td>...</td>\n",
              "      <td>...</td>\n",
              "      <td>...</td>\n",
              "      <td>...</td>\n",
              "      <td>...</td>\n",
              "      <td>...</td>\n",
              "      <td>...</td>\n",
              "      <td>...</td>\n",
              "      <td>...</td>\n",
              "      <td>...</td>\n",
              "      <td>...</td>\n",
              "      <td>...</td>\n",
              "      <td>...</td>\n",
              "      <td>...</td>\n",
              "      <td>...</td>\n",
              "      <td>...</td>\n",
              "      <td>...</td>\n",
              "      <td>...</td>\n",
              "      <td>...</td>\n",
              "      <td>...</td>\n",
              "    </tr>\n",
              "    <tr>\n",
              "      <th>Kosovo</th>\n",
              "      <td>947000.0</td>\n",
              "      <td>966000.0</td>\n",
              "      <td>994000.0</td>\n",
              "      <td>1022000.0</td>\n",
              "      <td>1050000.0</td>\n",
              "      <td>1078000.0</td>\n",
              "      <td>1106000.0</td>\n",
              "      <td>1135000.0</td>\n",
              "      <td>1163000.0</td>\n",
              "      <td>1191000.0</td>\n",
              "      <td>1219000.0</td>\n",
              "      <td>1247000.0</td>\n",
              "      <td>1278000.0</td>\n",
              "      <td>1308000.0</td>\n",
              "      <td>1339000.0</td>\n",
              "      <td>1369000.0</td>\n",
              "      <td>1400000.0</td>\n",
              "      <td>1430000.0</td>\n",
              "      <td>1460000.0</td>\n",
              "      <td>1491000.0</td>\n",
              "      <td>1521000.0</td>\n",
              "      <td>1552000.0</td>\n",
              "      <td>1582000.0</td>\n",
              "      <td>1614000.0</td>\n",
              "      <td>1647000.0</td>\n",
              "      <td>1682000.0</td>\n",
              "      <td>1717000.0</td>\n",
              "      <td>1753000.0</td>\n",
              "      <td>1791000.0</td>\n",
              "      <td>1827000.0</td>\n",
              "      <td>1862000.0</td>\n",
              "      <td>1898000.0</td>\n",
              "      <td>1932000.0</td>\n",
              "      <td>1965000.0</td>\n",
              "      <td>1997000.0</td>\n",
              "      <td>2029000.0</td>\n",
              "      <td>2059000.0</td>\n",
              "      <td>2086000.0</td>\n",
              "      <td>1966000.0</td>\n",
              "      <td>1762000.0</td>\n",
              "      <td>1700000.0</td>\n",
              "      <td>1701154.0</td>\n",
              "      <td>1702310.0</td>\n",
              "      <td>1703466.0</td>\n",
              "      <td>1704622.0</td>\n",
              "      <td>1705780.0</td>\n",
              "      <td>1719536.0</td>\n",
              "      <td>1733404.0</td>\n",
              "      <td>1747383.0</td>\n",
              "      <td>1761474.0</td>\n",
              "      <td>1775680.0</td>\n",
              "      <td>1791000.0</td>\n",
              "      <td>1807106.0</td>\n",
              "      <td>1818117.0</td>\n",
              "      <td>1812771.0</td>\n",
              "      <td>1788196.0</td>\n",
              "      <td>1777557.0</td>\n",
              "      <td>1791003.0</td>\n",
              "      <td>1797085.0</td>\n",
              "      <td>1794248.0</td>\n",
              "    </tr>\n",
              "    <tr>\n",
              "      <th>Yemen, Rep.</th>\n",
              "      <td>5315355.0</td>\n",
              "      <td>5393036.0</td>\n",
              "      <td>5473671.0</td>\n",
              "      <td>5556766.0</td>\n",
              "      <td>5641597.0</td>\n",
              "      <td>5727751.0</td>\n",
              "      <td>5816247.0</td>\n",
              "      <td>5907874.0</td>\n",
              "      <td>6001852.0</td>\n",
              "      <td>6097035.0</td>\n",
              "      <td>6193384.0</td>\n",
              "      <td>6290365.0</td>\n",
              "      <td>6390574.0</td>\n",
              "      <td>6500816.0</td>\n",
              "      <td>6629999.0</td>\n",
              "      <td>6784695.0</td>\n",
              "      <td>6967941.0</td>\n",
              "      <td>7178675.0</td>\n",
              "      <td>7414158.0</td>\n",
              "      <td>7669694.0</td>\n",
              "      <td>7941898.0</td>\n",
              "      <td>8231910.0</td>\n",
              "      <td>8541605.0</td>\n",
              "      <td>8869370.0</td>\n",
              "      <td>9213084.0</td>\n",
              "      <td>9572175.0</td>\n",
              "      <td>9941109.0</td>\n",
              "      <td>10322043.0</td>\n",
              "      <td>10730862.0</td>\n",
              "      <td>11189177.0</td>\n",
              "      <td>11709993.0</td>\n",
              "      <td>12302124.0</td>\n",
              "      <td>12954155.0</td>\n",
              "      <td>13634076.0</td>\n",
              "      <td>14297613.0</td>\n",
              "      <td>14913315.0</td>\n",
              "      <td>15469274.0</td>\n",
              "      <td>15975668.0</td>\n",
              "      <td>16450310.0</td>\n",
              "      <td>16921149.0</td>\n",
              "      <td>17409072.0</td>\n",
              "      <td>17918373.0</td>\n",
              "      <td>18443691.0</td>\n",
              "      <td>18985000.0</td>\n",
              "      <td>19540098.0</td>\n",
              "      <td>20107409.0</td>\n",
              "      <td>20687646.0</td>\n",
              "      <td>21282515.0</td>\n",
              "      <td>21892146.0</td>\n",
              "      <td>22516460.0</td>\n",
              "      <td>23154855.0</td>\n",
              "      <td>23807588.0</td>\n",
              "      <td>24473178.0</td>\n",
              "      <td>25147109.0</td>\n",
              "      <td>25823485.0</td>\n",
              "      <td>26497889.0</td>\n",
              "      <td>27168210.0</td>\n",
              "      <td>27834821.0</td>\n",
              "      <td>28498687.0</td>\n",
              "      <td>29161922.0</td>\n",
              "    </tr>\n",
              "    <tr>\n",
              "      <th>South Africa</th>\n",
              "      <td>17099840.0</td>\n",
              "      <td>17524533.0</td>\n",
              "      <td>17965725.0</td>\n",
              "      <td>18423161.0</td>\n",
              "      <td>18896307.0</td>\n",
              "      <td>19384841.0</td>\n",
              "      <td>19888250.0</td>\n",
              "      <td>20406864.0</td>\n",
              "      <td>20942145.0</td>\n",
              "      <td>21496075.0</td>\n",
              "      <td>22069776.0</td>\n",
              "      <td>22665271.0</td>\n",
              "      <td>23281508.0</td>\n",
              "      <td>23913099.0</td>\n",
              "      <td>24552540.0</td>\n",
              "      <td>25195187.0</td>\n",
              "      <td>25836888.0</td>\n",
              "      <td>26480913.0</td>\n",
              "      <td>27138965.0</td>\n",
              "      <td>27827320.0</td>\n",
              "      <td>28556769.0</td>\n",
              "      <td>29333103.0</td>\n",
              "      <td>30150448.0</td>\n",
              "      <td>30993758.0</td>\n",
              "      <td>31841593.0</td>\n",
              "      <td>32678874.0</td>\n",
              "      <td>33495953.0</td>\n",
              "      <td>34297727.0</td>\n",
              "      <td>35100909.0</td>\n",
              "      <td>35930050.0</td>\n",
              "      <td>36800509.0</td>\n",
              "      <td>37718950.0</td>\n",
              "      <td>38672607.0</td>\n",
              "      <td>39633750.0</td>\n",
              "      <td>40564059.0</td>\n",
              "      <td>41435758.0</td>\n",
              "      <td>42241011.0</td>\n",
              "      <td>42987461.0</td>\n",
              "      <td>43682260.0</td>\n",
              "      <td>44338543.0</td>\n",
              "      <td>44967708.0</td>\n",
              "      <td>45571274.0</td>\n",
              "      <td>46150913.0</td>\n",
              "      <td>46719196.0</td>\n",
              "      <td>47291610.0</td>\n",
              "      <td>47880601.0</td>\n",
              "      <td>48489459.0</td>\n",
              "      <td>49119759.0</td>\n",
              "      <td>49779471.0</td>\n",
              "      <td>50477011.0</td>\n",
              "      <td>51216964.0</td>\n",
              "      <td>52004172.0</td>\n",
              "      <td>52834005.0</td>\n",
              "      <td>53689236.0</td>\n",
              "      <td>54545991.0</td>\n",
              "      <td>55386367.0</td>\n",
              "      <td>56203654.0</td>\n",
              "      <td>57000451.0</td>\n",
              "      <td>57779622.0</td>\n",
              "      <td>58558270.0</td>\n",
              "    </tr>\n",
              "    <tr>\n",
              "      <th>Zambia</th>\n",
              "      <td>3070776.0</td>\n",
              "      <td>3164329.0</td>\n",
              "      <td>3260650.0</td>\n",
              "      <td>3360104.0</td>\n",
              "      <td>3463213.0</td>\n",
              "      <td>3570464.0</td>\n",
              "      <td>3681955.0</td>\n",
              "      <td>3797873.0</td>\n",
              "      <td>3918872.0</td>\n",
              "      <td>4045740.0</td>\n",
              "      <td>4179067.0</td>\n",
              "      <td>4319224.0</td>\n",
              "      <td>4466174.0</td>\n",
              "      <td>4619546.0</td>\n",
              "      <td>4778724.0</td>\n",
              "      <td>4943283.0</td>\n",
              "      <td>5112823.0</td>\n",
              "      <td>5287548.0</td>\n",
              "      <td>5468262.0</td>\n",
              "      <td>5656139.0</td>\n",
              "      <td>5851825.0</td>\n",
              "      <td>6055366.0</td>\n",
              "      <td>6265864.0</td>\n",
              "      <td>6481916.0</td>\n",
              "      <td>6701540.0</td>\n",
              "      <td>6923149.0</td>\n",
              "      <td>7146969.0</td>\n",
              "      <td>7372837.0</td>\n",
              "      <td>7598275.0</td>\n",
              "      <td>7820205.0</td>\n",
              "      <td>8036845.0</td>\n",
              "      <td>8246656.0</td>\n",
              "      <td>8451347.0</td>\n",
              "      <td>8656486.0</td>\n",
              "      <td>8869740.0</td>\n",
              "      <td>9096607.0</td>\n",
              "      <td>9339733.0</td>\n",
              "      <td>9597609.0</td>\n",
              "      <td>9866476.0</td>\n",
              "      <td>10140561.0</td>\n",
              "      <td>10415944.0</td>\n",
              "      <td>10692193.0</td>\n",
              "      <td>10971698.0</td>\n",
              "      <td>11256743.0</td>\n",
              "      <td>11550642.0</td>\n",
              "      <td>11856247.0</td>\n",
              "      <td>12173514.0</td>\n",
              "      <td>12502958.0</td>\n",
              "      <td>12848530.0</td>\n",
              "      <td>13215139.0</td>\n",
              "      <td>13605984.0</td>\n",
              "      <td>14023193.0</td>\n",
              "      <td>14465121.0</td>\n",
              "      <td>14926504.0</td>\n",
              "      <td>15399753.0</td>\n",
              "      <td>15879361.0</td>\n",
              "      <td>16363507.0</td>\n",
              "      <td>16853688.0</td>\n",
              "      <td>17351822.0</td>\n",
              "      <td>17861030.0</td>\n",
              "    </tr>\n",
              "    <tr>\n",
              "      <th>Zimbabwe</th>\n",
              "      <td>3776681.0</td>\n",
              "      <td>3905034.0</td>\n",
              "      <td>4039201.0</td>\n",
              "      <td>4178726.0</td>\n",
              "      <td>4322861.0</td>\n",
              "      <td>4471177.0</td>\n",
              "      <td>4623351.0</td>\n",
              "      <td>4779827.0</td>\n",
              "      <td>4941906.0</td>\n",
              "      <td>5111337.0</td>\n",
              "      <td>5289303.0</td>\n",
              "      <td>5476982.0</td>\n",
              "      <td>5673911.0</td>\n",
              "      <td>5877726.0</td>\n",
              "      <td>6085074.0</td>\n",
              "      <td>6293875.0</td>\n",
              "      <td>6502569.0</td>\n",
              "      <td>6712827.0</td>\n",
              "      <td>6929664.0</td>\n",
              "      <td>7160023.0</td>\n",
              "      <td>7408624.0</td>\n",
              "      <td>7675591.0</td>\n",
              "      <td>7958241.0</td>\n",
              "      <td>8254747.0</td>\n",
              "      <td>8562249.0</td>\n",
              "      <td>8877489.0</td>\n",
              "      <td>9200149.0</td>\n",
              "      <td>9527203.0</td>\n",
              "      <td>9849125.0</td>\n",
              "      <td>10153852.0</td>\n",
              "      <td>10432421.0</td>\n",
              "      <td>10680995.0</td>\n",
              "      <td>10900502.0</td>\n",
              "      <td>11092766.0</td>\n",
              "      <td>11261744.0</td>\n",
              "      <td>11410714.0</td>\n",
              "      <td>11541217.0</td>\n",
              "      <td>11653242.0</td>\n",
              "      <td>11747072.0</td>\n",
              "      <td>11822719.0</td>\n",
              "      <td>11881477.0</td>\n",
              "      <td>11923914.0</td>\n",
              "      <td>11954290.0</td>\n",
              "      <td>11982224.0</td>\n",
              "      <td>12019912.0</td>\n",
              "      <td>12076699.0</td>\n",
              "      <td>12155491.0</td>\n",
              "      <td>12255922.0</td>\n",
              "      <td>12379549.0</td>\n",
              "      <td>12526968.0</td>\n",
              "      <td>12697723.0</td>\n",
              "      <td>12894316.0</td>\n",
              "      <td>13115131.0</td>\n",
              "      <td>13350356.0</td>\n",
              "      <td>13586681.0</td>\n",
              "      <td>13814629.0</td>\n",
              "      <td>14030390.0</td>\n",
              "      <td>14236745.0</td>\n",
              "      <td>14439018.0</td>\n",
              "      <td>14645468.0</td>\n",
              "    </tr>\n",
              "  </tbody>\n",
              "</table>\n",
              "<p>258 rows × 60 columns</p>\n",
              "</div>"
            ],
            "text/plain": [
              "                  1960.0      1961.0  ...      2018.0      2019.0\n",
              "Data Source                           ...                        \n",
              "Aruba            54211.0     55438.0  ...    105845.0    106314.0\n",
              "Afghanistan    8996973.0   9169410.0  ...  37172386.0  38041754.0\n",
              "Angola         5454933.0   5531472.0  ...  30809762.0  31825295.0\n",
              "Albania        1608800.0   1659800.0  ...   2866376.0   2854191.0\n",
              "Andorra          13411.0     14375.0  ...     77006.0     77142.0\n",
              "...                  ...         ...  ...         ...         ...\n",
              "Kosovo          947000.0    966000.0  ...   1797085.0   1794248.0\n",
              "Yemen, Rep.    5315355.0   5393036.0  ...  28498687.0  29161922.0\n",
              "South Africa  17099840.0  17524533.0  ...  57779622.0  58558270.0\n",
              "Zambia         3070776.0   3164329.0  ...  17351822.0  17861030.0\n",
              "Zimbabwe       3776681.0   3905034.0  ...  14439018.0  14645468.0\n",
              "\n",
              "[258 rows x 60 columns]"
            ]
          },
          "metadata": {
            "tags": []
          },
          "execution_count": 15
        }
      ]
    },
    {
      "cell_type": "markdown",
      "metadata": {
        "id": "EkVKPIgZxs1r"
      },
      "source": [
        "# TASK 1.III - plot the data"
      ]
    },
    {
      "cell_type": "markdown",
      "metadata": {
        "id": "RV1H9C0LTWqO"
      },
      "source": [
        "plot the original data. plot all the time series in the same panel. Optionally, also make the plot in log-y space to better see the collection of the data. Describe what you see (you can check my plots [here](https://github.com/fedhere/MLPNS2021/blob/main/midterm/firstFigure.png) - its not a pretty figure, but it is helpful in understanding a lot of characteristivcs of the data! Your figure does not have to look identical to mine"
      ]
    },
    {
      "cell_type": "code",
      "metadata": {
        "colab": {
          "base_uri": "https://localhost:8080/"
        },
        "id": "YztvfAhJYB_s",
        "outputId": "7685d688-d989-4bed-8f08-f7b47b11086b"
      },
      "source": [
        "time = np.arange(1960,2020,1)\n",
        "time"
      ],
      "execution_count": 16,
      "outputs": [
        {
          "output_type": "execute_result",
          "data": {
            "text/plain": [
              "array([1960, 1961, 1962, 1963, 1964, 1965, 1966, 1967, 1968, 1969, 1970,\n",
              "       1971, 1972, 1973, 1974, 1975, 1976, 1977, 1978, 1979, 1980, 1981,\n",
              "       1982, 1983, 1984, 1985, 1986, 1987, 1988, 1989, 1990, 1991, 1992,\n",
              "       1993, 1994, 1995, 1996, 1997, 1998, 1999, 2000, 2001, 2002, 2003,\n",
              "       2004, 2005, 2006, 2007, 2008, 2009, 2010, 2011, 2012, 2013, 2014,\n",
              "       2015, 2016, 2017, 2018, 2019])"
            ]
          },
          "metadata": {
            "tags": []
          },
          "execution_count": 16
        }
      ]
    },
    {
      "cell_type": "code",
      "metadata": {
        "colab": {
          "base_uri": "https://localhost:8080/"
        },
        "id": "_Kr1cbaQZ5pP",
        "outputId": "73954438-8ddb-4882-dc18-7fe7e3e717b4"
      },
      "source": [
        "datain.iloc[0].values"
      ],
      "execution_count": 17,
      "outputs": [
        {
          "output_type": "execute_result",
          "data": {
            "text/plain": [
              "array([ 54211.,  55438.,  56225.,  56695.,  57032.,  57360.,  57715.,\n",
              "        58055.,  58386.,  58726.,  59063.,  59440.,  59840.,  60243.,\n",
              "        60528.,  60657.,  60586.,  60366.,  60103.,  59980.,  60096.,\n",
              "        60567.,  61345.,  62201.,  62836.,  63026.,  62644.,  61833.,\n",
              "        61079.,  61032.,  62149.,  64622.,  68235.,  72504.,  76700.,\n",
              "        80324.,  83200.,  85451.,  87277.,  89005.,  90853.,  92898.,\n",
              "        94992.,  97017.,  98737., 100031., 100834., 101222., 101358.,\n",
              "       101455., 101669., 102046., 102560., 103159., 103774., 104341.,\n",
              "       104872., 105366., 105845., 106314.])"
            ]
          },
          "metadata": {
            "tags": []
          },
          "execution_count": 17
        }
      ]
    },
    {
      "cell_type": "code",
      "metadata": {
        "colab": {
          "base_uri": "https://localhost:8080/",
          "height": 307
        },
        "id": "0O9IivaeZwhG",
        "outputId": "d54c786e-0ab1-4b4e-da2f-ee328f6e91d9"
      },
      "source": [
        "for i in range(len(datain)):\n",
        "  pl.plot(time,datain.iloc[i].values)\n",
        "pl.xlabel('Year')\n",
        "pl.ylabel('Population')"
      ],
      "execution_count": 18,
      "outputs": [
        {
          "output_type": "execute_result",
          "data": {
            "text/plain": [
              "Text(0, 0.5, 'Population')"
            ]
          },
          "metadata": {
            "tags": []
          },
          "execution_count": 18
        },
        {
          "output_type": "display_data",
          "data": {
            "image/png": "[encoded data removed]",
            "text/plain": [
              "<Figure size 432x288 with 1 Axes>"
            ]
          },
          "metadata": {
            "tags": [],
            "needs_background": "light"
          }
        }
      ]
    },
    {
      "cell_type": "code",
      "metadata": {
        "colab": {
          "base_uri": "https://localhost:8080/",
          "height": 279
        },
        "id": "RpYcxEi6bKMM",
        "outputId": "979b9058-ff43-456e-a948-4d01ef9ad12e"
      },
      "source": [
        "for i in range(len(datain)):\n",
        "  pl.plot(time,datain.iloc[i].values)\n",
        "pl.xlabel('Year')\n",
        "pl.ylabel('Population')\n",
        "pl.yscale('log')"
      ],
      "execution_count": 19,
      "outputs": [
        {
          "output_type": "display_data",
          "data": {
            "image/png": "[encoded data removed]",
            "text/plain": [
              "<Figure size 432x288 with 1 Axes>"
            ]
          },
          "metadata": {
            "tags": [],
            "needs_background": "light"
          }
        }
      ]
    },
    {
      "cell_type": "markdown",
      "metadata": {
        "id": "EjO3MkVCbfwh"
      },
      "source": [
        "Dal primo plot vediamo che in tutte le nazioni la popolazione è aumentata nel tempo, ma alcune nazioni hanno un aumento molto più marcato di altre. Sopratutto sembra suggerire che le popolazioni che partono con più uomini all'inizio crescano più velocemente in numero rispetto a quelle che nel 1960 erano più 'povere' in termini di popolazione."
      ]
    },
    {
      "cell_type": "markdown",
      "metadata": {
        "id": "IS3JCpXBcXbT"
      },
      "source": [
        "Guardando però il secondo plot, questo sembra suggerirci che tutte le nazioni crescano con la stessa legge a potenza, infatti la popolazione nel tempo si dispone su rette parallele per diverse nazioni"
      ]
    },
    {
      "cell_type": "markdown",
      "metadata": {
        "id": "-IdKfd3ks1FD"
      },
      "source": [
        "# TASK 1.IV - scale the data\n",
        "\n",
        "# Preprocessing\n",
        "Of course different countries have different population size. But we are only interested in the trends in these exercises, not in the overal size of the country. Thus before fitting a polynomial to the data you need to normalize the lightcurves: from each lightcurve you should remove the mean and divide by the standard deviation. You can do it by hand or you can use the ```preprocessing.scale``` function (there is an example of that in the slides https://slides.com/federicabianco/mlpns_4#/5/8)\n",
        "\n",
        "_Each time series should be mean 0 and stdev 1_\n",
        "\n",
        "I recommand working with a numpy array from here forward by extracting the values from the dataframe as ```X = df.values```\n",
        "\n",
        "**After scaling the data replot it.**\n",
        "\n",
        "## shortcut\n",
        "\n",
        "You can get the final dataset [here](https://github.com/fedhere/MLPNS2021/tree/main/midterm), its called _country_pop_final.csv_"
      ]
    },
    {
      "cell_type": "code",
      "metadata": {
        "colab": {
          "base_uri": "https://localhost:8080/"
        },
        "id": "J2u-4hyNcjHJ",
        "outputId": "2be7b52d-8ba6-4c73-cbeb-3a088a7fb896"
      },
      "source": [
        "pop = datain.values\n",
        "pop.shape"
      ],
      "execution_count": 20,
      "outputs": [
        {
          "output_type": "execute_result",
          "data": {
            "text/plain": [
              "(258, 60)"
            ]
          },
          "metadata": {
            "tags": []
          },
          "execution_count": 20
        }
      ]
    },
    {
      "cell_type": "code",
      "metadata": {
        "colab": {
          "base_uri": "https://localhost:8080/"
        },
        "id": "yUXDnZJQeB_p",
        "outputId": "8976fbfa-a194-4b0c-a193-c5f5295de0ea"
      },
      "source": [
        "pop = preprocessing.scale(pop, axis = 1)\n",
        "pop.shape"
      ],
      "execution_count": 21,
      "outputs": [
        {
          "output_type": "stream",
          "text": [
            "/usr/local/lib/python3.7/dist-packages/sklearn/preprocessing/_data.py:173: UserWarning: Numerical issues were encountered when centering the data and might not be solved. Dataset may contain too large values. You may need to prescale your features.\n",
            "  warnings.warn(\"Numerical issues were encountered \"\n"
          ],
          "name": "stderr"
        },
        {
          "output_type": "execute_result",
          "data": {
            "text/plain": [
              "(258, 60)"
            ]
          },
          "metadata": {
            "tags": []
          },
          "execution_count": 21
        }
      ]
    },
    {
      "cell_type": "code",
      "metadata": {
        "colab": {
          "base_uri": "https://localhost:8080/"
        },
        "id": "kWltVhu2fItH",
        "outputId": "fa90bcfb-f4dc-48cc-cbef-ee212cf4e977"
      },
      "source": [
        "pop"
      ],
      "execution_count": 22,
      "outputs": [
        {
          "output_type": "execute_result",
          "data": {
            "text/plain": [
              "array([[-1.15487934, -1.09063686, -1.04943163, ...,  1.52346116,\n",
              "         1.54854033,  1.57309593],\n",
              "       [-1.08454854, -1.06457944, -1.04349931, ...,  2.07686652,\n",
              "         2.17831023,  2.27898755],\n",
              "       [-1.08026563, -1.07038518, -1.06043658, ...,  2.06460812,\n",
              "         2.19279658,  2.32389203],\n",
              "       ...,\n",
              "       [-1.54345287, -1.50986992, -1.4749823 , ...,  1.61172086,\n",
              "         1.67333445,  1.73490668],\n",
              "       [-1.31542602, -1.29322947, -1.27037617, ...,  1.9547325 ,\n",
              "         2.07292067,  2.19373628],\n",
              "       [-1.68826614, -1.64974604, -1.60948109, ...,  1.45091024,\n",
              "         1.51161452,  1.57357236]])"
            ]
          },
          "metadata": {
            "tags": []
          },
          "execution_count": 22
        }
      ]
    },
    {
      "cell_type": "code",
      "metadata": {
        "colab": {
          "base_uri": "https://localhost:8080/"
        },
        "id": "w_s8pc1cdCHl",
        "outputId": "37728e7f-1dc0-4e34-8bc4-a45ee5fe03f7"
      },
      "source": [
        "print(np.mean(pop[0]))\n",
        "print(np.std(pop[0]))"
      ],
      "execution_count": 23,
      "outputs": [
        {
          "output_type": "stream",
          "text": [
            "-8.696747026230393e-16\n",
            "1.0000000000000002\n"
          ],
          "name": "stdout"
        }
      ]
    },
    {
      "cell_type": "code",
      "metadata": {
        "colab": {
          "base_uri": "https://localhost:8080/",
          "height": 300
        },
        "id": "SD8wy-otfi7t",
        "outputId": "fde63f05-21f0-4a4d-e819-cf55e07c6bcc"
      },
      "source": [
        "for i in range(len(datain)):\n",
        "  pl.plot(time,pop[i])\n",
        "pl.xlabel('Year')\n",
        "pl.ylabel('Population')"
      ],
      "execution_count": 24,
      "outputs": [
        {
          "output_type": "execute_result",
          "data": {
            "text/plain": [
              "Text(0, 0.5, 'Population')"
            ]
          },
          "metadata": {
            "tags": []
          },
          "execution_count": 24
        },
        {
          "output_type": "display_data",
          "data": {
            "image/png": "[encoded data removed]",
            "text/plain": [
              "<Figure size 432x288 with 1 Axes>"
            ]
          },
          "metadata": {
            "tags": [],
            "needs_background": "light"
          }
        }
      ]
    },
    {
      "cell_type": "markdown",
      "metadata": {
        "id": "oMXZa10cYBek"
      },
      "source": [
        "# PART 2 - feature engineering"
      ]
    },
    {
      "cell_type": "markdown",
      "metadata": {
        "id": "6yg70oTxzZr2"
      },
      "source": [
        "\n",
        "\n",
        "# Task 2.I\n",
        "\n",
        "fit a second degree polynomial (```y = ax^2 + bx + c```) to each time series. Store the values of a,b,c for each time series in an array called ```features``` (I recommand using L2 for the fit and ```scipy.optimize.minimize```)\n",
        "\n",
        "For each feature test if the sample is consistent with coming from a normal distribution (with  NHRT test, e.g. we used the KS test in class for this purpose)\n",
        "\n",
        "**plot the histogram of each feature**\n",
        "\n",
        "Optional: also store the value of L2 for the best fit parameters. Then your feature space would be 4-dimensional"
      ]
    },
    {
      "cell_type": "code",
      "metadata": {
        "id": "Nla3koXchC6F"
      },
      "source": [
        ""
      ],
      "execution_count": 24,
      "outputs": []
    },
    {
      "cell_type": "code",
      "metadata": {
        "id": "G9uWu_Gzf7Ti"
      },
      "source": [
        "def fitfunc(a,b,c,x):\n",
        "  return a*x**2+b*x+c\n",
        "def l2(args, x, y): \n",
        "    a,b,c = args\t\n",
        "    return sum((y - fitfunc(a,b,c,x))**2)"
      ],
      "execution_count": 25,
      "outputs": []
    },
    {
      "cell_type": "code",
      "metadata": {
        "id": "-0ETabMaf62s"
      },
      "source": [
        "initialGuess = [1,1,1]"
      ],
      "execution_count": 26,
      "outputs": []
    },
    {
      "cell_type": "code",
      "metadata": {
        "colab": {
          "base_uri": "https://localhost:8080/"
        },
        "id": "4vfnBV6of6zQ",
        "outputId": "445d3db4-ea29-4ec8-bba7-a17bfe6ceda6"
      },
      "source": [
        "features = np.zeros((len(pop),4))\n",
        "features.shape"
      ],
      "execution_count": 27,
      "outputs": [
        {
          "output_type": "execute_result",
          "data": {
            "text/plain": [
              "(258, 4)"
            ]
          },
          "metadata": {
            "tags": []
          },
          "execution_count": 27
        }
      ]
    },
    {
      "cell_type": "code",
      "metadata": {
        "id": "gxpVfRblf6pm"
      },
      "source": [
        "for i in range(len(pop)):\n",
        "  l2Solution = minimize(l2, initialGuess, args=(time,pop[i]))\n",
        "  features[i][:-1] = l2Solution.x\n",
        "  features[i][-1] = l2Solution.fun"
      ],
      "execution_count": 28,
      "outputs": []
    },
    {
      "cell_type": "code",
      "metadata": {
        "colab": {
          "base_uri": "https://localhost:8080/"
        },
        "id": "C-xRalAYjyaH",
        "outputId": "1c449fbb-4690-42cc-ecc4-a9211fb27a93"
      },
      "source": [
        "features"
      ],
      "execution_count": 29,
      "outputs": [
        {
          "output_type": "execute_result",
          "data": {
            "text/plain": [
              "array([[-7.02233092e-03,  2.79769820e+01, -2.78629690e+04,\n",
              "         2.75618791e+02],\n",
              "       [-9.55165155e-03,  3.78692395e+01, -3.75311347e+04,\n",
              "         1.16811793e+03],\n",
              "       [-3.60669839e-02,  1.43568608e+02, -1.42861658e+05,\n",
              "         5.94519067e+03],\n",
              "       ...,\n",
              "       [-2.52638016e-02,  1.00389276e+02, -9.97198654e+04,\n",
              "         3.44590263e+03],\n",
              "       [ 8.82621606e-03, -3.50422655e+01,  3.47787079e+04,\n",
              "         2.93816858e+02],\n",
              "       [-2.02176597e-03,  7.91427086e+00, -7.74246261e+03,\n",
              "         6.44332785e+02]])"
            ]
          },
          "metadata": {
            "tags": []
          },
          "execution_count": 29
        }
      ]
    },
    {
      "cell_type": "code",
      "metadata": {
        "colab": {
          "base_uri": "https://localhost:8080/"
        },
        "id": "y-4v7wZ32KHm",
        "outputId": "c829ebff-f5e5-424e-9219-486164d9c2ec"
      },
      "source": [
        "features.shape"
      ],
      "execution_count": 30,
      "outputs": [
        {
          "output_type": "execute_result",
          "data": {
            "text/plain": [
              "(258, 4)"
            ]
          },
          "metadata": {
            "tags": []
          },
          "execution_count": 30
        }
      ]
    },
    {
      "cell_type": "code",
      "metadata": {
        "colab": {
          "base_uri": "https://localhost:8080/"
        },
        "id": "1DaH7SY3kIjU",
        "outputId": "15bdba46-cde5-4663-dc95-ac8351431a77"
      },
      "source": [
        "featureName =['a','b','c']\n",
        "for i in range(3):\n",
        "  print('KS result for the feature ', featureName[i], ':',stats.kstest(features[:,i],'norm'))"
      ],
      "execution_count": 31,
      "outputs": [
        {
          "output_type": "stream",
          "text": [
            "KS result for the feature  a : KstestResult(statistic=0.4829234327527485, pvalue=6.712574454104693e-56)\n",
            "KS result for the feature  b : KstestResult(statistic=0.6162790694477812, pvalue=7.578015444734732e-95)\n",
            "KS result for the feature  c : KstestResult(statistic=0.6162790697674418, pvalue=7.578013519174591e-95)\n"
          ],
          "name": "stdout"
        }
      ]
    },
    {
      "cell_type": "markdown",
      "metadata": {
        "id": "WOwB_egSpA2u"
      },
      "source": [
        "Dai valori del p-value molto vicini a 0 deduciamo che non provengono da una distribuzione gaussiana"
      ]
    },
    {
      "cell_type": "code",
      "metadata": {
        "colab": {
          "base_uri": "https://localhost:8080/",
          "height": 296
        },
        "id": "iSRye1z-mMXj",
        "outputId": "23272e81-4c20-48e1-b29d-fba707d04994"
      },
      "source": [
        "pl.hist(features[:,0],bins =30, density = 1)\n",
        "pl.xlabel('a')\n",
        "pl.ylabel('frequency')"
      ],
      "execution_count": 32,
      "outputs": [
        {
          "output_type": "execute_result",
          "data": {
            "text/plain": [
              "Text(0, 0.5, 'frequency')"
            ]
          },
          "metadata": {
            "tags": []
          },
          "execution_count": 32
        },
        {
          "output_type": "display_data",
          "data": {
            "image/png": "[encoded data removed]",
            "text/plain": [
              "<Figure size 432x288 with 1 Axes>"
            ]
          },
          "metadata": {
            "tags": [],
            "needs_background": "light"
          }
        }
      ]
    },
    {
      "cell_type": "code",
      "metadata": {
        "colab": {
          "base_uri": "https://localhost:8080/",
          "height": 296
        },
        "id": "GcYdB1-7kIfL",
        "outputId": "91407688-32c2-4cd6-ae8b-148717083321"
      },
      "source": [
        "pl.hist(features[:,1], bins =30, density = 1)\n",
        "pl.xlabel('b')\n",
        "pl.ylabel('frequency')"
      ],
      "execution_count": 33,
      "outputs": [
        {
          "output_type": "execute_result",
          "data": {
            "text/plain": [
              "Text(0, 0.5, 'frequency')"
            ]
          },
          "metadata": {
            "tags": []
          },
          "execution_count": 33
        },
        {
          "output_type": "display_data",
          "data": {
            "image/png": "[encoded data removed]",
            "text/plain": [
              "<Figure size 432x288 with 1 Axes>"
            ]
          },
          "metadata": {
            "tags": [],
            "needs_background": "light"
          }
        }
      ]
    },
    {
      "cell_type": "code",
      "metadata": {
        "colab": {
          "base_uri": "https://localhost:8080/",
          "height": 307
        },
        "id": "oJFJ6Jbhmetk",
        "outputId": "33c1a05b-5de1-4b65-ad30-39d91966f651"
      },
      "source": [
        "pl.hist(features[:,2],bins =30, density = 1)\n",
        "pl.xlabel('c')\n",
        "pl.ylabel('frequency')"
      ],
      "execution_count": 34,
      "outputs": [
        {
          "output_type": "execute_result",
          "data": {
            "text/plain": [
              "Text(0, 0.5, 'frequency')"
            ]
          },
          "metadata": {
            "tags": []
          },
          "execution_count": 34
        },
        {
          "output_type": "display_data",
          "data": {
            "image/png": "[encoded data removed]",
            "text/plain": [
              "<Figure size 432x288 with 1 Axes>"
            ]
          },
          "metadata": {
            "tags": [],
            "needs_background": "light"
          }
        }
      ]
    },
    {
      "cell_type": "markdown",
      "metadata": {
        "id": "GgIGVOBDX2fB"
      },
      "source": [
        "# PART 3 - modeling\n"
      ]
    },
    {
      "cell_type": "markdown",
      "metadata": {
        "id": "gbXEgXp_2RUp"
      },
      "source": [
        "\n",
        "# TASK 3.I - preprocess the features\n",
        "\n",
        "before you can use kmeans clusgtering you have to preprocess (scale) the features: all feature should have mean 0 and stdev 1 (you can again use sklearn.preprocess.scale (save the mean and stdev values... you will need the later)"
      ]
    },
    {
      "cell_type": "code",
      "metadata": {
        "id": "SNkO54YQqRes"
      },
      "source": [
        "mean_features = np.mean(features,axis = 0)\n",
        "std_features = np.std(features,axis = 0)\n",
        "X2 = preprocessing.scale(features, axis = 0)"
      ],
      "execution_count": 35,
      "outputs": []
    },
    {
      "cell_type": "code",
      "metadata": {
        "colab": {
          "base_uri": "https://localhost:8080/"
        },
        "id": "s-eAFAimyASw",
        "outputId": "e01ba514-ce6e-4884-c360-6f76953a43a4"
      },
      "source": [
        "mean_features"
      ],
      "execution_count": 36,
      "outputs": [
        {
          "output_type": "execute_result",
          "data": {
            "text/plain": [
              "array([-2.16549449e-03,  8.53619830e+00, -8.41088115e+03,  2.24538446e+03])"
            ]
          },
          "metadata": {
            "tags": []
          },
          "execution_count": 36
        }
      ]
    },
    {
      "cell_type": "code",
      "metadata": {
        "colab": {
          "base_uri": "https://localhost:8080/"
        },
        "id": "eahRrb-FqYmP",
        "outputId": "c63664e5-ab43-40fc-b811-6924f2a4bb1e"
      },
      "source": [
        "X2"
      ],
      "execution_count": 37,
      "outputs": [
        {
          "output_type": "execute_result",
          "data": {
            "text/plain": [
              "array([[-0.23983855,  0.24127163, -0.24270495, -1.00139317],\n",
              "       [-0.36474055,  0.36404041, -0.36333527, -0.54766278],\n",
              "       [-1.67411115,  1.67583214, -1.67755094,  1.88091442],\n",
              "       ...,\n",
              "       [-1.14063229,  1.13995108, -1.13926804,  0.61032168],\n",
              "       [ 0.5427887 , -0.54083453,  0.53887927, -0.9921416 ],\n",
              "       [ 0.00709755, -0.00771849,  0.0083399 , -0.81394565]])"
            ]
          },
          "metadata": {
            "tags": []
          },
          "execution_count": 37
        }
      ]
    },
    {
      "cell_type": "code",
      "metadata": {
        "colab": {
          "base_uri": "https://localhost:8080/"
        },
        "id": "lwFY0KsnqYf1",
        "outputId": "0fd7753f-afae-4672-d9e1-9144607f3423"
      },
      "source": [
        "X2.mean(axis=0)"
      ],
      "execution_count": 38,
      "outputs": [
        {
          "output_type": "execute_result",
          "data": {
            "text/plain": [
              "array([-4.40808027e-17,  2.31397319e-17,  1.71186278e-17, -6.85928489e-16])"
            ]
          },
          "metadata": {
            "tags": []
          },
          "execution_count": 38
        }
      ]
    },
    {
      "cell_type": "code",
      "metadata": {
        "colab": {
          "base_uri": "https://localhost:8080/"
        },
        "id": "THpkBaZO2QkD",
        "outputId": "b3547137-3055-454a-d2f6-695bb9de8805"
      },
      "source": [
        "X2.std(axis=0)\n"
      ],
      "execution_count": 39,
      "outputs": [
        {
          "output_type": "execute_result",
          "data": {
            "text/plain": [
              "array([1., 1., 1., 1.])"
            ]
          },
          "metadata": {
            "tags": []
          },
          "execution_count": 39
        }
      ]
    },
    {
      "cell_type": "markdown",
      "metadata": {
        "id": "7yUGnXne32qn"
      },
      "source": [
        "# TASK 2.III - choosing the number of clusters \n",
        "\n",
        "\n",
        "cluster the data using kmeans in 2, 3, ... up to 10 clusters and print the total variance for each cluster. \n",
        "\n",
        "Plot the total variance as a function of number of clusters. See https://slides.com/federicabianco/mlpns_4#/8/4\n",
        "\n",
        "Discuss the plot. Does it give insight into what is the the appropriate number of clusters?\n",
        "\n",
        "Choose a number of clusters and for that choice show the cluster centers.\n",
        "\n",
        "## shortcut\n",
        "\n",
        "the elbow plot does not help ... use 4 clusters\n",
        "\n",
        "\n",
        "\n"
      ]
    },
    {
      "cell_type": "code",
      "metadata": {
        "colab": {
          "base_uri": "https://localhost:8080/",
          "height": 296
        },
        "id": "CcGyTxHlqpcP",
        "outputId": "c3aabb17-8130-4b0f-fe55-8facefa95336"
      },
      "source": [
        "inertias = []\n",
        "for i in range(1,11):\n",
        "  kmop = KMeans(n_clusters=i, random_state=123).fit(X2)\n",
        "  inertias.append(kmop.inertia_)\n",
        "\n",
        "pl.plot(range(1, 11), inertias)\n",
        "pl.xlabel('# of clusters')\n",
        "pl.ylabel('variance')"
      ],
      "execution_count": 40,
      "outputs": [
        {
          "output_type": "execute_result",
          "data": {
            "text/plain": [
              "Text(0, 0.5, 'variance')"
            ]
          },
          "metadata": {
            "tags": []
          },
          "execution_count": 40
        },
        {
          "output_type": "display_data",
          "data": {
            "image/png": "[encoded data removed]",
            "text/plain": [
              "<Figure size 432x288 with 1 Axes>"
            ]
          },
          "metadata": {
            "tags": [],
            "needs_background": "light"
          }
        }
      ]
    },
    {
      "cell_type": "markdown",
      "metadata": {
        "id": "WreNCO4Xr0Bu"
      },
      "source": [
        "Il grafico non suggerisce un vero e proprio \"elbow\", anche se la curva sembra adagiarsi sempre di più all'asse x per cluster maggiori di 3/4"
      ]
    },
    {
      "cell_type": "code",
      "metadata": {
        "id": "2VviSpE6rzw_"
      },
      "source": [
        " kmop = KMeans(n_clusters=4, random_state=123).fit(X2)\n",
        " centers = kmop.cluster_centers_"
      ],
      "execution_count": 41,
      "outputs": []
    },
    {
      "cell_type": "code",
      "metadata": {
        "colab": {
          "base_uri": "https://localhost:8080/"
        },
        "id": "X7zP9Z7HtRET",
        "outputId": "131e339c-ed64-49c3-b07b-f8a3983e4777"
      },
      "source": [
        "centers"
      ],
      "execution_count": 42,
      "outputs": [
        {
          "output_type": "execute_result",
          "data": {
            "text/plain": [
              "array([[-1.15856258,  1.15857473, -1.15858601,  0.60109352],\n",
              "       [ 0.69388307, -0.69390825,  0.69393362, -0.55476692],\n",
              "       [ 1.69858058, -1.69853664,  1.69848983,  1.43591709],\n",
              "       [-0.25986983,  0.25985702, -0.25984377, -0.77183156]])"
            ]
          },
          "metadata": {
            "tags": []
          },
          "execution_count": 42
        }
      ]
    },
    {
      "cell_type": "markdown",
      "metadata": {
        "id": "bP8Xf3wTWSyz"
      },
      "source": [
        "\n",
        "# TASK 2.IV - clustering\n",
        "\n",
        "\n",
        "Note: the cluster centers are datapoints in the feature space. If your feature space is 3D (3 coefficients, or four depending on what you choose in task 2.II) your cluster center is a tuple of numbers. \n",
        "\n",
        "**However, the right way to show the cluster centers is to**\n",
        "\n",
        "1- unscale the cluster centers by multiplying them by the stdev and adding back the mean \n",
        "\n",
        "2- plot the polynomial generated by those cluster centers\n",
        "\n",
        "3- plot the time series that belong to that cluster in the same plot.\n",
        "\n",
        "Print how many time series are in each cluster.\n",
        "\n",
        "To measure the intracluster compactness (to make the elbow plot that may help you decide how many clusters to plot use the attribute of the cluster model\n",
        "```kmeas_fit_model.inertia_```\n",
        "\n",
        "To extract the cluster centers use \n",
        "```kmeas_fit_model.cluster_centers_```\n",
        "\n",
        "To extract the cluster assignment for each time series use \n",
        "\n",
        "```kmeas_fit_model.labels_```"
      ]
    },
    {
      "cell_type": "code",
      "metadata": {
        "colab": {
          "base_uri": "https://localhost:8080/"
        },
        "id": "aPKocOowyPPk",
        "outputId": "a322ba9e-46d0-4e61-cefa-cf2c59268d8f"
      },
      "source": [
        "centers*std_features+mean_features"
      ],
      "execution_count": 43,
      "outputs": [
        {
          "output_type": "execute_result",
          "data": {
            "text/plain": [
              "array([[-2.56268979e-02,  1.01889902e+02, -1.01268144e+05,\n",
              "         3.42775061e+03],\n",
              "       [ 1.18859437e-02, -4.73763845e+01,  4.72058584e+04,\n",
              "         1.15414390e+03],\n",
              "       [ 3.22315116e-02, -1.28325657e+02,  1.27718086e+05,\n",
              "         5.06986968e+03],\n",
              "       [-7.42797315e-03,  2.94745240e+01, -2.92365958e+04,\n",
              "         7.27172276e+02]])"
            ]
          },
          "metadata": {
            "tags": []
          },
          "execution_count": 43
        }
      ]
    },
    {
      "cell_type": "code",
      "metadata": {
        "colab": {
          "base_uri": "https://localhost:8080/"
        },
        "id": "3N6J8deQtIWV",
        "outputId": "fc492814-3aa9-44d5-cf93-f8728e3bcb3a"
      },
      "source": [
        "unscaledCenters = centers*std_features+mean_features\n",
        "unscaledCenters"
      ],
      "execution_count": 44,
      "outputs": [
        {
          "output_type": "execute_result",
          "data": {
            "text/plain": [
              "array([[-2.56268979e-02,  1.01889902e+02, -1.01268144e+05,\n",
              "         3.42775061e+03],\n",
              "       [ 1.18859437e-02, -4.73763845e+01,  4.72058584e+04,\n",
              "         1.15414390e+03],\n",
              "       [ 3.22315116e-02, -1.28325657e+02,  1.27718086e+05,\n",
              "         5.06986968e+03],\n",
              "       [-7.42797315e-03,  2.94745240e+01, -2.92365958e+04,\n",
              "         7.27172276e+02]])"
            ]
          },
          "metadata": {
            "tags": []
          },
          "execution_count": 44
        }
      ]
    },
    {
      "cell_type": "code",
      "metadata": {
        "colab": {
          "base_uri": "https://localhost:8080/"
        },
        "id": "UU6VNZ2ntXDT",
        "outputId": "1dc0389c-d686-4042-e185-412e8f4f989b"
      },
      "source": [
        "print(unscaledCenters.mean(axis=0))\n",
        "print(unscaledCenters.std(axis=0))"
      ],
      "execution_count": 45,
      "outputs": [
        {
          "output_type": "stream",
          "text": [
            "[ 2.76564607e-03 -1.10844037e+01  1.11048012e+04  2.59473412e+03]\n",
            "[2.15723404e-02 8.58353653e+01 8.53771801e+04 1.75949566e+03]\n"
          ],
          "name": "stdout"
        }
      ]
    },
    {
      "cell_type": "code",
      "metadata": {
        "colab": {
          "base_uri": "https://localhost:8080/",
          "height": 296
        },
        "id": "qrLBcdK3tglB",
        "outputId": "37ab96d0-0bd5-40c3-bb64-9b8512797e9b"
      },
      "source": [
        "xPlot = np.arange(1950,2050)\n",
        "for i in range(4):\n",
        "  yPlot = fitfunc(unscaledCenters[i][0],unscaledCenters[i][1],unscaledCenters[i][2],xPlot)\n",
        "  pl.plot(xPlot,yPlot)\n",
        "pl.ylabel('ax^2+bx+c')\n",
        "pl.xlabel('x')\n",
        "  "
      ],
      "execution_count": 46,
      "outputs": [
        {
          "output_type": "execute_result",
          "data": {
            "text/plain": [
              "Text(0.5, 0, 'x')"
            ]
          },
          "metadata": {
            "tags": []
          },
          "execution_count": 46
        },
        {
          "output_type": "display_data",
          "data": {
            "image/png": "[encoded data removed]",
            "text/plain": [
              "<Figure size 432x288 with 1 Axes>"
            ]
          },
          "metadata": {
            "tags": [],
            "needs_background": "light"
          }
        }
      ]
    },
    {
      "cell_type": "code",
      "metadata": {
        "colab": {
          "base_uri": "https://localhost:8080/",
          "height": 296
        },
        "id": "ygflf2VNtghy",
        "outputId": "2a6448c2-17de-41e1-9fa1-d3477b7fe5a2"
      },
      "source": [
        "j = 0\n",
        "index = kmop.labels_ == j\n",
        "pop_plot = pop[index]\n",
        "yPopPlot = fitfunc(unscaledCenters[j][0],unscaledCenters[j][1],unscaledCenters[j][2],time)\n",
        "for i in range(len(pop_plot)):\n",
        "  pl.plot(time,pop_plot[i])\n",
        "pl.plot(time,yPopPlot,label='CENTER')\n",
        "pl.legend()\n",
        "pl.xlabel('year')\n",
        "pl.ylabel('population')"
      ],
      "execution_count": 47,
      "outputs": [
        {
          "output_type": "execute_result",
          "data": {
            "text/plain": [
              "Text(0, 0.5, 'population')"
            ]
          },
          "metadata": {
            "tags": []
          },
          "execution_count": 47
        },
        {
          "output_type": "display_data",
          "data": {
            "image/png": "[encoded data removed]",
            "text/plain": [
              "<Figure size 432x288 with 1 Axes>"
            ]
          },
          "metadata": {
            "tags": [],
            "needs_background": "light"
          }
        }
      ]
    },
    {
      "cell_type": "code",
      "metadata": {
        "colab": {
          "base_uri": "https://localhost:8080/",
          "height": 296
        },
        "id": "rj2L63hxtgfG",
        "outputId": "e6bd2ad5-22a7-489a-e937-99b605fcc04b"
      },
      "source": [
        "j = 1\n",
        "index = kmop.labels_ == j\n",
        "pop_plot = pop[index]\n",
        "yPopPlot = fitfunc(unscaledCenters[j][0],unscaledCenters[j][1],unscaledCenters[j][2],time)\n",
        "for i in range(len(pop_plot)):\n",
        "  pl.plot(time,pop_plot[i])\n",
        "pl.plot(time,yPopPlot,label='CENTER')\n",
        "pl.legend()\n",
        "pl.xlabel('year')\n",
        "pl.ylabel('population')"
      ],
      "execution_count": 48,
      "outputs": [
        {
          "output_type": "execute_result",
          "data": {
            "text/plain": [
              "Text(0, 0.5, 'population')"
            ]
          },
          "metadata": {
            "tags": []
          },
          "execution_count": 48
        },
        {
          "output_type": "display_data",
          "data": {
            "image/png": "[encoded data removed]",
            "text/plain": [
              "<Figure size 432x288 with 1 Axes>"
            ]
          },
          "metadata": {
            "tags": [],
            "needs_background": "light"
          }
        }
      ]
    },
    {
      "cell_type": "code",
      "metadata": {
        "colab": {
          "base_uri": "https://localhost:8080/",
          "height": 296
        },
        "id": "NXAJJpXytgWM",
        "outputId": "6657928a-f302-4846-c003-c550d238fc74"
      },
      "source": [
        "j = 2\n",
        "index = kmop.labels_ == j\n",
        "pop_plot = pop[index]\n",
        "yPopPlot = fitfunc(unscaledCenters[j][0],unscaledCenters[j][1],unscaledCenters[j][2],time)\n",
        "for i in range(len(pop_plot)):\n",
        "  pl.plot(time,pop_plot[i])\n",
        "pl.plot(time,yPopPlot,label='CENTER')\n",
        "pl.legend()\n",
        "pl.xlabel('year')\n",
        "pl.ylabel('population')"
      ],
      "execution_count": 49,
      "outputs": [
        {
          "output_type": "execute_result",
          "data": {
            "text/plain": [
              "Text(0, 0.5, 'population')"
            ]
          },
          "metadata": {
            "tags": []
          },
          "execution_count": 49
        },
        {
          "output_type": "display_data",
          "data": {
            "image/png": "[encoded data removed]",
            "text/plain": [
              "<Figure size 432x288 with 1 Axes>"
            ]
          },
          "metadata": {
            "tags": [],
            "needs_background": "light"
          }
        }
      ]
    },
    {
      "cell_type": "markdown",
      "metadata": {
        "id": "G4Ye65DPYGTC"
      },
      "source": [
        "# PART 4 - interpretation\n"
      ]
    },
    {
      "cell_type": "markdown",
      "metadata": {
        "id": "9-gd8Oz9VLln"
      },
      "source": [
        "\n",
        "\n",
        "\n",
        "# TASK 4.I\n",
        "extract the name of the countries in the 2 smallest clusters. Is there anything in common that gives away why they may have the same trends? If you have time try a quick google search"
      ]
    }
  ]
}