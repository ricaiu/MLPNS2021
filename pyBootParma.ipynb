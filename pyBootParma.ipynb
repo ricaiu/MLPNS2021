{
  "nbformat": 4,
  "nbformat_minor": 0,
  "metadata": {
    "colab": {
      "name": "pyBootParma.ipynb",
      "provenance": [],
      "collapsed_sections": [],
      "authorship_tag": "ABX9TyNZi5qIGWHL2vun/6BqTi6Q",
      "include_colab_link": true
    },
    "kernelspec": {
      "name": "python3",
      "display_name": "Python 3"
    }
  },
  "cells": [
    {
      "cell_type": "markdown",
      "metadata": {
        "id": "view-in-github",
        "colab_type": "text"
      },
      "source": [
        "<a href=\"https://colab.research.google.com/github/ricaiu/MLPNS2021/blob/main/pyBootParma.ipynb\" target=\"_parent\"><img src=\"https://colab.research.google.com/assets/colab-badge.svg\" alt=\"Open In Colab\"/></a>"
      ]
    },
    {
      "cell_type": "markdown",
      "metadata": {
        "id": "IKZcBKEFW0Pi"
      },
      "source": [
        "# My first Notebook"
      ]
    },
    {
      "cell_type": "markdown",
      "metadata": {
        "id": "1eHpLQYnWkKH"
      },
      "source": [
        "Notebook for learning and exercising on python"
      ]
    },
    {
      "cell_type": "code",
      "metadata": {
        "id": "LOst8dGvWr8z"
      },
      "source": [
        "dictVariable={'keyInt':0,\n",
        "              'keyFloat':3.,\n",
        "              'keyString':'hello',\n",
        "              'keyDict':{}}"
      ],
      "execution_count": 7,
      "outputs": []
    },
    {
      "cell_type": "code",
      "metadata": {
        "colab": {
          "base_uri": "https://localhost:8080/"
        },
        "id": "WITa-SKYddKc",
        "outputId": "5466f519-6bc1-46bf-90b0-615be0a83316"
      },
      "source": [
        "dictVariable"
      ],
      "execution_count": 8,
      "outputs": [
        {
          "output_type": "execute_result",
          "data": {
            "text/plain": [
              "{'keyDict': {}, 'keyFloat': 3.0, 'keyInt': 0, 'keyString': 'hello'}"
            ]
          },
          "metadata": {
            "tags": []
          },
          "execution_count": 8
        }
      ]
    },
    {
      "cell_type": "code",
      "metadata": {
        "id": "73kg8CX8eAPU"
      },
      "source": [
        "dictVariable['keyList']=[]"
      ],
      "execution_count": 9,
      "outputs": []
    },
    {
      "cell_type": "code",
      "metadata": {
        "colab": {
          "base_uri": "https://localhost:8080/"
        },
        "id": "L6Csw8iieQaO",
        "outputId": "9bc1b22a-72dc-41e1-ab3e-ec7733070a60"
      },
      "source": [
        "dictVariable"
      ],
      "execution_count": 10,
      "outputs": [
        {
          "output_type": "execute_result",
          "data": {
            "text/plain": [
              "{'keyDict': {},\n",
              " 'keyFloat': 3.0,\n",
              " 'keyInt': 0,\n",
              " 'keyList': [],\n",
              " 'keyString': 'hello'}"
            ]
          },
          "metadata": {
            "tags": []
          },
          "execution_count": 10
        }
      ]
    },
    {
      "cell_type": "code",
      "metadata": {
        "id": "IPDMoOQxeTMm"
      },
      "source": [
        "dictVariable['keyDict']['nested']=0.1"
      ],
      "execution_count": 11,
      "outputs": []
    },
    {
      "cell_type": "code",
      "metadata": {
        "colab": {
          "base_uri": "https://localhost:8080/"
        },
        "id": "F5ZcRjZkepl2",
        "outputId": "d8c60355-61b6-44e9-a8e3-d82de72db341"
      },
      "source": [
        "dictVariable\n"
      ],
      "execution_count": 12,
      "outputs": [
        {
          "output_type": "execute_result",
          "data": {
            "text/plain": [
              "{'keyDict': {'nested': 0.1},\n",
              " 'keyFloat': 3.0,\n",
              " 'keyInt': 0,\n",
              " 'keyList': [],\n",
              " 'keyString': 'hello'}"
            ]
          },
          "metadata": {
            "tags": []
          },
          "execution_count": 12
        }
      ]
    },
    {
      "cell_type": "code",
      "metadata": {
        "colab": {
          "base_uri": "https://localhost:8080/",
          "height": 35
        },
        "id": "H_VPi--Beq8A",
        "outputId": "0b39bafe-8d23-4d1f-8e4e-bd15ca2af889"
      },
      "source": [
        "stringVariable='hello'\n",
        "stringVariable"
      ],
      "execution_count": 13,
      "outputs": [
        {
          "output_type": "execute_result",
          "data": {
            "application/vnd.google.colaboratory.intrinsic+json": {
              "type": "string"
            },
            "text/plain": [
              "'hello'"
            ]
          },
          "metadata": {
            "tags": []
          },
          "execution_count": 13
        }
      ]
    },
    {
      "cell_type": "code",
      "metadata": {
        "colab": {
          "base_uri": "https://localhost:8080/",
          "height": 35
        },
        "id": "cNfH_dGFfqGH",
        "outputId": "b7940d93-2512-4de1-e275-d648bbbe4000"
      },
      "source": [
        "stringVariable = stringVariable.capitalize()\n",
        "stringVariable"
      ],
      "execution_count": 14,
      "outputs": [
        {
          "output_type": "execute_result",
          "data": {
            "application/vnd.google.colaboratory.intrinsic+json": {
              "type": "string"
            },
            "text/plain": [
              "'Hello'"
            ]
          },
          "metadata": {
            "tags": []
          },
          "execution_count": 14
        }
      ]
    },
    {
      "cell_type": "code",
      "metadata": {
        "id": "Afs3f2gfgEJ_"
      },
      "source": [
        ""
      ],
      "execution_count": null,
      "outputs": []
    }
  ]
}