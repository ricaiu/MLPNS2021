{
  "nbformat": 4,
  "nbformat_minor": 0,
  "metadata": {
    "colab": {
      "name": "pyBootParma.ipynb",
      "provenance": [],
      "collapsed_sections": [],
      "authorship_tag": "ABX9TyOerYFHkKBgV6MrO7jUNZ25",
      "include_colab_link": true
    },
    "kernelspec": {
      "name": "python3",
      "display_name": "Python 3"
    }
  },
  "cells": [
    {
      "cell_type": "markdown",
      "metadata": {
        "id": "view-in-github",
        "colab_type": "text"
      },
      "source": [
        "<a href=\"https://colab.research.google.com/github/ricaiu/MLPNS2021/blob/main/pyBootParma.ipynb\" target=\"_parent\"><img src=\"https://colab.research.google.com/assets/colab-badge.svg\" alt=\"Open In Colab\"/></a>"
      ]
    },
    {
      "cell_type": "markdown",
      "metadata": {
        "id": "IKZcBKEFW0Pi"
      },
      "source": [
        "# My first Notebook"
      ]
    },
    {
      "cell_type": "markdown",
      "metadata": {
        "id": "1eHpLQYnWkKH"
      },
      "source": [
        "Notebook for learning and exercising on python"
      ]
    },
    {
      "cell_type": "code",
      "metadata": {
        "id": "LOst8dGvWr8z"
      },
      "source": [
        "dictVariable={'keyInt':0,\n",
        "              'keyFloat':3.,\n",
        "              'keyString':'hello',\n",
        "              'keyDict':{}}"
      ],
      "execution_count": 7,
      "outputs": []
    },
    {
      "cell_type": "code",
      "metadata": {
        "colab": {
          "base_uri": "https://localhost:8080/"
        },
        "id": "WITa-SKYddKc",
        "outputId": "5466f519-6bc1-46bf-90b0-615be0a83316"
      },
      "source": [
        "dictVariable"
      ],
      "execution_count": 8,
      "outputs": [
        {
          "output_type": "execute_result",
          "data": {
            "text/plain": [
              "{'keyDict': {}, 'keyFloat': 3.0, 'keyInt': 0, 'keyString': 'hello'}"
            ]
          },
          "metadata": {
            "tags": []
          },
          "execution_count": 8
        }
      ]
    },
    {
      "cell_type": "code",
      "metadata": {
        "id": "73kg8CX8eAPU"
      },
      "source": [
        "dictVariable['keyList']=[]"
      ],
      "execution_count": 9,
      "outputs": []
    },
    {
      "cell_type": "code",
      "metadata": {
        "colab": {
          "base_uri": "https://localhost:8080/"
        },
        "id": "L6Csw8iieQaO",
        "outputId": "9bc1b22a-72dc-41e1-ab3e-ec7733070a60"
      },
      "source": [
        "dictVariable"
      ],
      "execution_count": 10,
      "outputs": [
        {
          "output_type": "execute_result",
          "data": {
            "text/plain": [
              "{'keyDict': {},\n",
              " 'keyFloat': 3.0,\n",
              " 'keyInt': 0,\n",
              " 'keyList': [],\n",
              " 'keyString': 'hello'}"
            ]
          },
          "metadata": {
            "tags": []
          },
          "execution_count": 10
        }
      ]
    },
    {
      "cell_type": "code",
      "metadata": {
        "id": "IPDMoOQxeTMm"
      },
      "source": [
        "dictVariable['keyDict']['nested']=0.1"
      ],
      "execution_count": 11,
      "outputs": []
    },
    {
      "cell_type": "code",
      "metadata": {
        "colab": {
          "base_uri": "https://localhost:8080/"
        },
        "id": "F5ZcRjZkepl2",
        "outputId": "d8c60355-61b6-44e9-a8e3-d82de72db341"
      },
      "source": [
        "dictVariable\n"
      ],
      "execution_count": 12,
      "outputs": [
        {
          "output_type": "execute_result",
          "data": {
            "text/plain": [
              "{'keyDict': {'nested': 0.1},\n",
              " 'keyFloat': 3.0,\n",
              " 'keyInt': 0,\n",
              " 'keyList': [],\n",
              " 'keyString': 'hello'}"
            ]
          },
          "metadata": {
            "tags": []
          },
          "execution_count": 12
        }
      ]
    },
    {
      "cell_type": "code",
      "metadata": {
        "colab": {
          "base_uri": "https://localhost:8080/",
          "height": 35
        },
        "id": "H_VPi--Beq8A",
        "outputId": "0b39bafe-8d23-4d1f-8e4e-bd15ca2af889"
      },
      "source": [
        "stringVariable='hello'\n",
        "stringVariable"
      ],
      "execution_count": 13,
      "outputs": [
        {
          "output_type": "execute_result",
          "data": {
            "application/vnd.google.colaboratory.intrinsic+json": {
              "type": "string"
            },
            "text/plain": [
              "'hello'"
            ]
          },
          "metadata": {
            "tags": []
          },
          "execution_count": 13
        }
      ]
    },
    {
      "cell_type": "code",
      "metadata": {
        "colab": {
          "base_uri": "https://localhost:8080/",
          "height": 35
        },
        "id": "cNfH_dGFfqGH",
        "outputId": "b7940d93-2512-4de1-e275-d648bbbe4000"
      },
      "source": [
        "stringVariable = stringVariable.capitalize()\n",
        "stringVariable"
      ],
      "execution_count": 14,
      "outputs": [
        {
          "output_type": "execute_result",
          "data": {
            "application/vnd.google.colaboratory.intrinsic+json": {
              "type": "string"
            },
            "text/plain": [
              "'Hello'"
            ]
          },
          "metadata": {
            "tags": []
          },
          "execution_count": 14
        }
      ]
    },
    {
      "cell_type": "code",
      "metadata": {
        "id": "Afs3f2gfgEJ_"
      },
      "source": [
        ""
      ],
      "execution_count": null,
      "outputs": []
    },
    {
      "cell_type": "markdown",
      "metadata": {
        "id": "l_wiS4cqmHz_"
      },
      "source": [
        "numpy array are like pointers"
      ]
    },
    {
      "cell_type": "code",
      "metadata": {
        "id": "2U5FjL2KmJsh"
      },
      "source": [
        "import numpy as np"
      ],
      "execution_count": 15,
      "outputs": []
    },
    {
      "cell_type": "code",
      "metadata": {
        "id": "I4JD_XWMmhZG"
      },
      "source": [
        "zerosarray = np.zeros(10)\n",
        "onesarray = np.ones(10)"
      ],
      "execution_count": 29,
      "outputs": []
    },
    {
      "cell_type": "code",
      "metadata": {
        "colab": {
          "base_uri": "https://localhost:8080/"
        },
        "id": "UP58AEu3mn1w",
        "outputId": "9daffb07-d0cb-4dfe-caeb-31719df96d6a"
      },
      "source": [
        "zerosarray+onesarray"
      ],
      "execution_count": 30,
      "outputs": [
        {
          "output_type": "execute_result",
          "data": {
            "text/plain": [
              "array([1., 1., 1., 1., 1., 1., 1., 1., 1., 1.])"
            ]
          },
          "metadata": {
            "tags": []
          },
          "execution_count": 30
        }
      ]
    },
    {
      "cell_type": "code",
      "metadata": {
        "colab": {
          "base_uri": "https://localhost:8080/"
        },
        "id": "g_wQBM9Lm-q2",
        "outputId": "5838097b-09b9-4807-b860-c26172b84c81"
      },
      "source": [
        "zerosarray*onesarray"
      ],
      "execution_count": 31,
      "outputs": [
        {
          "output_type": "execute_result",
          "data": {
            "text/plain": [
              "array([0., 0., 0., 0., 0., 0., 0., 0., 0., 0.])"
            ]
          },
          "metadata": {
            "tags": []
          },
          "execution_count": 31
        }
      ]
    },
    {
      "cell_type": "code",
      "metadata": {
        "colab": {
          "base_uri": "https://localhost:8080/"
        },
        "id": "9FL0gyISni4H",
        "outputId": "a9c25171-460c-4398-a3dc-0d40d34f396a"
      },
      "source": [
        "np.arange(10.)"
      ],
      "execution_count": 32,
      "outputs": [
        {
          "output_type": "execute_result",
          "data": {
            "text/plain": [
              "array([0., 1., 2., 3., 4., 5., 6., 7., 8., 9.])"
            ]
          },
          "metadata": {
            "tags": []
          },
          "execution_count": 32
        }
      ]
    },
    {
      "cell_type": "code",
      "metadata": {
        "id": "xKhbi2PQoO64"
      },
      "source": [
        "oneDrandom = np.random.rand(10)\n",
        "#.randn genera numeri da una distr. gaussiana!"
      ],
      "execution_count": 40,
      "outputs": []
    },
    {
      "cell_type": "code",
      "metadata": {
        "id": "dGj0FhT3ohOj"
      },
      "source": [
        "gaussianRandom = np.random.randn(100)"
      ],
      "execution_count": 41,
      "outputs": []
    },
    {
      "cell_type": "code",
      "metadata": {
        "id": "ZJrZYZmGpXqg"
      },
      "source": [
        "#mylist[::-1] restituisce la lista al contrario"
      ],
      "execution_count": 42,
      "outputs": []
    },
    {
      "cell_type": "markdown",
      "metadata": {
        "id": "UH_I5LWrpowU"
      },
      "source": [
        "#Esercizio 1"
      ]
    },
    {
      "cell_type": "code",
      "metadata": {
        "id": "rQ29_t1opqyj"
      },
      "source": [
        "def isApalindrome(a):\n",
        "  a_nospace = a.replace(' ','')\n",
        "  b_nospace= a_nospace[::-1]\n",
        "  if b_nospace.lower() == a_nospace.lower():#so even capital letters work!\n",
        "    print('Yes!', a, 'is a palindrome')\n",
        "    print(a_nospace[:int(len(a_nospace)/2+0.5)].lower()) \n",
        "  else:\n",
        "    print('No!', a, 'is NOT a palindrome')"
      ],
      "execution_count": 96,
      "outputs": []
    },
    {
      "cell_type": "code",
      "metadata": {
        "colab": {
          "base_uri": "https://localhost:8080/"
        },
        "id": "2lTZCdCerRUI",
        "outputId": "2f30a922-eb0f-43a8-de85-2f222b5b21c4"
      },
      "source": [
        "isApalindrome('hello')"
      ],
      "execution_count": 97,
      "outputs": [
        {
          "output_type": "stream",
          "text": [
            "No! hello is NOT a palindrome\n"
          ],
          "name": "stdout"
        }
      ]
    },
    {
      "cell_type": "code",
      "metadata": {
        "colab": {
          "base_uri": "https://localhost:8080/"
        },
        "id": "ACYoPRsYrT_t",
        "outputId": "e3b796ea-e0f5-4807-e544-75791b1bd46a"
      },
      "source": [
        "isApalindrome('ianlnai')\n"
      ],
      "execution_count": 98,
      "outputs": [
        {
          "output_type": "stream",
          "text": [
            "Yes! ianlnai is a palindrome\n",
            "ianl\n"
          ],
          "name": "stdout"
        }
      ]
    },
    {
      "cell_type": "code",
      "metadata": {
        "id": "OH-DnrHYrVxy"
      },
      "source": [
        ""
      ],
      "execution_count": 98,
      "outputs": []
    },
    {
      "cell_type": "code",
      "metadata": {
        "colab": {
          "base_uri": "https://localhost:8080/"
        },
        "id": "AAFAXAWdslMz",
        "outputId": "23f5eab8-fd51-4607-bb22-74b2ba0730b8"
      },
      "source": [
        "isApalindrome('i topi non avevano nipoti')"
      ],
      "execution_count": 99,
      "outputs": [
        {
          "output_type": "stream",
          "text": [
            "Yes! i topi non avevano nipoti is a palindrome\n",
            "itopinonave\n"
          ],
          "name": "stdout"
        }
      ]
    },
    {
      "cell_type": "code",
      "metadata": {
        "colab": {
          "base_uri": "https://localhost:8080/"
        },
        "id": "-dmRHtaDs3ui",
        "outputId": "0269de33-63b6-477c-aaeb-cd91bb455d79"
      },
      "source": [
        "isApalindrome('I topi non avevano nipoti')"
      ],
      "execution_count": 100,
      "outputs": [
        {
          "output_type": "stream",
          "text": [
            "Yes! I topi non avevano nipoti is a palindrome\n",
            "itopinonave\n"
          ],
          "name": "stdout"
        }
      ]
    },
    {
      "cell_type": "code",
      "metadata": {
        "id": "UTpJ3hgOuKFK"
      },
      "source": [
        "from google.colab import drive"
      ],
      "execution_count": 101,
      "outputs": []
    },
    {
      "cell_type": "code",
      "metadata": {
        "colab": {
          "base_uri": "https://localhost:8080/"
        },
        "id": "mLPfvhPovrdh",
        "outputId": "69ac310b-6a1e-4633-dae1-5b946ada10db"
      },
      "source": [
        "drive.mount('/content/drive')"
      ],
      "execution_count": 102,
      "outputs": [
        {
          "output_type": "stream",
          "text": [
            "Mounted at /content/drive\n"
          ],
          "name": "stdout"
        }
      ]
    },
    {
      "cell_type": "code",
      "metadata": {
        "id": "N-VlIvibwWgn"
      },
      "source": [
        "from google.colab import drive"
      ],
      "execution_count": 103,
      "outputs": []
    },
    {
      "cell_type": "code",
      "metadata": {
        "colab": {
          "base_uri": "https://localhost:8080/"
        },
        "id": "lPQ44RZCwizI",
        "outputId": "5bcef755-4960-4d2c-8ead-4b909cfb4b05"
      },
      "source": [
        "ls"
      ],
      "execution_count": 104,
      "outputs": [
        {
          "output_type": "stream",
          "text": [
            "\u001b[0m\u001b[01;34mdrive\u001b[0m/  \u001b[01;34msample_data\u001b[0m/\n"
          ],
          "name": "stdout"
        }
      ]
    },
    {
      "cell_type": "code",
      "metadata": {
        "colab": {
          "base_uri": "https://localhost:8080/"
        },
        "id": "tJN4ev0awstD",
        "outputId": "a6abb9e7-dc7a-4b39-fd17-1579752bc472"
      },
      "source": [
        "cd drive/"
      ],
      "execution_count": 105,
      "outputs": [
        {
          "output_type": "stream",
          "text": [
            "/content/drive\n"
          ],
          "name": "stdout"
        }
      ]
    },
    {
      "cell_type": "code",
      "metadata": {
        "colab": {
          "base_uri": "https://localhost:8080/"
        },
        "id": "hIRQATqnwwuJ",
        "outputId": "72eaa4d3-a50e-4ed5-e2ac-04c448a06599"
      },
      "source": [
        "ls"
      ],
      "execution_count": 106,
      "outputs": [
        {
          "output_type": "stream",
          "text": [
            "\u001b[0m\u001b[01;34mMyDrive\u001b[0m/\n"
          ],
          "name": "stdout"
        }
      ]
    },
    {
      "cell_type": "code",
      "metadata": {
        "colab": {
          "base_uri": "https://localhost:8080/"
        },
        "id": "2dCmRoYNwxRm",
        "outputId": "d1831093-7f9c-4c84-ca63-738c01ab2d2f"
      },
      "source": [
        "cd MyDrive/"
      ],
      "execution_count": 107,
      "outputs": [
        {
          "output_type": "stream",
          "text": [
            "/content/drive/MyDrive\n"
          ],
          "name": "stdout"
        }
      ]
    },
    {
      "cell_type": "code",
      "metadata": {
        "colab": {
          "base_uri": "https://localhost:8080/"
        },
        "id": "fwLdmeF1w3eb",
        "outputId": "da2400b4-48da-40d9-c945-40b4240cf9ae"
      },
      "source": [
        "ls"
      ],
      "execution_count": 108,
      "outputs": [
        {
          "output_type": "stream",
          "text": [
            "'041BB_110389 (1).csv.gsheet'\n",
            " 041BB_110389.csv\n",
            " 041BB_110389.csv.gsheet\n",
            " \u001b[0m\u001b[01;34mAcustica\u001b[0m/\n",
            " Halliday-Fisica11.pdf\n",
            " \u001b[01;34mMETODI\u001b[0m/\n",
            " METODI.zip\n",
            "'Nuovo documento di testo (3).txt'\n",
            "'[P.Mazzoldi, M.Nigro, C.Voci] Fisica Vol 1 - Meccanica E Termodinamica MNV.pdf'\n",
            " progetto-pittorino.gdoc\n",
            " progetto-pittorino.pdf\n",
            "'Silvestrini Mencuccini - Fisica 1.pdf'\n"
          ],
          "name": "stdout"
        }
      ]
    },
    {
      "cell_type": "code",
      "metadata": {
        "colab": {
          "base_uri": "https://localhost:8080/"
        },
        "id": "KuYW_O5Gw4-_",
        "outputId": "e7ff704c-2227-47e7-cda0-a27b9c07eb4c"
      },
      "source": [
        "ls"
      ],
      "execution_count": 109,
      "outputs": [
        {
          "output_type": "stream",
          "text": [
            "'041BB_110389 (1).csv.gsheet'\n",
            " 041BB_110389.csv\n",
            " 041BB_110389.csv.gsheet\n",
            " \u001b[0m\u001b[01;34mAcustica\u001b[0m/\n",
            " Halliday-Fisica11.pdf\n",
            " ispalindrome.py\n",
            " \u001b[01;34mMETODI\u001b[0m/\n",
            " METODI.zip\n",
            "'Nuovo documento di testo (3).txt'\n",
            "'[P.Mazzoldi, M.Nigro, C.Voci] Fisica Vol 1 - Meccanica E Termodinamica MNV.pdf'\n",
            " progetto-pittorino.gdoc\n",
            " progetto-pittorino.pdf\n",
            "'Silvestrini Mencuccini - Fisica 1.pdf'\n"
          ],
          "name": "stdout"
        }
      ]
    },
    {
      "cell_type": "code",
      "metadata": {
        "id": "C3IWjR3RxCOo"
      },
      "source": [
        "import ispalindrome as ipl"
      ],
      "execution_count": 111,
      "outputs": []
    },
    {
      "cell_type": "code",
      "metadata": {
        "colab": {
          "base_uri": "https://localhost:8080/"
        },
        "id": "HQxLJI_dxRyT",
        "outputId": "1d65fda1-031f-4649-f887-f13f2ac12543"
      },
      "source": [
        "ipl.lookForPal('anna')"
      ],
      "execution_count": 114,
      "outputs": [
        {
          "output_type": "stream",
          "text": [
            "Yes its a palindrome an\n"
          ],
          "name": "stdout"
        },
        {
          "output_type": "execute_result",
          "data": {
            "text/plain": [
              "1"
            ]
          },
          "metadata": {
            "tags": []
          },
          "execution_count": 114
        }
      ]
    },
    {
      "cell_type": "code",
      "metadata": {
        "colab": {
          "base_uri": "https://localhost:8080/"
        },
        "id": "G0goxpm30ZJN",
        "outputId": "70207009-ad26-4af1-d070-64b281745d42"
      },
      "source": [
        "!curl -O https://raw.githubusercontent.com/fedhere/PyBOOT/master/busBusses.npy"
      ],
      "execution_count": 115,
      "outputs": [
        {
          "output_type": "stream",
          "text": [
            "  % Total    % Received % Xferd  Average Speed   Time    Time     Time  Current\n",
            "                                 Dload  Upload   Total   Spent    Left  Speed\n",
            "\r  0     0    0     0    0     0      0      0 --:--:-- --:--:-- --:--:--     0\r100   240  100   240    0     0   3934      0 --:--:-- --:--:-- --:--:--  4000\n"
          ],
          "name": "stdout"
        }
      ]
    },
    {
      "cell_type": "code",
      "metadata": {
        "colab": {
          "base_uri": "https://localhost:8080/"
        },
        "id": "DIQYWVIP1ZC6",
        "outputId": "002b42c7-73e9-4ba3-ba1c-1793314d015e"
      },
      "source": [
        "!curl -O https://raw.githubusercontent.com/fedhere/PyBOOT/master/busTimeTable.npy"
      ],
      "execution_count": 116,
      "outputs": [
        {
          "output_type": "stream",
          "text": [
            "  % Total    % Received % Xferd  Average Speed   Time    Time     Time  Current\n",
            "                                 Dload  Upload   Total   Spent    Left  Speed\n",
            "\r  0     0    0     0    0     0      0      0 --:--:-- --:--:-- --:--:--     0\r100  1680  100  1680    0     0  22702      0 --:--:-- --:--:-- --:--:-- 22702\n"
          ],
          "name": "stdout"
        }
      ]
    },
    {
      "cell_type": "code",
      "metadata": {
        "colab": {
          "base_uri": "https://localhost:8080/"
        },
        "id": "m3jziLpj1dBw",
        "outputId": "95625c30-a4fd-4d28-a3c4-6fae4aafd107"
      },
      "source": [
        "ls\n"
      ],
      "execution_count": 117,
      "outputs": [
        {
          "output_type": "stream",
          "text": [
            "'041BB_110389 (1).csv.gsheet'\n",
            " 041BB_110389.csv\n",
            " 041BB_110389.csv.gsheet\n",
            " \u001b[0m\u001b[01;34mAcustica\u001b[0m/\n",
            " busBusses.npy\n",
            " busTimeTable.npy\n",
            " Halliday-Fisica11.pdf\n",
            " ispalindrome.py\n",
            " \u001b[01;34mMETODI\u001b[0m/\n",
            " METODI.zip\n",
            "'Nuovo documento di testo (3).txt'\n",
            "'[P.Mazzoldi, M.Nigro, C.Voci] Fisica Vol 1 - Meccanica E Termodinamica MNV.pdf'\n",
            " progetto-pittorino.gdoc\n",
            " progetto-pittorino.pdf\n",
            " \u001b[01;34m__pycache__\u001b[0m/\n",
            "'Silvestrini Mencuccini - Fisica 1.pdf'\n"
          ],
          "name": "stdout"
        }
      ]
    },
    {
      "cell_type": "code",
      "metadata": {
        "id": "a2g7jUxz1eXe"
      },
      "source": [
        "tt = np.load('busTimeTable.npy')\n",
        "busses = np.load('busBusses.npy')"
      ],
      "execution_count": 118,
      "outputs": []
    },
    {
      "cell_type": "code",
      "metadata": {
        "colab": {
          "base_uri": "https://localhost:8080/"
        },
        "id": "S6rgQq2T1tEz",
        "outputId": "572ac612-8d93-474d-c16f-237e855d3542"
      },
      "source": [
        "tt\n"
      ],
      "execution_count": 119,
      "outputs": [
        {
          "output_type": "execute_result",
          "data": {
            "text/plain": [
              "array([[ 91.82869011,  72.99278771,  96.74459251,  73.41298391,\n",
              "         85.58215726, 101.38226456,  96.97680737,  95.56072596,\n",
              "         77.87195303,  78.37553397],\n",
              "       [ 61.03022409,  60.00463334,  67.86228679,  41.10873249,\n",
              "         53.37659575,  36.91790247,  53.62835897,  55.73660035,\n",
              "         58.56814116,  54.98889748],\n",
              "       [ 60.98477297,  45.55742203,  45.88400007,  66.16346096,\n",
              "         60.03163411,  50.85322708,  45.37677315,  53.8142472 ,\n",
              "         54.54569551,  60.64418839],\n",
              "       [ 87.98620643,  55.8021912 ,  81.02751282,  66.19019631,\n",
              "         53.30000683,  67.55780543,  74.38103569,  71.13924744,\n",
              "         87.67477883,  67.09783283],\n",
              "       [ 73.8097995 ,  79.25914025,  86.31085813,  99.77766307,\n",
              "         90.29078454,  84.37561182,  95.84112464,  84.50840611,\n",
              "         97.12166748, 105.17515918],\n",
              "       [ 77.14467806,  71.12444623,  52.12373301,  73.45946947,\n",
              "         91.36942688,  72.86854378,  68.71403738,  72.43112835,\n",
              "         61.79702835,  72.26935691],\n",
              "       [ 86.30704523, 102.23174241, 113.01884237,  95.69827044,\n",
              "         98.59959209, 114.93276158, 104.41133895, 105.50238628,\n",
              "         93.35943062,  98.78277939],\n",
              "       [ 74.71226929,  80.97147937,  89.16214966,  70.2307603 ,\n",
              "         81.4312056 ,  78.3874604 ,  78.96898309,  72.10555491,\n",
              "         55.51923827,  79.02316128],\n",
              "       [ 77.92696605,  92.77956675,  69.3108149 ,  61.53129422,\n",
              "         70.65140894,  76.97932739,  73.41862304,  84.09255185,\n",
              "         63.36670996,  67.99069123],\n",
              "       [ 49.24024409,  67.65617269,  61.19613048,  51.40181978,\n",
              "         44.90729398,  68.52445254,  78.97249561,  52.57678652,\n",
              "         53.74647403,  54.37398039],\n",
              "       [ 59.18999377,  70.37804103,  48.60766952,  81.46181456,\n",
              "         64.85214737,  65.33415395,  58.19399315,  61.38295111,\n",
              "         57.04243639,  59.63865558],\n",
              "       [ 75.12543348, 106.12441583,  85.73822318,  85.38739475,\n",
              "         67.688885  ,  78.10374313,  85.17605977,  80.99901671,\n",
              "         87.65882487,  86.52981761],\n",
              "       [ 63.75814098,  53.37348145,  70.99872588,  77.81639011,\n",
              "         62.0375387 ,  56.34111999,  68.85249945,  55.82441791,\n",
              "         68.08625797,  72.10975084],\n",
              "       [ 15.59478274,  33.19279169,  35.26912395,  30.90715331,\n",
              "         56.00936929,  32.58024267,  46.41792735,  42.82946792,\n",
              "         43.28099373,  49.37757159],\n",
              "       [ 46.16732427,  81.31977757,  75.50469581,  65.69300662,\n",
              "         56.53048576,  56.31828323,  49.76376656,  56.47451759,\n",
              "         65.87847643,  61.13387985],\n",
              "       [ 77.280952  ,  76.29909699,  73.30769388,  96.05834373,\n",
              "         89.29221424,  87.4965901 ,  65.51103779,  85.00879678,\n",
              "         83.01854661,  70.11890182],\n",
              "       [ 60.22412814,  51.24633613,  29.71850033,  47.59939621,\n",
              "         61.07689437,  58.55899776,  40.75295312,  54.98036344,\n",
              "         52.91969315,  44.25847756],\n",
              "       [ 48.79074854,  61.22026506,  60.92437628,  60.83824996,\n",
              "         53.31451393,  53.76179385,  52.20652832,  65.24639906,\n",
              "         18.21655529,  66.6490358 ],\n",
              "       [ 71.92154159,  80.80014634,  67.85942205,  61.04740331,\n",
              "         58.18359773,  66.40353147,  77.43164409,  74.96692462,\n",
              "         69.20014753,  80.85366556],\n",
              "       [ 78.79188234,  89.45851705,  70.64935937,  58.27493978,\n",
              "         68.58490247,  89.96935633,  66.60290963,  65.79740182,\n",
              "         70.80114802,  75.60585109]])"
            ]
          },
          "metadata": {
            "tags": []
          },
          "execution_count": 119
        }
      ]
    },
    {
      "cell_type": "code",
      "metadata": {
        "colab": {
          "base_uri": "https://localhost:8080/"
        },
        "id": "0scwTutW2pZ_",
        "outputId": "49a4cad9-b126-4ee9-f415-b3d8cb0d5e2e"
      },
      "source": [
        "busses"
      ],
      "execution_count": 120,
      "outputs": [
        {
          "output_type": "execute_result",
          "data": {
            "text/plain": [
              "array([ 77,  72,  79,  97,  85,  57,  86,  96,  31,  76,  33,  98, 109,\n",
              "       108,  52,  92,  58,  94,  66, 104])"
            ]
          },
          "metadata": {
            "tags": []
          },
          "execution_count": 120
        }
      ]
    },
    {
      "cell_type": "code",
      "metadata": {
        "colab": {
          "base_uri": "https://localhost:8080/"
        },
        "id": "bSEDXnJv2qSb",
        "outputId": "d00ef095-153a-4432-dd07-f0e1df33a426"
      },
      "source": [
        "tt.mean(axis=1)"
      ],
      "execution_count": 129,
      "outputs": [
        {
          "output_type": "execute_result",
          "data": {
            "text/plain": [
              "array([ 87.07284964,  54.32223729,  54.38554215,  71.21568138,\n",
              "        89.64702147,  71.33018484, 101.28441894,  76.05122622,\n",
              "        73.80479543,  58.25958501,  62.60818564,  83.85318143,\n",
              "        64.91983233,  38.54594242,  61.47842137,  80.33921739,\n",
              "        50.13357402,  54.11684661,  70.86680243,  73.45362679])"
            ]
          },
          "metadata": {
            "tags": []
          },
          "execution_count": 129
        }
      ]
    },
    {
      "cell_type": "code",
      "metadata": {
        "colab": {
          "base_uri": "https://localhost:8080/"
        },
        "id": "LDfd3TyP2385",
        "outputId": "a4b1eb2a-b70b-4828-8c6e-4148234018d2"
      },
      "source": [
        "tt.shape"
      ],
      "execution_count": 122,
      "outputs": [
        {
          "output_type": "execute_result",
          "data": {
            "text/plain": [
              "(20, 10)"
            ]
          },
          "metadata": {
            "tags": []
          },
          "execution_count": 122
        }
      ]
    },
    {
      "cell_type": "code",
      "metadata": {
        "id": "694pDsUi26Lv"
      },
      "source": [
        "hours = np.arange(1,11)"
      ],
      "execution_count": 148,
      "outputs": []
    },
    {
      "cell_type": "code",
      "metadata": {
        "colab": {
          "base_uri": "https://localhost:8080/"
        },
        "id": "5g1B5QGm3DGO",
        "outputId": "4a65cb38-138d-40e7-fe5b-0d2e1e6f77b7"
      },
      "source": [
        "hours"
      ],
      "execution_count": 149,
      "outputs": [
        {
          "output_type": "execute_result",
          "data": {
            "text/plain": [
              "array([ 1,  2,  3,  4,  5,  6,  7,  8,  9, 10])"
            ]
          },
          "metadata": {
            "tags": []
          },
          "execution_count": 149
        }
      ]
    },
    {
      "cell_type": "code",
      "metadata": {
        "colab": {
          "base_uri": "https://localhost:8080/"
        },
        "id": "nhkadOg73Fh1",
        "outputId": "8493144f-664a-413b-eef2-c2eb2e1e2eb0"
      },
      "source": [
        "timeAvg = tt.mean(axis=1)\n",
        "busAvg = tt.mean(axis = 0)\n",
        "print(busAvg.max())\n",
        "print(timeAvg.max())\n",
        "index = np.where(timeAvg == timeAvg.max())\n",
        "print(index[0])\n",
        "print(\"il bus che ci mette più tempo\", busses[index[0]])"
      ],
      "execution_count": 150,
      "outputs": [
        {
          "output_type": "stream",
          "text": [
            "71.58962255653003\n",
            "101.28441893639999\n",
            "[6]\n",
            "il bus che ci mette più tempo [86]\n"
          ],
          "name": "stdout"
        }
      ]
    },
    {
      "cell_type": "code",
      "metadata": {
        "colab": {
          "base_uri": "https://localhost:8080/"
        },
        "id": "e77zy6FA3uKu",
        "outputId": "b0329d38-3d15-47af-de8b-4815a18cc3ec"
      },
      "source": [
        "timeAvg == timeAvg.max()\n",
        "busAvg == busAvg.max()"
      ],
      "execution_count": 152,
      "outputs": [
        {
          "output_type": "execute_result",
          "data": {
            "text/plain": [
              "array([False,  True, False, False, False, False, False, False, False,\n",
              "       False])"
            ]
          },
          "metadata": {
            "tags": []
          },
          "execution_count": 152
        }
      ]
    },
    {
      "cell_type": "code",
      "metadata": {
        "colab": {
          "base_uri": "https://localhost:8080/"
        },
        "id": "6_QLULJi6emv",
        "outputId": "01325bf6-97fd-4d42-cc98-9eccc70d4514"
      },
      "source": [
        "timeAvg[timeAvg == timeAvg.max()]#broadcasting!! trovare l'indice che rispetta una condizione"
      ],
      "execution_count": 153,
      "outputs": [
        {
          "output_type": "execute_result",
          "data": {
            "text/plain": [
              "array([101.28441894])"
            ]
          },
          "metadata": {
            "tags": []
          },
          "execution_count": 153
        }
      ]
    },
    {
      "cell_type": "code",
      "metadata": {
        "colab": {
          "base_uri": "https://localhost:8080/"
        },
        "id": "YaYG0YhB62d_",
        "outputId": "17d54b36-9164-464b-eb89-ad76d5b82745"
      },
      "source": [
        "busAvg[busAvg == busAvg.max()]"
      ],
      "execution_count": 154,
      "outputs": [
        {
          "output_type": "execute_result",
          "data": {
            "text/plain": [
              "array([71.58962256])"
            ]
          },
          "metadata": {
            "tags": []
          },
          "execution_count": 154
        }
      ]
    },
    {
      "cell_type": "code",
      "metadata": {
        "colab": {
          "base_uri": "https://localhost:8080/"
        },
        "id": "9KnUIIWd6_G7",
        "outputId": "fb65f82d-1dcb-4923-8331-24213bfda049"
      },
      "source": [
        "hours[busAvg == busAvg.max()] #l'ora con il percorso più lungo in media"
      ],
      "execution_count": 158,
      "outputs": [
        {
          "output_type": "execute_result",
          "data": {
            "text/plain": [
              "array([2])"
            ]
          },
          "metadata": {
            "tags": []
          },
          "execution_count": 158
        }
      ]
    },
    {
      "cell_type": "code",
      "metadata": {
        "colab": {
          "base_uri": "https://localhost:8080/"
        },
        "id": "D3miI6IS7AkG",
        "outputId": "f4a5475e-834f-40ef-bdb5-49b3490dc919"
      },
      "source": [
        "busses[timeAvg == timeAvg.max()] #il bus che in media ha corre per più tempo"
      ],
      "execution_count": 159,
      "outputs": [
        {
          "output_type": "execute_result",
          "data": {
            "text/plain": [
              "array([86])"
            ]
          },
          "metadata": {
            "tags": []
          },
          "execution_count": 159
        }
      ]
    },
    {
      "cell_type": "code",
      "metadata": {
        "id": "IN2Sg5o27Ewm"
      },
      "source": [
        ""
      ],
      "execution_count": null,
      "outputs": []
    }
  ]
}